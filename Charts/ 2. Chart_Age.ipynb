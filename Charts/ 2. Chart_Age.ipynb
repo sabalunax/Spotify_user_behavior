{
 "cells": [
  {
   "cell_type": "code",
   "execution_count": 1,
   "id": "d5155dbc-4854-42b6-8673-1fc841359626",
   "metadata": {},
   "outputs": [],
   "source": [
    "import pickle"
   ]
  },
  {
   "cell_type": "code",
   "execution_count": 2,
   "id": "326295de-6fef-4d69-a629-2db17e42e575",
   "metadata": {},
   "outputs": [],
   "source": [
    "%store -r df_grpd_age_short_sorted"
   ]
  },
  {
   "cell_type": "code",
   "execution_count": 3,
   "id": "3bd04420-fd2d-434f-acd2-e2d16483bb0f",
   "metadata": {},
   "outputs": [
    {
     "data": {
      "text/plain": [
       "'https://plotly.com/~sabalunax/21/'"
      ]
     },
     "execution_count": 3,
     "metadata": {},
     "output_type": "execute_result"
    }
   ],
   "source": [
    "import chart_studio\n",
    "import chart_studio.plotly as py\n",
    "import plotly.express as px\n",
    "\n",
    "import plotly.express as px\n",
    "\n",
    "username = 'sabalunax'\n",
    "api_key = 'xxx'\n",
    "\n",
    "paleta_kolorow = px.colors.qualitative.Dark2\n",
    "\n",
    "fig = px.bar(df_grpd_age_short_sorted, \n",
    "             x='short_preffered_premium', \n",
    "             y='count', \n",
    "             color='age',  \n",
    "             barmode='group',\n",
    "             labels={'short_preffered_premium': 'Preffered plan in total', 'count': 'Count', 'age': 'Age:'},\n",
    "             title='Preferred premium vs. no premium by age IN TOTAL',\n",
    "             width=1000,\n",
    "             height=600,\n",
    "             color_discrete_sequence=paleta_kolorow,\n",
    "             opacity=0.6\n",
    ")\n",
    "\n",
    "fig.update_layout(\n",
    "    plot_bgcolor='white',\n",
    "    yaxis=dict(showgrid=True, gridcolor='lightgray'),\n",
    "    title_x=0.5,\n",
    "     legend=dict(\n",
    "        orientation='h',  \n",
    "        yanchor='bottom',  \n",
    "        y=1.02, \n",
    "        xanchor='right',  \n",
    "        x=1\n",
    "    )\n",
    ")\n",
    "\n",
    "py.plot(fig, filename='Age_short', auto_open=True, sharing='public')"
   ]
  }
 ],
 "metadata": {
  "kernelspec": {
   "display_name": "Python 3 (ipykernel)",
   "language": "python",
   "name": "python3"
  },
  "language_info": {
   "codemirror_mode": {
    "name": "ipython",
    "version": 3
   },
   "file_extension": ".py",
   "mimetype": "text/x-python",
   "name": "python",
   "nbconvert_exporter": "python",
   "pygments_lexer": "ipython3",
   "version": "3.11.9"
  }
 },
 "nbformat": 4,
 "nbformat_minor": 5
}
