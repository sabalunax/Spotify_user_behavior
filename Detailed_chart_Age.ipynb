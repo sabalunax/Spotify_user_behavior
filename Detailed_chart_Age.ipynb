{
 "cells": [
  {
   "cell_type": "code",
   "execution_count": 1,
   "id": "2feae3e1-6e6d-4d6d-b23c-f4bd94d340e7",
   "metadata": {},
   "outputs": [],
   "source": [
    "import pickle"
   ]
  },
  {
   "cell_type": "code",
   "execution_count": 2,
   "id": "29b8c564-360a-4776-b838-3060ff5cfa85",
   "metadata": {},
   "outputs": [],
   "source": [
    "%store -r df_grpd_age_sorted"
   ]
  },
  {
   "cell_type": "code",
   "execution_count": 4,
   "id": "e1c53d2e-1cba-481f-87b5-6bf60eda8b44",
   "metadata": {},
   "outputs": [
    {
     "data": {
      "text/plain": [
       "'https://plotly.com/~sabalunax/17/'"
      ]
     },
     "execution_count": 4,
     "metadata": {},
     "output_type": "execute_result"
    }
   ],
   "source": [
    "import chart_studio\n",
    "import chart_studio.plotly as py\n",
    "import plotly.express as px\n",
    "\n",
    "import plotly.express as px\n",
    "\n",
    "username = 'sabalunax'\n",
    "api_key = 'xxx'\n",
    "\n",
    "chart_studio.tools.set_credentials_file(username=username, api_key=api_key)\n",
    "\n",
    "paleta_kolorow = px.colors.qualitative.Dark2\n",
    "\n",
    "fig = px.bar(df_grpd_age_sorted, \n",
    "             x='preffered_premium_plan', \n",
    "             y='count', \n",
    "             color='age',\n",
    "             barmode='group',\n",
    "             labels={'preffered_premium_plan': 'Preferred plan', 'count': 'Count', 'age': 'Age:'},\n",
    "             title='Preferred premium vs. no plan by age DETAILED',\n",
    "             width=1000,\n",
    "             height=600,\n",
    "             color_discrete_sequence=paleta_kolorow,\n",
    "             opacity=0.6)\n",
    "\n",
    "fig.update_xaxes(tickangle=10, tickmode='array')\n",
    "\n",
    "fig.update_layout(\n",
    "    plot_bgcolor='white',\n",
    "    yaxis=dict(showgrid=True, gridcolor='lightgray'),\n",
    "    title_x=0.5,\n",
    "    legend=dict(\n",
    "        orientation='h',  \n",
    "        yanchor='bottom', \n",
    "        y=1.02,  \n",
    "        xanchor='right', \n",
    "        x=1\n",
    "    )\n",
    ")\n",
    "\n",
    "py.plot(fig, filename='Age_detailed', auto_open=True, sharing='public')\n"
   ]
  }
 ],
 "metadata": {
  "kernelspec": {
   "display_name": "Python 3 (ipykernel)",
   "language": "python",
   "name": "python3"
  },
  "language_info": {
   "codemirror_mode": {
    "name": "ipython",
    "version": 3
   },
   "file_extension": ".py",
   "mimetype": "text/x-python",
   "name": "python",
   "nbconvert_exporter": "python",
   "pygments_lexer": "ipython3",
   "version": "3.11.9"
  }
 },
 "nbformat": 4,
 "nbformat_minor": 5
}
