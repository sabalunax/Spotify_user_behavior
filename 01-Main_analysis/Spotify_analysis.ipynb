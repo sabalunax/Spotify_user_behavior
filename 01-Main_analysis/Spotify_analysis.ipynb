{
 "cells": [
  {
   "cell_type": "markdown",
   "id": "dc6d97df-4a61-49c3-ab32-23eda14db709",
   "metadata": {},
   "source": [
    "# Uploading data"
   ]
  },
  {
   "cell_type": "code",
   "execution_count": 7,
   "id": "6f06267a-9344-467f-9ff9-b5ce987b3afa",
   "metadata": {},
   "outputs": [],
   "source": [
    "from sklearn.experimental import enable_iterative_imputer"
   ]
  },
  {
   "cell_type": "code",
   "execution_count": 8,
   "id": "fa9bfefa-214c-44fd-8438-f93eee43d29c",
   "metadata": {},
   "outputs": [],
   "source": [
    "import pandas as pd\n",
    "from statsmodels.imputation import mice\n",
    "from statsmodels.imputation.mice import MICEData\n",
    "from sklearn.impute import IterativeImputer\n",
    "from sklearn.impute import KNNImputer\n",
    "from sklearn.ensemble import RandomForestRegressor\n",
    "import numpy as np\n",
    "import seaborn as sns\n",
    "import matplotlib.pyplot as plt\n",
    "from scipy.stats import kendalltau"
   ]
  },
  {
   "cell_type": "code",
   "execution_count": 9,
   "id": "025b5167-0b3a-4c73-bacf-6bfa3b845022",
   "metadata": {},
   "outputs": [],
   "source": [
    "df = pd.read_csv('Spotify_data.csv')"
   ]
  },
  {
   "cell_type": "markdown",
   "id": "ab04ee87-7b1d-4127-8ecc-689ab19fd415",
   "metadata": {
    "tags": []
   },
   "source": [
    "# Quick look at data"
   ]
  },
  {
   "cell_type": "code",
   "execution_count": 10,
   "id": "ea551e52-163e-4c06-ae69-d9d2f24faef8",
   "metadata": {},
   "outputs": [
    {
     "data": {
      "text/html": [
       "<div>\n",
       "<style scoped>\n",
       "    .dataframe tbody tr th:only-of-type {\n",
       "        vertical-align: middle;\n",
       "    }\n",
       "\n",
       "    .dataframe tbody tr th {\n",
       "        vertical-align: top;\n",
       "    }\n",
       "\n",
       "    .dataframe thead th {\n",
       "        text-align: right;\n",
       "    }\n",
       "</style>\n",
       "<table border=\"1\" class=\"dataframe\">\n",
       "  <thead>\n",
       "    <tr style=\"text-align: right;\">\n",
       "      <th></th>\n",
       "      <th>Age</th>\n",
       "      <th>Gender</th>\n",
       "      <th>spotify_usage_period</th>\n",
       "      <th>spotify_listening_device</th>\n",
       "      <th>spotify_subscription_plan</th>\n",
       "      <th>premium_sub_willingness</th>\n",
       "      <th>preffered_premium_plan</th>\n",
       "      <th>preferred_listening_content</th>\n",
       "      <th>fav_music_genre</th>\n",
       "      <th>music_time_slot</th>\n",
       "      <th>music_Influencial_mood</th>\n",
       "      <th>music_lis_frequency</th>\n",
       "      <th>music_expl_method</th>\n",
       "      <th>music_recc_rating</th>\n",
       "      <th>pod_lis_frequency</th>\n",
       "      <th>fav_pod_genre</th>\n",
       "      <th>preffered_pod_format</th>\n",
       "      <th>pod_host_preference</th>\n",
       "      <th>preffered_pod_duration</th>\n",
       "      <th>pod_variety_satisfaction</th>\n",
       "    </tr>\n",
       "  </thead>\n",
       "  <tbody>\n",
       "    <tr>\n",
       "      <th>0</th>\n",
       "      <td>20-35</td>\n",
       "      <td>Female</td>\n",
       "      <td>More than 2 years</td>\n",
       "      <td>Smart speakers or voice assistants</td>\n",
       "      <td>Free (ad-supported)</td>\n",
       "      <td>Yes</td>\n",
       "      <td>Family Plan-Rs 179/month</td>\n",
       "      <td>Podcast</td>\n",
       "      <td>Melody</td>\n",
       "      <td>Night</td>\n",
       "      <td>Sadness or melancholy</td>\n",
       "      <td>leisure time</td>\n",
       "      <td>Playlists</td>\n",
       "      <td>3</td>\n",
       "      <td>Daily</td>\n",
       "      <td>Comedy</td>\n",
       "      <td>Interview</td>\n",
       "      <td>Both</td>\n",
       "      <td>Both</td>\n",
       "      <td>Ok</td>\n",
       "    </tr>\n",
       "    <tr>\n",
       "      <th>1</th>\n",
       "      <td>12-20</td>\n",
       "      <td>Male</td>\n",
       "      <td>More than 2 years</td>\n",
       "      <td>Computer or laptop</td>\n",
       "      <td>Free (ad-supported)</td>\n",
       "      <td>Yes</td>\n",
       "      <td>Individual Plan- Rs 119/ month</td>\n",
       "      <td>Podcast</td>\n",
       "      <td>Rap</td>\n",
       "      <td>Afternoon</td>\n",
       "      <td>Social gatherings or parties</td>\n",
       "      <td>Workout session</td>\n",
       "      <td>Playlists</td>\n",
       "      <td>2</td>\n",
       "      <td>Several times a week</td>\n",
       "      <td>Comedy</td>\n",
       "      <td>Interview</td>\n",
       "      <td>Both</td>\n",
       "      <td>NaN</td>\n",
       "      <td>Satisfied</td>\n",
       "    </tr>\n",
       "    <tr>\n",
       "      <th>2</th>\n",
       "      <td>35-60</td>\n",
       "      <td>Others</td>\n",
       "      <td>6 months to 1 year</td>\n",
       "      <td>Smart speakers or voice assistants</td>\n",
       "      <td>Free (ad-supported)</td>\n",
       "      <td>Yes</td>\n",
       "      <td>Student Plan-Rs 59/month</td>\n",
       "      <td>Podcast</td>\n",
       "      <td>Pop</td>\n",
       "      <td>Night</td>\n",
       "      <td>Relaxation and stress relief</td>\n",
       "      <td>Study Hours, While Traveling</td>\n",
       "      <td>Playlists</td>\n",
       "      <td>4</td>\n",
       "      <td>Once a week</td>\n",
       "      <td>Sports</td>\n",
       "      <td>Interview</td>\n",
       "      <td>NaN</td>\n",
       "      <td>Both</td>\n",
       "      <td>Satisfied</td>\n",
       "    </tr>\n",
       "    <tr>\n",
       "      <th>3</th>\n",
       "      <td>20-35</td>\n",
       "      <td>Female</td>\n",
       "      <td>1 year to 2 years</td>\n",
       "      <td>Smartphone, Smart speakers or voice assistants</td>\n",
       "      <td>Free (ad-supported)</td>\n",
       "      <td>No</td>\n",
       "      <td>NaN</td>\n",
       "      <td>Music</td>\n",
       "      <td>Melody</td>\n",
       "      <td>Night</td>\n",
       "      <td>Relaxation and stress relief, Social gathering...</td>\n",
       "      <td>Office hours, Workout session, leisure time</td>\n",
       "      <td>recommendations, Playlists</td>\n",
       "      <td>4</td>\n",
       "      <td>Never</td>\n",
       "      <td>NaN</td>\n",
       "      <td>NaN</td>\n",
       "      <td>NaN</td>\n",
       "      <td>NaN</td>\n",
       "      <td>Ok</td>\n",
       "    </tr>\n",
       "    <tr>\n",
       "      <th>4</th>\n",
       "      <td>20-35</td>\n",
       "      <td>Female</td>\n",
       "      <td>1 year to 2 years</td>\n",
       "      <td>Smartphone</td>\n",
       "      <td>Free (ad-supported)</td>\n",
       "      <td>No</td>\n",
       "      <td>NaN</td>\n",
       "      <td>Music</td>\n",
       "      <td>Melody</td>\n",
       "      <td>Night</td>\n",
       "      <td>Relaxation and stress relief</td>\n",
       "      <td>leisure time</td>\n",
       "      <td>recommendations, Playlists</td>\n",
       "      <td>4</td>\n",
       "      <td>Rarely</td>\n",
       "      <td>Lifestyle and Health</td>\n",
       "      <td>Story telling</td>\n",
       "      <td>Well known individuals</td>\n",
       "      <td>Both</td>\n",
       "      <td>Ok</td>\n",
       "    </tr>\n",
       "    <tr>\n",
       "      <th>...</th>\n",
       "      <td>...</td>\n",
       "      <td>...</td>\n",
       "      <td>...</td>\n",
       "      <td>...</td>\n",
       "      <td>...</td>\n",
       "      <td>...</td>\n",
       "      <td>...</td>\n",
       "      <td>...</td>\n",
       "      <td>...</td>\n",
       "      <td>...</td>\n",
       "      <td>...</td>\n",
       "      <td>...</td>\n",
       "      <td>...</td>\n",
       "      <td>...</td>\n",
       "      <td>...</td>\n",
       "      <td>...</td>\n",
       "      <td>...</td>\n",
       "      <td>...</td>\n",
       "      <td>...</td>\n",
       "      <td>...</td>\n",
       "    </tr>\n",
       "    <tr>\n",
       "      <th>515</th>\n",
       "      <td>20-35</td>\n",
       "      <td>Female</td>\n",
       "      <td>More than 2 years</td>\n",
       "      <td>Smartphone, Computer or laptop, Wearable devices</td>\n",
       "      <td>Free (ad-supported)</td>\n",
       "      <td>Yes</td>\n",
       "      <td>Student Plan-Rs 59/month</td>\n",
       "      <td>Music</td>\n",
       "      <td>Pop</td>\n",
       "      <td>Morning</td>\n",
       "      <td>Uplifting and motivational, Sadness or melancholy</td>\n",
       "      <td>While Traveling</td>\n",
       "      <td>recommendations</td>\n",
       "      <td>5</td>\n",
       "      <td>Rarely</td>\n",
       "      <td>Lifestyle and Health</td>\n",
       "      <td>Conversational</td>\n",
       "      <td>Both</td>\n",
       "      <td>Shorter</td>\n",
       "      <td>Ok</td>\n",
       "    </tr>\n",
       "    <tr>\n",
       "      <th>516</th>\n",
       "      <td>20-35</td>\n",
       "      <td>Female</td>\n",
       "      <td>More than 2 years</td>\n",
       "      <td>Smartphone, Computer or laptop</td>\n",
       "      <td>Free (ad-supported)</td>\n",
       "      <td>Yes</td>\n",
       "      <td>Student Plan-Rs 59/month</td>\n",
       "      <td>Music</td>\n",
       "      <td>Pop</td>\n",
       "      <td>Night</td>\n",
       "      <td>Relaxation and stress relief, Uplifting and mo...</td>\n",
       "      <td>While Traveling, Workout session, leisure time</td>\n",
       "      <td>Others</td>\n",
       "      <td>2</td>\n",
       "      <td>Rarely</td>\n",
       "      <td>Comedy</td>\n",
       "      <td>Story telling</td>\n",
       "      <td>Both</td>\n",
       "      <td>Shorter</td>\n",
       "      <td>Ok</td>\n",
       "    </tr>\n",
       "    <tr>\n",
       "      <th>517</th>\n",
       "      <td>20-35</td>\n",
       "      <td>Female</td>\n",
       "      <td>More than 2 years</td>\n",
       "      <td>Smartphone</td>\n",
       "      <td>Free (ad-supported)</td>\n",
       "      <td>No</td>\n",
       "      <td>Student Plan-Rs 59/month</td>\n",
       "      <td>Music</td>\n",
       "      <td>Pop</td>\n",
       "      <td>Night</td>\n",
       "      <td>Relaxation and stress relief</td>\n",
       "      <td>leisure time</td>\n",
       "      <td>recommendations</td>\n",
       "      <td>3</td>\n",
       "      <td>Never</td>\n",
       "      <td>NaN</td>\n",
       "      <td>Story telling</td>\n",
       "      <td>Both</td>\n",
       "      <td>Shorter</td>\n",
       "      <td>Ok</td>\n",
       "    </tr>\n",
       "    <tr>\n",
       "      <th>518</th>\n",
       "      <td>20-35</td>\n",
       "      <td>Female</td>\n",
       "      <td>6 months to 1 year</td>\n",
       "      <td>Smartphone</td>\n",
       "      <td>Premium (paid subscription)</td>\n",
       "      <td>Yes</td>\n",
       "      <td>Individual Plan- Rs 119/ month</td>\n",
       "      <td>Music</td>\n",
       "      <td>Melody</td>\n",
       "      <td>Night</td>\n",
       "      <td>Relaxation and stress relief, Uplifting and mo...</td>\n",
       "      <td>Workout session, leisure time</td>\n",
       "      <td>recommendations, Others</td>\n",
       "      <td>2</td>\n",
       "      <td>Several times a week</td>\n",
       "      <td>Comedy</td>\n",
       "      <td>Conversational</td>\n",
       "      <td>Both</td>\n",
       "      <td>Longer</td>\n",
       "      <td>Satisfied</td>\n",
       "    </tr>\n",
       "    <tr>\n",
       "      <th>519</th>\n",
       "      <td>20-35</td>\n",
       "      <td>Female</td>\n",
       "      <td>More than 2 years</td>\n",
       "      <td>Smartphone, Computer or laptop</td>\n",
       "      <td>Premium (paid subscription)</td>\n",
       "      <td>Yes</td>\n",
       "      <td>Student Plan-Rs 59/month</td>\n",
       "      <td>Music</td>\n",
       "      <td>Pop</td>\n",
       "      <td>Night</td>\n",
       "      <td>Relaxation and stress relief, Sadness or melan...</td>\n",
       "      <td>Office hours,Study Hours, While Traveling, lei...</td>\n",
       "      <td>Playlists, Radio</td>\n",
       "      <td>3</td>\n",
       "      <td>Never</td>\n",
       "      <td>NaN</td>\n",
       "      <td>NaN</td>\n",
       "      <td>NaN</td>\n",
       "      <td>NaN</td>\n",
       "      <td>Ok</td>\n",
       "    </tr>\n",
       "  </tbody>\n",
       "</table>\n",
       "<p>520 rows × 20 columns</p>\n",
       "</div>"
      ],
      "text/plain": [
       "       Age  Gender spotify_usage_period  \\\n",
       "0    20-35  Female    More than 2 years   \n",
       "1    12-20    Male    More than 2 years   \n",
       "2    35-60  Others   6 months to 1 year   \n",
       "3    20-35  Female    1 year to 2 years   \n",
       "4    20-35  Female    1 year to 2 years   \n",
       "..     ...     ...                  ...   \n",
       "515  20-35  Female    More than 2 years   \n",
       "516  20-35  Female    More than 2 years   \n",
       "517  20-35  Female    More than 2 years   \n",
       "518  20-35  Female   6 months to 1 year   \n",
       "519  20-35  Female    More than 2 years   \n",
       "\n",
       "                             spotify_listening_device  \\\n",
       "0                  Smart speakers or voice assistants   \n",
       "1                                  Computer or laptop   \n",
       "2                  Smart speakers or voice assistants   \n",
       "3      Smartphone, Smart speakers or voice assistants   \n",
       "4                                          Smartphone   \n",
       "..                                                ...   \n",
       "515  Smartphone, Computer or laptop, Wearable devices   \n",
       "516                    Smartphone, Computer or laptop   \n",
       "517                                        Smartphone   \n",
       "518                                        Smartphone   \n",
       "519                    Smartphone, Computer or laptop   \n",
       "\n",
       "       spotify_subscription_plan premium_sub_willingness  \\\n",
       "0            Free (ad-supported)                     Yes   \n",
       "1            Free (ad-supported)                     Yes   \n",
       "2            Free (ad-supported)                     Yes   \n",
       "3            Free (ad-supported)                      No   \n",
       "4            Free (ad-supported)                      No   \n",
       "..                           ...                     ...   \n",
       "515          Free (ad-supported)                     Yes   \n",
       "516          Free (ad-supported)                     Yes   \n",
       "517          Free (ad-supported)                      No   \n",
       "518  Premium (paid subscription)                     Yes   \n",
       "519  Premium (paid subscription)                     Yes   \n",
       "\n",
       "             preffered_premium_plan preferred_listening_content  \\\n",
       "0          Family Plan-Rs 179/month                     Podcast   \n",
       "1    Individual Plan- Rs 119/ month                     Podcast   \n",
       "2          Student Plan-Rs 59/month                     Podcast   \n",
       "3                               NaN                       Music   \n",
       "4                               NaN                       Music   \n",
       "..                              ...                         ...   \n",
       "515        Student Plan-Rs 59/month                       Music   \n",
       "516        Student Plan-Rs 59/month                       Music   \n",
       "517        Student Plan-Rs 59/month                       Music   \n",
       "518  Individual Plan- Rs 119/ month                       Music   \n",
       "519        Student Plan-Rs 59/month                       Music   \n",
       "\n",
       "    fav_music_genre music_time_slot  \\\n",
       "0            Melody           Night   \n",
       "1               Rap       Afternoon   \n",
       "2               Pop           Night   \n",
       "3            Melody           Night   \n",
       "4            Melody           Night   \n",
       "..              ...             ...   \n",
       "515             Pop         Morning   \n",
       "516             Pop           Night   \n",
       "517             Pop           Night   \n",
       "518          Melody           Night   \n",
       "519             Pop           Night   \n",
       "\n",
       "                                music_Influencial_mood  \\\n",
       "0                                Sadness or melancholy   \n",
       "1                         Social gatherings or parties   \n",
       "2                         Relaxation and stress relief   \n",
       "3    Relaxation and stress relief, Social gathering...   \n",
       "4                         Relaxation and stress relief   \n",
       "..                                                 ...   \n",
       "515  Uplifting and motivational, Sadness or melancholy   \n",
       "516  Relaxation and stress relief, Uplifting and mo...   \n",
       "517                       Relaxation and stress relief   \n",
       "518  Relaxation and stress relief, Uplifting and mo...   \n",
       "519  Relaxation and stress relief, Sadness or melan...   \n",
       "\n",
       "                                   music_lis_frequency  \\\n",
       "0                                         leisure time   \n",
       "1                                      Workout session   \n",
       "2                         Study Hours, While Traveling   \n",
       "3          Office hours, Workout session, leisure time   \n",
       "4                                         leisure time   \n",
       "..                                                 ...   \n",
       "515                                    While Traveling   \n",
       "516     While Traveling, Workout session, leisure time   \n",
       "517                                       leisure time   \n",
       "518                      Workout session, leisure time   \n",
       "519  Office hours,Study Hours, While Traveling, lei...   \n",
       "\n",
       "              music_expl_method  music_recc_rating     pod_lis_frequency  \\\n",
       "0                     Playlists                  3                 Daily   \n",
       "1                     Playlists                  2  Several times a week   \n",
       "2                     Playlists                  4           Once a week   \n",
       "3    recommendations, Playlists                  4                 Never   \n",
       "4    recommendations, Playlists                  4                Rarely   \n",
       "..                          ...                ...                   ...   \n",
       "515             recommendations                  5                Rarely   \n",
       "516                      Others                  2                Rarely   \n",
       "517             recommendations                  3                 Never   \n",
       "518     recommendations, Others                  2  Several times a week   \n",
       "519            Playlists, Radio                  3                 Never   \n",
       "\n",
       "            fav_pod_genre preffered_pod_format     pod_host_preference  \\\n",
       "0                  Comedy            Interview                    Both   \n",
       "1                  Comedy            Interview                    Both   \n",
       "2                  Sports            Interview                     NaN   \n",
       "3                     NaN                  NaN                     NaN   \n",
       "4    Lifestyle and Health        Story telling  Well known individuals   \n",
       "..                    ...                  ...                     ...   \n",
       "515  Lifestyle and Health       Conversational                    Both   \n",
       "516                Comedy        Story telling                    Both   \n",
       "517                   NaN        Story telling                    Both   \n",
       "518                Comedy       Conversational                    Both   \n",
       "519                   NaN                  NaN                     NaN   \n",
       "\n",
       "    preffered_pod_duration pod_variety_satisfaction  \n",
       "0                     Both                       Ok  \n",
       "1                      NaN                Satisfied  \n",
       "2                     Both                Satisfied  \n",
       "3                      NaN                       Ok  \n",
       "4                     Both                       Ok  \n",
       "..                     ...                      ...  \n",
       "515                Shorter                       Ok  \n",
       "516                Shorter                       Ok  \n",
       "517                Shorter                       Ok  \n",
       "518                 Longer                Satisfied  \n",
       "519                    NaN                       Ok  \n",
       "\n",
       "[520 rows x 20 columns]"
      ]
     },
     "execution_count": 10,
     "metadata": {},
     "output_type": "execute_result"
    }
   ],
   "source": [
    "df"
   ]
  },
  {
   "cell_type": "code",
   "execution_count": 11,
   "id": "4766f6d6-23ee-4446-a518-f8c9bfe5adde",
   "metadata": {},
   "outputs": [
    {
     "data": {
      "text/html": [
       "<div>\n",
       "<style scoped>\n",
       "    .dataframe tbody tr th:only-of-type {\n",
       "        vertical-align: middle;\n",
       "    }\n",
       "\n",
       "    .dataframe tbody tr th {\n",
       "        vertical-align: top;\n",
       "    }\n",
       "\n",
       "    .dataframe thead th {\n",
       "        text-align: right;\n",
       "    }\n",
       "</style>\n",
       "<table border=\"1\" class=\"dataframe\">\n",
       "  <thead>\n",
       "    <tr style=\"text-align: right;\">\n",
       "      <th></th>\n",
       "      <th>music_recc_rating</th>\n",
       "    </tr>\n",
       "  </thead>\n",
       "  <tbody>\n",
       "    <tr>\n",
       "      <th>count</th>\n",
       "      <td>520.000000</td>\n",
       "    </tr>\n",
       "    <tr>\n",
       "      <th>mean</th>\n",
       "      <td>3.503846</td>\n",
       "    </tr>\n",
       "    <tr>\n",
       "      <th>std</th>\n",
       "      <td>0.979552</td>\n",
       "    </tr>\n",
       "    <tr>\n",
       "      <th>min</th>\n",
       "      <td>1.000000</td>\n",
       "    </tr>\n",
       "    <tr>\n",
       "      <th>25%</th>\n",
       "      <td>3.000000</td>\n",
       "    </tr>\n",
       "    <tr>\n",
       "      <th>50%</th>\n",
       "      <td>3.500000</td>\n",
       "    </tr>\n",
       "    <tr>\n",
       "      <th>75%</th>\n",
       "      <td>4.000000</td>\n",
       "    </tr>\n",
       "    <tr>\n",
       "      <th>max</th>\n",
       "      <td>5.000000</td>\n",
       "    </tr>\n",
       "  </tbody>\n",
       "</table>\n",
       "</div>"
      ],
      "text/plain": [
       "       music_recc_rating\n",
       "count         520.000000\n",
       "mean            3.503846\n",
       "std             0.979552\n",
       "min             1.000000\n",
       "25%             3.000000\n",
       "50%             3.500000\n",
       "75%             4.000000\n",
       "max             5.000000"
      ]
     },
     "execution_count": 11,
     "metadata": {},
     "output_type": "execute_result"
    }
   ],
   "source": [
    "df.describe()"
   ]
  },
  {
   "cell_type": "code",
   "execution_count": 12,
   "id": "2a6e8d43-0574-4210-8df2-82372993bf7c",
   "metadata": {},
   "outputs": [
    {
     "name": "stdout",
     "output_type": "stream",
     "text": [
      "<class 'pandas.core.frame.DataFrame'>\n",
      "RangeIndex: 520 entries, 0 to 519\n",
      "Data columns (total 20 columns):\n",
      " #   Column                       Non-Null Count  Dtype \n",
      "---  ------                       --------------  ----- \n",
      " 0   Age                          520 non-null    object\n",
      " 1   Gender                       520 non-null    object\n",
      " 2   spotify_usage_period         520 non-null    object\n",
      " 3   spotify_listening_device     520 non-null    object\n",
      " 4   spotify_subscription_plan    520 non-null    object\n",
      " 5   premium_sub_willingness      520 non-null    object\n",
      " 6   preffered_premium_plan       312 non-null    object\n",
      " 7   preferred_listening_content  520 non-null    object\n",
      " 8   fav_music_genre              520 non-null    object\n",
      " 9   music_time_slot              520 non-null    object\n",
      " 10  music_Influencial_mood       520 non-null    object\n",
      " 11  music_lis_frequency          520 non-null    object\n",
      " 12  music_expl_method            520 non-null    object\n",
      " 13  music_recc_rating            520 non-null    int64 \n",
      " 14  pod_lis_frequency            520 non-null    object\n",
      " 15  fav_pod_genre                372 non-null    object\n",
      " 16  preffered_pod_format         380 non-null    object\n",
      " 17  pod_host_preference          379 non-null    object\n",
      " 18  preffered_pod_duration       391 non-null    object\n",
      " 19  pod_variety_satisfaction     520 non-null    object\n",
      "dtypes: int64(1), object(19)\n",
      "memory usage: 81.4+ KB\n"
     ]
    }
   ],
   "source": [
    "df.info()"
   ]
  },
  {
   "cell_type": "markdown",
   "id": "11274d58-36f7-4da8-96d4-8fe2574e9157",
   "metadata": {},
   "source": [
    "# Feature engineering"
   ]
  },
  {
   "cell_type": "code",
   "execution_count": 13,
   "id": "ab36a5f7-d148-40c8-aa09-a871e6fd86e2",
   "metadata": {},
   "outputs": [],
   "source": [
    "# Making a copy of df to use for descriptive analysis later\n",
    "\n",
    "#df_descriptive = df.copy()"
   ]
  },
  {
   "cell_type": "code",
   "execution_count": 15,
   "id": "a91287b8-a99a-4d28-9a67-01b355656156",
   "metadata": {},
   "outputs": [],
   "source": [
    "df['spotify_usage_period'].replace(['More than 2 years', '6 months to 1 year', '1 year to 2 years',\n",
    "       'Less than 6 months'], [4, 2, 3, 1], inplace = True)"
   ]
  },
  {
   "cell_type": "code",
   "execution_count": 16,
   "id": "fe0451e0-d314-45ae-8cf0-56e594739370",
   "metadata": {},
   "outputs": [],
   "source": [
    "for index in df.index:\n",
    "    if ((df.at[index, 'spotify_subscription_plan'] != 'Premium (paid subscription)') and \n",
    "        (df.at[index, 'premium_sub_willingness'] != 'Yes')) and (pd.isnull(df.at[index, 'preffered_premium_plan'])):\n",
    "        df.at[index, 'preffered_premium_plan'] = \"None\""
   ]
  },
  {
   "cell_type": "code",
   "execution_count": 17,
   "id": "5f9d3f7c-d4e1-4e5c-86c4-cb05bc87c294",
   "metadata": {},
   "outputs": [
    {
     "data": {
      "text/plain": [
       "spotify_subscription_plan\n",
       "Free (ad-supported)            424\n",
       "Premium (paid subscription)     96\n",
       "Name: count, dtype: int64"
      ]
     },
     "execution_count": 17,
     "metadata": {},
     "output_type": "execute_result"
    }
   ],
   "source": [
    "df['spotify_subscription_plan'].value_counts()"
   ]
  },
  {
   "cell_type": "code",
   "execution_count": 18,
   "id": "8c0a9361-c4fb-4127-b701-ddd1ab0bab69",
   "metadata": {},
   "outputs": [],
   "source": [
    "df['spotify_subscription_plan'].replace(['Free (ad-supported)', 'Premium (paid subscription)'], [0, 1], inplace = True)"
   ]
  },
  {
   "cell_type": "code",
   "execution_count": 19,
   "id": "fde1a6cc-5a9d-4f81-be80-1f2be4b0e9ce",
   "metadata": {},
   "outputs": [
    {
     "data": {
      "text/plain": [
       "premium_sub_willingness\n",
       "No     334\n",
       "Yes    186\n",
       "Name: count, dtype: int64"
      ]
     },
     "execution_count": 19,
     "metadata": {},
     "output_type": "execute_result"
    }
   ],
   "source": [
    "df['premium_sub_willingness'].value_counts()"
   ]
  },
  {
   "cell_type": "code",
   "execution_count": 20,
   "id": "583b5f8b-d32f-4dc0-bd5e-047e268554bf",
   "metadata": {},
   "outputs": [],
   "source": [
    "df['premium_sub_willingness'].replace(['No', 'Yes'], [0, 1], inplace = True)"
   ]
  },
  {
   "cell_type": "code",
   "execution_count": 21,
   "id": "a0d82e31-2d8b-48ff-a418-e405afbe0bd8",
   "metadata": {},
   "outputs": [],
   "source": [
    "df['preffered_pod_duration'].fillna(df['preffered_pod_duration'].mode(), inplace=True)"
   ]
  },
  {
   "cell_type": "code",
   "execution_count": 22,
   "id": "0a39b6cd-c559-40b0-aee0-f71c9351aac8",
   "metadata": {},
   "outputs": [
    {
     "name": "stdout",
     "output_type": "stream",
     "text": [
      "<class 'pandas.core.frame.DataFrame'>\n",
      "RangeIndex: 520 entries, 0 to 519\n",
      "Data columns (total 20 columns):\n",
      " #   Column                       Non-Null Count  Dtype \n",
      "---  ------                       --------------  ----- \n",
      " 0   Age                          520 non-null    object\n",
      " 1   Gender                       520 non-null    object\n",
      " 2   spotify_usage_period         520 non-null    int64 \n",
      " 3   spotify_listening_device     520 non-null    object\n",
      " 4   spotify_subscription_plan    520 non-null    int64 \n",
      " 5   premium_sub_willingness      520 non-null    int64 \n",
      " 6   preffered_premium_plan       508 non-null    object\n",
      " 7   preferred_listening_content  520 non-null    object\n",
      " 8   fav_music_genre              520 non-null    object\n",
      " 9   music_time_slot              520 non-null    object\n",
      " 10  music_Influencial_mood       520 non-null    object\n",
      " 11  music_lis_frequency          520 non-null    object\n",
      " 12  music_expl_method            520 non-null    object\n",
      " 13  music_recc_rating            520 non-null    int64 \n",
      " 14  pod_lis_frequency            520 non-null    object\n",
      " 15  fav_pod_genre                372 non-null    object\n",
      " 16  preffered_pod_format         380 non-null    object\n",
      " 17  pod_host_preference          379 non-null    object\n",
      " 18  preffered_pod_duration       391 non-null    object\n",
      " 19  pod_variety_satisfaction     520 non-null    object\n",
      "dtypes: int64(4), object(16)\n",
      "memory usage: 81.4+ KB\n"
     ]
    }
   ],
   "source": [
    "df.info()"
   ]
  },
  {
   "cell_type": "code",
   "execution_count": 23,
   "id": "2722410c-4790-4792-bdfc-a05f90824ff9",
   "metadata": {},
   "outputs": [
    {
     "data": {
      "text/plain": [
       "preffered_premium_plan\n",
       "None                              196\n",
       "Individual Plan- Rs 119/ month     95\n",
       "Student Plan-Rs 59/month           94\n",
       "Duo plan- Rs 149/month             84\n",
       "Family Plan-Rs 179/month           39\n",
       "Name: count, dtype: int64"
      ]
     },
     "execution_count": 23,
     "metadata": {},
     "output_type": "execute_result"
    }
   ],
   "source": [
    "df['preffered_premium_plan'].value_counts()"
   ]
  },
  {
   "cell_type": "code",
   "execution_count": 24,
   "id": "2b17c875-4ece-4a7b-ade7-da7b8b5066f2",
   "metadata": {},
   "outputs": [],
   "source": [
    "df['preffered_premium_plan'].fillna(\"no_data\", inplace = True)"
   ]
  },
  {
   "cell_type": "code",
   "execution_count": 25,
   "id": "abed85d7-4ff2-4d3b-8a9f-41a05f4c349e",
   "metadata": {},
   "outputs": [
    {
     "data": {
      "text/plain": [
       "preffered_premium_plan\n",
       "None                              196\n",
       "Individual Plan- Rs 119/ month     95\n",
       "Student Plan-Rs 59/month           94\n",
       "Duo plan- Rs 149/month             84\n",
       "Family Plan-Rs 179/month           39\n",
       "no_data                            12\n",
       "Name: count, dtype: int64"
      ]
     },
     "execution_count": 25,
     "metadata": {},
     "output_type": "execute_result"
    }
   ],
   "source": [
    "df['preffered_premium_plan'].value_counts()"
   ]
  },
  {
   "cell_type": "code",
   "execution_count": 26,
   "id": "1dbf7fbd-09d7-4051-ad6d-9b3aeb552939",
   "metadata": {},
   "outputs": [
    {
     "data": {
      "text/plain": [
       "array(['Family Plan-Rs 179/month', 'Individual Plan- Rs 119/ month',\n",
       "       'Student Plan-Rs 59/month', 'None', 'no_data',\n",
       "       'Duo plan- Rs 149/month'], dtype=object)"
      ]
     },
     "execution_count": 26,
     "metadata": {},
     "output_type": "execute_result"
    }
   ],
   "source": [
    "df['preffered_premium_plan'].unique()"
   ]
  },
  {
   "cell_type": "code",
   "execution_count": 27,
   "id": "2f67fa42-8f5b-4fd4-b7bd-a04dbcbd47c8",
   "metadata": {},
   "outputs": [],
   "source": [
    "from sklearn import preprocessing\n",
    "le = preprocessing.LabelEncoder()"
   ]
  },
  {
   "cell_type": "code",
   "execution_count": 28,
   "id": "47c32760-5312-415e-9cec-f21e36db052a",
   "metadata": {},
   "outputs": [],
   "source": [
    "imputed_col = 'preffered_premium_plan'\n",
    "impute_col_encoded = 'preffered_premium_plan_no'"
   ]
  },
  {
   "cell_type": "code",
   "execution_count": 29,
   "id": "b6175a84-7041-4d7e-bf7a-585e4682d383",
   "metadata": {},
   "outputs": [],
   "source": [
    "le.fit(df.loc[:,imputed_col]);"
   ]
  },
  {
   "cell_type": "code",
   "execution_count": 30,
   "id": "bb048969-62e7-4096-90c2-d4a6701aee07",
   "metadata": {},
   "outputs": [
    {
     "data": {
      "text/plain": [
       "{'Duo plan- Rs 149/month': 0,\n",
       " 'Family Plan-Rs 179/month': 1,\n",
       " 'Individual Plan- Rs 119/ month': 2,\n",
       " 'None': 3,\n",
       " 'Student Plan-Rs 59/month': 4,\n",
       " 'no_data': 5}"
      ]
     },
     "execution_count": 30,
     "metadata": {},
     "output_type": "execute_result"
    }
   ],
   "source": [
    "dict(zip(le.classes_, le.transform(le.classes_)))"
   ]
  },
  {
   "cell_type": "code",
   "execution_count": 31,
   "id": "0cda7511-4cc3-4e25-a141-26cf1d6d845d",
   "metadata": {},
   "outputs": [],
   "source": [
    "df[impute_col_encoded] = le.transform(df[imputed_col])"
   ]
  },
  {
   "cell_type": "code",
   "execution_count": 32,
   "id": "2ece2ca0-5c22-4772-ae07-1af7fa34bb31",
   "metadata": {},
   "outputs": [],
   "source": [
    "df[impute_col_encoded] = df[impute_col_encoded].map(lambda x: np.nan if x == 5 else x)"
   ]
  },
  {
   "cell_type": "code",
   "execution_count": 33,
   "id": "15c78a41-0663-4872-a125-2a98857a1cfa",
   "metadata": {},
   "outputs": [],
   "source": [
    "imputer = IterativeImputer(random_state = 100)"
   ]
  },
  {
   "cell_type": "code",
   "execution_count": 34,
   "id": "c0049eaf-07de-4405-ac64-b8f1ca6839ac",
   "metadata": {},
   "outputs": [],
   "source": [
    "df_train = df.loc[:, ['spotify_subscription_plan', impute_col_encoded]]"
   ]
  },
  {
   "cell_type": "code",
   "execution_count": 35,
   "id": "6de0d1d9-db99-4444-92cc-42ad57ebf13a",
   "metadata": {},
   "outputs": [],
   "source": [
    "imputer.fit(df_train);"
   ]
  },
  {
   "cell_type": "code",
   "execution_count": 36,
   "id": "afe53828-c267-42e5-8fcd-6ccfc3b1b44b",
   "metadata": {},
   "outputs": [],
   "source": [
    "df_imputed = imputer.transform(df_train)"
   ]
  },
  {
   "cell_type": "code",
   "execution_count": 37,
   "id": "1de4bb2b-392e-4d00-a695-754e8226c8b0",
   "metadata": {},
   "outputs": [
    {
     "data": {
      "text/plain": [
       "array([[0., 1.],\n",
       "       [0., 2.],\n",
       "       [0., 4.],\n",
       "       [0., 3.],\n",
       "       [0., 3.],\n",
       "       [0., 3.],\n",
       "       [0., 3.],\n",
       "       [0., 3.],\n",
       "       [0., 2.],\n",
       "       [0., 3.]])"
      ]
     },
     "execution_count": 37,
     "metadata": {},
     "output_type": "execute_result"
    }
   ],
   "source": [
    "df_imputed[:10]"
   ]
  },
  {
   "cell_type": "code",
   "execution_count": 38,
   "id": "3d43aa31-83fb-440d-911a-01a0ecb7da4f",
   "metadata": {},
   "outputs": [
    {
     "data": {
      "text/plain": [
       "array([1., 2., 4., 3., 3., 3., 3., 3., 2., 3., 3., 3., 3., 3., 3., 3., 2.,\n",
       "       3., 3., 2., 3., 2., 3., 2., 1., 3., 4., 3., 3., 3., 3., 3., 3., 3.,\n",
       "       3., 3., 3., 2., 3., 3., 3., 3., 4., 3., 3., 3., 3., 4., 3., 2., 3.,\n",
       "       3., 2., 3., 3., 3., 3., 3., 3., 1., 3., 3., 3., 3., 3., 3., 2., 2.,\n",
       "       3., 2., 3., 3., 3., 3., 1., 4., 0., 2., 2., 0., 3., 0., 3., 2., 3.,\n",
       "       0., 3., 3., 2., 3., 2., 2., 3., 3., 3., 3., 3., 3., 2., 2., 2., 4.,\n",
       "       3., 3., 3., 3., 3., 3., 3., 0., 3., 3., 3., 3., 3., 3., 1., 1., 3.,\n",
       "       3., 3., 0., 3., 3., 2., 3., 3., 4., 3., 3., 3., 3., 3., 3., 4., 3.,\n",
       "       2., 3., 3., 3., 1., 3., 3., 2., 3., 3., 1., 3., 3., 3., 3., 0., 4.,\n",
       "       3., 1., 3., 2., 3., 3., 3., 3., 2., 3., 3., 3., 0., 1., 0., 0., 0.,\n",
       "       3., 3., 1., 0., 1., 3., 4., 0., 0., 0., 1., 1., 3., 1., 3., 3., 1.,\n",
       "       3., 3., 3., 3., 3., 3., 3., 3., 0., 3., 3., 4., 3., 3., 3., 3., 1.,\n",
       "       4., 3., 3., 3., 3., 3., 3., 2., 3., 4., 3., 3., 3., 3., 3., 2., 4.,\n",
       "       4., 4., 4., 3., 2., 4., 1., 2., 4., 3., 4., 4., 2., 0., 0., 2., 3.,\n",
       "       0., 3., 4., 3., 2., 2., 4., 4., 4., 0., 3., 2., 2., 4., 4., 3., 0.,\n",
       "       4., 2., 2., 2., 0., 1., 4., 3., 0., 3., 4., 4., 3., 4., 4., 3., 3.,\n",
       "       2., 0., 0., 2., 2., 0., 0., 4., 0., 0., 0., 0., 2., 1., 0., 0., 1.,\n",
       "       0., 2., 0., 1., 1., 0., 0., 0., 0., 1., 0., 2., 0., 2., 3., 0., 1.,\n",
       "       0., 0., 0., 0., 0., 0., 2., 2., 1., 0., 1., 1., 0., 0., 1., 4., 2.,\n",
       "       2., 3., 3., 4., 3., 4., 4., 2., 2., 2., 3., 4., 3., 2., 2., 2., 3.,\n",
       "       3., 0., 2., 4., 2., 4., 3., 2., 4., 4., 0., 4., 2., 4., 2., 3., 3.,\n",
       "       3., 4., 3., 0., 2., 4., 0., 3., 3., 4., 4., 2., 2., 4., 4., 4., 1.,\n",
       "       4., 4., 2., 4., 3., 1., 2., 4., 2., 4., 4., 3., 4., 2., 4., 4., 4.,\n",
       "       4., 3., 0., 2., 4., 3., 3., 4., 4., 0., 3., 4., 3., 3., 2., 0., 1.,\n",
       "       2., 4., 4., 4., 2., 4., 3., 2., 3., 4., 3., 4., 0., 2., 3., 4., 2.,\n",
       "       4., 4., 2., 4., 4., 0., 0., 4., 2., 3., 4., 3., 4., 0., 3., 0., 4.,\n",
       "       2., 2., 1., 3., 3., 3., 3., 4., 4., 3., 2., 1., 3., 3., 1., 4., 3.,\n",
       "       1., 4., 4., 2., 3., 0., 2., 2., 0., 1., 2., 0., 2., 1., 0., 2., 2.,\n",
       "       2., 2., 1., 0., 0., 1., 1., 0., 0., 0., 0., 1., 1., 0., 1., 1., 2.,\n",
       "       0., 0., 2., 2., 4., 0., 1., 0., 0., 1., 0., 4., 0., 0., 0., 0., 3.,\n",
       "       2., 4., 2., 3., 3., 4., 4., 4., 2., 4.])"
      ]
     },
     "execution_count": 38,
     "metadata": {},
     "output_type": "execute_result"
    }
   ],
   "source": [
    "df_imputed[:,1].round()"
   ]
  },
  {
   "cell_type": "code",
   "execution_count": 39,
   "id": "322d59f4-9a2b-4b13-bc76-92ffec093eef",
   "metadata": {},
   "outputs": [],
   "source": [
    "df.loc[:, [impute_col_encoded]] = df_imputed[:, 1].round()"
   ]
  },
  {
   "cell_type": "code",
   "execution_count": 40,
   "id": "adaa0f10-e023-4167-8bf7-736f16905cc4",
   "metadata": {},
   "outputs": [],
   "source": [
    "preffered_premium_plan_imputed = list(le.inverse_transform(df[impute_col_encoded].round().astype('int')))"
   ]
  },
  {
   "cell_type": "code",
   "execution_count": 41,
   "id": "58e06596-3a13-4b65-8869-943e811558e7",
   "metadata": {},
   "outputs": [],
   "source": [
    "df['preffered_premium_plan'] = preffered_premium_plan_imputed"
   ]
  },
  {
   "cell_type": "code",
   "execution_count": 42,
   "id": "3c2aeb6a-7bd9-4dcb-b122-3e71660311cc",
   "metadata": {},
   "outputs": [
    {
     "data": {
      "text/plain": [
       "preffered_premium_plan\n",
       "None                              200\n",
       "Individual Plan- Rs 119/ month     95\n",
       "Student Plan-Rs 59/month           94\n",
       "Duo plan- Rs 149/month             84\n",
       "Family Plan-Rs 179/month           47\n",
       "Name: count, dtype: int64"
      ]
     },
     "execution_count": 42,
     "metadata": {},
     "output_type": "execute_result"
    }
   ],
   "source": [
    "df['preffered_premium_plan'].value_counts()"
   ]
  },
  {
   "cell_type": "code",
   "execution_count": 43,
   "id": "f86eb078-feb0-43fd-b17e-3397ce40971a",
   "metadata": {},
   "outputs": [
    {
     "data": {
      "text/plain": [
       "spotify_subscription_plan\n",
       "0    424\n",
       "1     96\n",
       "Name: count, dtype: int64"
      ]
     },
     "execution_count": 43,
     "metadata": {},
     "output_type": "execute_result"
    }
   ],
   "source": [
    "df['spotify_subscription_plan'].value_counts()"
   ]
  },
  {
   "cell_type": "code",
   "execution_count": 44,
   "id": "ea544570-1bf6-4080-bb3f-3aefb8e4220e",
   "metadata": {},
   "outputs": [
    {
     "data": {
      "text/plain": [
       "premium_sub_willingness\n",
       "0    334\n",
       "1    186\n",
       "Name: count, dtype: int64"
      ]
     },
     "execution_count": 44,
     "metadata": {},
     "output_type": "execute_result"
    }
   ],
   "source": [
    "df['premium_sub_willingness'].value_counts()"
   ]
  },
  {
   "cell_type": "code",
   "execution_count": 45,
   "id": "2446920c-8484-4a4a-bf27-12dbee247f1e",
   "metadata": {
    "tags": []
   },
   "outputs": [],
   "source": [
    "df.drop('preffered_premium_plan_no', axis = 1, inplace = True)"
   ]
  },
  {
   "cell_type": "code",
   "execution_count": 46,
   "id": "211bd0cb-d76f-4875-a570-2f7c09064fb0",
   "metadata": {},
   "outputs": [],
   "source": [
    "df['preffered_pod_duration'].fillna(df['preffered_pod_duration'].mode()[0], inplace=True)"
   ]
  },
  {
   "cell_type": "code",
   "execution_count": 47,
   "id": "036ae8d8-e875-4c3e-afbc-f0af0db84a89",
   "metadata": {
    "tags": []
   },
   "outputs": [],
   "source": [
    "df['preffered_pod_format'].ffill(inplace = True)"
   ]
  },
  {
   "cell_type": "code",
   "execution_count": 48,
   "id": "a694a834-17d4-47c9-b157-a4ae96659237",
   "metadata": {
    "tags": []
   },
   "outputs": [],
   "source": [
    "df.fillna('miss_data', inplace = True)"
   ]
  },
  {
   "cell_type": "code",
   "execution_count": 49,
   "id": "c41bb36e-0b4b-475d-b777-29794223cfbe",
   "metadata": {
    "tags": []
   },
   "outputs": [
    {
     "data": {
      "text/plain": [
       "preffered_pod_duration\n",
       "Shorter    320\n",
       "Both       117\n",
       "Longer      83\n",
       "Name: count, dtype: int64"
      ]
     },
     "execution_count": 49,
     "metadata": {},
     "output_type": "execute_result"
    }
   ],
   "source": [
    "df['preffered_pod_duration'].value_counts()"
   ]
  },
  {
   "cell_type": "code",
   "execution_count": 50,
   "id": "d335e7a8-b085-4538-8ff4-707c3e308c7e",
   "metadata": {
    "tags": []
   },
   "outputs": [
    {
     "data": {
      "text/plain": [
       "fav_pod_genre\n",
       "miss_data                                           148\n",
       "Comedy                                              107\n",
       "Lifestyle and Health                                102\n",
       "Health and Fitness                                   78\n",
       "Sports                                               51\n",
       "Food and cooking                                     20\n",
       "Finance related and current affairs                   1\n",
       "Educational                                           1\n",
       "Self help                                             1\n",
       "Novels                                                1\n",
       "Political, informative, topics that interests me      1\n",
       "Murder Mystery                                        1\n",
       "Technology                                            1\n",
       "Spiritual and devotional                              1\n",
       "General knowledge                                     1\n",
       "Dance and Relevant cases                              1\n",
       "Informative stuff                                     1\n",
       "Everything                                            1\n",
       "Business                                              1\n",
       "Stories                                               1\n",
       "Name: count, dtype: int64"
      ]
     },
     "execution_count": 50,
     "metadata": {},
     "output_type": "execute_result"
    }
   ],
   "source": [
    "df['fav_pod_genre'].value_counts()"
   ]
  },
  {
   "cell_type": "code",
   "execution_count": 51,
   "id": "34fbd83f-4601-4c93-8b02-b48bbd677564",
   "metadata": {},
   "outputs": [
    {
     "name": "stdout",
     "output_type": "stream",
     "text": [
      "<class 'pandas.core.frame.DataFrame'>\n",
      "RangeIndex: 520 entries, 0 to 519\n",
      "Data columns (total 20 columns):\n",
      " #   Column                       Non-Null Count  Dtype \n",
      "---  ------                       --------------  ----- \n",
      " 0   Age                          520 non-null    object\n",
      " 1   Gender                       520 non-null    object\n",
      " 2   spotify_usage_period         520 non-null    int64 \n",
      " 3   spotify_listening_device     520 non-null    object\n",
      " 4   spotify_subscription_plan    520 non-null    int64 \n",
      " 5   premium_sub_willingness      520 non-null    int64 \n",
      " 6   preffered_premium_plan       520 non-null    object\n",
      " 7   preferred_listening_content  520 non-null    object\n",
      " 8   fav_music_genre              520 non-null    object\n",
      " 9   music_time_slot              520 non-null    object\n",
      " 10  music_Influencial_mood       520 non-null    object\n",
      " 11  music_lis_frequency          520 non-null    object\n",
      " 12  music_expl_method            520 non-null    object\n",
      " 13  music_recc_rating            520 non-null    int64 \n",
      " 14  pod_lis_frequency            520 non-null    object\n",
      " 15  fav_pod_genre                520 non-null    object\n",
      " 16  preffered_pod_format         520 non-null    object\n",
      " 17  pod_host_preference          520 non-null    object\n",
      " 18  preffered_pod_duration       520 non-null    object\n",
      " 19  pod_variety_satisfaction     520 non-null    object\n",
      "dtypes: int64(4), object(16)\n",
      "memory usage: 81.4+ KB\n"
     ]
    }
   ],
   "source": [
    "df.info()"
   ]
  },
  {
   "cell_type": "code",
   "execution_count": 52,
   "id": "3eeb2a5d-2962-4630-81a1-3952d13f1490",
   "metadata": {},
   "outputs": [],
   "source": [
    "# For the future analysis\n",
    "\n",
    "df_descriptive = df.copy()"
   ]
  },
  {
   "cell_type": "code",
   "execution_count": 53,
   "id": "eaceb9e9-a4f6-4b6a-82ed-c1de1e9546c6",
   "metadata": {
    "tags": []
   },
   "outputs": [
    {
     "data": {
      "text/plain": [
       "preffered_premium_plan\n",
       "None                              200\n",
       "Individual Plan- Rs 119/ month     95\n",
       "Student Plan-Rs 59/month           94\n",
       "Duo plan- Rs 149/month             84\n",
       "Family Plan-Rs 179/month           47\n",
       "Name: count, dtype: int64"
      ]
     },
     "execution_count": 53,
     "metadata": {},
     "output_type": "execute_result"
    }
   ],
   "source": [
    "df['preffered_premium_plan'].value_counts()"
   ]
  },
  {
   "cell_type": "code",
   "execution_count": 54,
   "id": "62ef0bbb-bd18-4fb9-b1ed-40e8416eac97",
   "metadata": {},
   "outputs": [
    {
     "data": {
      "text/plain": [
       "array(['20-35', '12-20', '35-60', '6-12', '60+'], dtype=object)"
      ]
     },
     "execution_count": 54,
     "metadata": {},
     "output_type": "execute_result"
    }
   ],
   "source": [
    "df['Age'].unique()"
   ]
  },
  {
   "cell_type": "code",
   "execution_count": 55,
   "id": "063bb869-d0c6-45e7-b213-69177bc01c24",
   "metadata": {},
   "outputs": [],
   "source": [
    "df['Age'].replace(['20-35', '12-20', '35-60', '6-12', '60+'], [3, 2, 4, 1, 5], inplace = True)"
   ]
  },
  {
   "cell_type": "code",
   "execution_count": 56,
   "id": "e15dfa6f-c735-44d4-a9a7-7bf779b3ef5d",
   "metadata": {
    "tags": []
   },
   "outputs": [],
   "source": [
    "df['Gender'] = df['Gender'].str.lower()"
   ]
  },
  {
   "cell_type": "code",
   "execution_count": 57,
   "id": "7f1839cc-d7a3-4624-9728-9c5207bd1fb7",
   "metadata": {},
   "outputs": [
    {
     "data": {
      "text/plain": [
       "Gender\n",
       "female    391\n",
       "male      114\n",
       "others     15\n",
       "Name: count, dtype: int64"
      ]
     },
     "execution_count": 57,
     "metadata": {},
     "output_type": "execute_result"
    }
   ],
   "source": [
    "df['Gender'].value_counts()"
   ]
  },
  {
   "cell_type": "code",
   "execution_count": 58,
   "id": "72638d78-9039-4de1-a2ea-142aabe6f284",
   "metadata": {},
   "outputs": [
    {
     "data": {
      "text/plain": [
       "spotify_listening_device\n",
       "Smartphone                                                                              300\n",
       "Computer or laptop                                                                       54\n",
       "Smartphone, Computer or laptop                                                           48\n",
       "Smart speakers or voice assistants                                                       43\n",
       "Computer or laptop, Smart speakers or voice assistants                                   14\n",
       "Smartphone, Smart speakers or voice assistants                                           10\n",
       "Smartphone, Wearable devices                                                              8\n",
       "Smartphone, Computer or laptop, Smart speakers or voice assistants, Wearable devices      8\n",
       "Wearable devices                                                                          8\n",
       "Smartphone, Computer or laptop, Smart speakers or voice assistants                        7\n",
       "Smartphone, Computer or laptop, Wearable devices                                          5\n",
       "Computer or laptop, Wearable devices                                                      5\n",
       "Smartphone, Smart speakers or voice assistants, Wearable devices                          5\n",
       "Computer or laptop, Smart speakers or voice assistants, Wearable devices                  3\n",
       "Smart speakers or voice assistants, Wearable devices                                      2\n",
       "Name: count, dtype: int64"
      ]
     },
     "execution_count": 58,
     "metadata": {},
     "output_type": "execute_result"
    }
   ],
   "source": [
    "df['spotify_listening_device'].value_counts()"
   ]
  },
  {
   "cell_type": "code",
   "execution_count": 59,
   "id": "c772f879-4470-44df-9cfb-a62f92f8f691",
   "metadata": {
    "tags": []
   },
   "outputs": [],
   "source": [
    "df.drop('spotify_listening_device', axis = 1,  inplace = True)"
   ]
  },
  {
   "cell_type": "code",
   "execution_count": 60,
   "id": "0379a64f-aa6c-4b95-be8f-887d8dbff26c",
   "metadata": {
    "tags": []
   },
   "outputs": [],
   "source": [
    "# df.drop(labels = 'preffered_premium_plan', axis = 1,  inplace = True)"
   ]
  },
  {
   "cell_type": "code",
   "execution_count": 61,
   "id": "9ffe56f1-31c2-445d-9b83-68f62544db75",
   "metadata": {
    "tags": []
   },
   "outputs": [],
   "source": [
    "df['preffered_premium_plan'].replace(['None', 'Student Plan-Rs 59/month', 'Individual Plan- Rs 119/ month', 'Duo plan- Rs 149/month', 'Family Plan-Rs 179/month'], [1, 2, 3, 4, 5], inplace = True)"
   ]
  },
  {
   "cell_type": "code",
   "execution_count": 62,
   "id": "4f450442-ead8-427c-9583-07f5c8464d87",
   "metadata": {
    "tags": []
   },
   "outputs": [
    {
     "data": {
      "text/plain": [
       "preferred_listening_content\n",
       "Music      410\n",
       "Podcast    110\n",
       "Name: count, dtype: int64"
      ]
     },
     "execution_count": 62,
     "metadata": {},
     "output_type": "execute_result"
    }
   ],
   "source": [
    "df['preferred_listening_content'].value_counts()"
   ]
  },
  {
   "cell_type": "code",
   "execution_count": 63,
   "id": "2fa72470-a1c4-437c-953e-9676e5947db6",
   "metadata": {
    "tags": []
   },
   "outputs": [],
   "source": [
    "df['preferred_listening_content'].replace(['Music', 'Podcast'], [0, 1], inplace = True)"
   ]
  },
  {
   "cell_type": "code",
   "execution_count": 64,
   "id": "2284d612-0608-4142-b2a0-45f0d16477ef",
   "metadata": {
    "tags": []
   },
   "outputs": [
    {
     "data": {
      "text/plain": [
       "fav_music_genre\n",
       "Melody                       259\n",
       "classical                     87\n",
       "Pop                           85\n",
       "Rap                           55\n",
       "Electronic/Dance              16\n",
       "All                            6\n",
       "Rock                           4\n",
       "Kpop                           4\n",
       "Classical & melody, dance      2\n",
       "Old songs                      1\n",
       "trending songs random          1\n",
       "Name: count, dtype: int64"
      ]
     },
     "execution_count": 64,
     "metadata": {},
     "output_type": "execute_result"
    }
   ],
   "source": [
    "df['fav_music_genre'].value_counts()"
   ]
  },
  {
   "cell_type": "code",
   "execution_count": 65,
   "id": "662dd32d-fd3d-494b-a226-3eec4e75c629",
   "metadata": {
    "tags": []
   },
   "outputs": [],
   "source": [
    "fav_music = ['Melody', 'classical', 'Pop', 'Rap']"
   ]
  },
  {
   "cell_type": "code",
   "execution_count": 66,
   "id": "220d5a05-6504-4033-9a87-2583e7a0a9fb",
   "metadata": {
    "tags": []
   },
   "outputs": [],
   "source": [
    "df['fav_music_genre'] = df['fav_music_genre'].apply(lambda x: 'other' if x not in fav_music else x)"
   ]
  },
  {
   "cell_type": "code",
   "execution_count": 67,
   "id": "6b6166b3-f9dd-4e74-8c93-3168143ac313",
   "metadata": {
    "tags": []
   },
   "outputs": [],
   "source": [
    "df['fav_music_genre'] = df['fav_music_genre'].str.lower()"
   ]
  },
  {
   "cell_type": "code",
   "execution_count": 68,
   "id": "b48da99c-fdcc-42ec-a8c1-82ad085e628f",
   "metadata": {
    "tags": []
   },
   "outputs": [
    {
     "data": {
      "text/plain": [
       "fav_music_genre\n",
       "melody       259\n",
       "classical     87\n",
       "pop           85\n",
       "rap           55\n",
       "other         34\n",
       "Name: count, dtype: int64"
      ]
     },
     "execution_count": 68,
     "metadata": {},
     "output_type": "execute_result"
    }
   ],
   "source": [
    "df['fav_music_genre'].value_counts()"
   ]
  },
  {
   "cell_type": "code",
   "execution_count": 69,
   "id": "2a65c115-3ce2-4f58-af28-ebbeb85f1a71",
   "metadata": {
    "tags": []
   },
   "outputs": [],
   "source": [
    "df['music_time_slot'] = df['music_time_slot'].str.lower()"
   ]
  },
  {
   "cell_type": "code",
   "execution_count": 70,
   "id": "bcd0854e-c200-4c86-834d-1f051b1b20bb",
   "metadata": {
    "tags": []
   },
   "outputs": [
    {
     "data": {
      "text/plain": [
       "music_time_slot\n",
       "night        312\n",
       "afternoon    117\n",
       "morning       91\n",
       "Name: count, dtype: int64"
      ]
     },
     "execution_count": 70,
     "metadata": {},
     "output_type": "execute_result"
    }
   ],
   "source": [
    "df['music_time_slot'].value_counts()"
   ]
  },
  {
   "cell_type": "code",
   "execution_count": 71,
   "id": "fc22da7f-0c71-42b6-9263-8ad0a739fda7",
   "metadata": {
    "tags": []
   },
   "outputs": [
    {
     "data": {
      "text/plain": [
       "music_Influencial_mood\n",
       "Relaxation and stress relief                                                                                     195\n",
       "Uplifting and motivational                                                                                        67\n",
       "Sadness or melancholy                                                                                             55\n",
       "Relaxation and stress relief, Uplifting and motivational                                                          44\n",
       "Relaxation and stress relief, Uplifting and motivational, Sadness or melancholy, Social gatherings or parties     35\n",
       "Relaxation and stress relief, Sadness or melancholy                                                               33\n",
       "Relaxation and stress relief, Uplifting and motivational, Sadness or melancholy                                   22\n",
       "Social gatherings or parties                                                                                      16\n",
       "Relaxation and stress relief, Uplifting and motivational, Social gatherings or parties                            14\n",
       "Relaxation and stress relief, Social gatherings or parties                                                        13\n",
       "Uplifting and motivational, Sadness or melancholy                                                                 12\n",
       "Relaxation and stress relief, Sadness or melancholy, Social gatherings or parties                                  8\n",
       "Uplifting and motivational, Social gatherings or parties                                                           4\n",
       "Sadness or melancholy, Social gatherings or parties                                                                1\n",
       "Uplifting and motivational, Sadness or melancholy, Social gatherings or parties                                    1\n",
       "Name: count, dtype: int64"
      ]
     },
     "execution_count": 71,
     "metadata": {},
     "output_type": "execute_result"
    }
   ],
   "source": [
    "df['music_Influencial_mood'].value_counts()"
   ]
  },
  {
   "cell_type": "code",
   "execution_count": 72,
   "id": "7f99f490-b3eb-4514-bc4e-0284a889074a",
   "metadata": {
    "tags": []
   },
   "outputs": [],
   "source": [
    "music_mood = ['Relaxation and stress relief', 'Uplifting and motivational', 'Sadness or melancholy', 'Social gatherings or parties']"
   ]
  },
  {
   "cell_type": "code",
   "execution_count": 73,
   "id": "066b38e6-d2a6-4b00-9903-e635adec4623",
   "metadata": {
    "tags": []
   },
   "outputs": [],
   "source": [
    "df['music_Influencial_mood'] = df['music_Influencial_mood'].apply(lambda x: 'mix' if x not in music_mood else x)"
   ]
  },
  {
   "cell_type": "code",
   "execution_count": 74,
   "id": "3465c2db-9539-4510-99d4-8d9915000c4b",
   "metadata": {
    "tags": []
   },
   "outputs": [],
   "source": [
    "df['music_Influencial_mood'].replace(['Relaxation and stress relief', 'Uplifting and motivational', 'Sadness or melancholy', 'Social gatherings or parties'] , ['relaxation', 'motivational', 'sad', 'social'], inplace = True)"
   ]
  },
  {
   "cell_type": "code",
   "execution_count": 75,
   "id": "bf6efbbf-6bce-4e5a-8f65-2d6d3b9865cf",
   "metadata": {
    "tags": []
   },
   "outputs": [
    {
     "data": {
      "text/plain": [
       "music_Influencial_mood\n",
       "relaxation      195\n",
       "mix             187\n",
       "motivational     67\n",
       "sad              55\n",
       "social           16\n",
       "Name: count, dtype: int64"
      ]
     },
     "execution_count": 75,
     "metadata": {},
     "output_type": "execute_result"
    }
   ],
   "source": [
    "df['music_Influencial_mood'].value_counts()"
   ]
  },
  {
   "cell_type": "code",
   "execution_count": 76,
   "id": "e81bd877-e40a-4895-99b2-e243f51034f5",
   "metadata": {
    "tags": []
   },
   "outputs": [
    {
     "data": {
      "text/plain": [
       "music_lis_frequency\n",
       "While Traveling                                                                111\n",
       "leisure time                                                                    87\n",
       "While Traveling, leisure time                                                   65\n",
       "While Traveling, Workout session, leisure time                                  48\n",
       "Workout session                                                                 33\n",
       "Study Hours                                                                     19\n",
       "Office hours                                                                    16\n",
       "While Traveling, Workout session                                                16\n",
       "Office hours, While Traveling                                                   12\n",
       "Office hours, While Traveling, leisure time                                     12\n",
       "Office hours, While Traveling, Workout session                                  10\n",
       "Study Hours, While Traveling, leisure time                                      10\n",
       "Study Hours, While Traveling                                                     9\n",
       "Office hours, Study Hours, While Traveling, Workout session, leisure time        7\n",
       "Study Hours, While Traveling, Workout session                                    7\n",
       "Office hours, Study Hours, While Traveling                                       7\n",
       "Study Hours, Workout session                                                     6\n",
       "Office hours, leisure time                                                       6\n",
       "Workout session, leisure time                                                    6\n",
       "Study Hours, While Traveling, Workout session, leisure time                      4\n",
       "Study Hours, Workout session, leisure time                                       4\n",
       "Study Hours, leisure time                                                        4\n",
       "Office hours, While Traveling, Workout session, leisure time                     3\n",
       "Office hours, Study Hours, While Traveling, leisure time                         3\n",
       "Office hours, Workout session                                                    3\n",
       "Office hours, While Traveling,                                                   2\n",
       "Office hours, Study Hours, Workout session                                       2\n",
       "While Traveling, Workout session, leisure time, Night time, when cooking         1\n",
       "Social gatherings                                                                1\n",
       "Random                                                                           1\n",
       "Office hours, Workout session, leisure time                                      1\n",
       "While Traveling, Before bed                                                      1\n",
       "Office hours, Study Hours, While Traveling, Workout session                      1\n",
       "Office hours, Study Hours, While Traveling, Workout session, leisure time,       1\n",
       "Office hours,Study Hours, While Traveling, leisure time                          1\n",
       "Name: count, dtype: int64"
      ]
     },
     "execution_count": 76,
     "metadata": {},
     "output_type": "execute_result"
    }
   ],
   "source": [
    "df['music_lis_frequency'].value_counts()"
   ]
  },
  {
   "cell_type": "code",
   "execution_count": 77,
   "id": "22f3df0d-4d4f-4bc5-84b8-49386962c9c8",
   "metadata": {
    "tags": []
   },
   "outputs": [],
   "source": [
    "frequency_list_full = ['While Traveling', 'leisure time', 'Workout session', 'Study Hours', 'Office hours', 'Social gatherings ', 'Random ']"
   ]
  },
  {
   "cell_type": "code",
   "execution_count": 78,
   "id": "8b0cd08f-cf53-40a6-afd6-8a757538bfe1",
   "metadata": {
    "tags": []
   },
   "outputs": [],
   "source": [
    "frequency_list_shorted = ['While Traveling', 'leisure time', 'Workout session', 'Study Hours', 'Office hours', 'mix']"
   ]
  },
  {
   "cell_type": "code",
   "execution_count": 79,
   "id": "69b8cb0b-0de1-4344-8879-c692b2351a80",
   "metadata": {
    "tags": []
   },
   "outputs": [],
   "source": [
    "df['music_lis_frequency'] = df['music_lis_frequency'].apply(lambda x: 'mix' if x not in frequency_list_full else x)"
   ]
  },
  {
   "cell_type": "code",
   "execution_count": 80,
   "id": "72f9f484-270b-4a62-8e8c-d7ab47d260ce",
   "metadata": {},
   "outputs": [
    {
     "data": {
      "text/plain": [
       "music_lis_frequency\n",
       "mix                   252\n",
       "While Traveling       111\n",
       "leisure time           87\n",
       "Workout session        33\n",
       "Study Hours            19\n",
       "Office hours           16\n",
       "Social gatherings       1\n",
       "Random                  1\n",
       "Name: count, dtype: int64"
      ]
     },
     "execution_count": 80,
     "metadata": {},
     "output_type": "execute_result"
    }
   ],
   "source": [
    "df['music_lis_frequency'].value_counts()"
   ]
  },
  {
   "cell_type": "code",
   "execution_count": 81,
   "id": "6e6eec36-fe62-4dfe-af19-bc68fd6a1e96",
   "metadata": {
    "tags": []
   },
   "outputs": [],
   "source": [
    "df['music_lis_frequency'] = df['music_lis_frequency'].apply(lambda x: 'other' if x not in frequency_list_shorted else x)"
   ]
  },
  {
   "cell_type": "code",
   "execution_count": 82,
   "id": "76678a45-66cc-4cc2-9e31-241d86d4c0ac",
   "metadata": {
    "tags": []
   },
   "outputs": [],
   "source": [
    "df['music_lis_frequency'].replace(['While Traveling', 'leisure time', 'Workout session', 'Study Hours', 'Office hours'] , ['traveling', 'leisure', 'workout', 'study', 'office'], inplace = True)"
   ]
  },
  {
   "cell_type": "code",
   "execution_count": 83,
   "id": "efdd958d-5666-4f92-838f-45b09d471473",
   "metadata": {
    "tags": []
   },
   "outputs": [
    {
     "data": {
      "text/plain": [
       "music_lis_frequency\n",
       "mix          252\n",
       "traveling    111\n",
       "leisure       87\n",
       "workout       33\n",
       "study         19\n",
       "office        16\n",
       "other          2\n",
       "Name: count, dtype: int64"
      ]
     },
     "execution_count": 83,
     "metadata": {},
     "output_type": "execute_result"
    }
   ],
   "source": [
    "df['music_lis_frequency'].value_counts()"
   ]
  },
  {
   "cell_type": "code",
   "execution_count": 84,
   "id": "d8521601-e8c3-4694-ac65-e173f3884d7b",
   "metadata": {
    "tags": []
   },
   "outputs": [
    {
     "data": {
      "text/plain": [
       "music_expl_method\n",
       "recommendations                              113\n",
       "Playlists                                    112\n",
       "recommendations, Playlists                    86\n",
       "Others                                        55\n",
       "Radio                                         51\n",
       "Playlists, Radio                              18\n",
       "recommendations, Playlists, Others            18\n",
       "recommendations, Others                       15\n",
       "recommendations, Playlists, Radio             13\n",
       "Playlists, Others                              9\n",
       "Radio, Others                                  7\n",
       "recommendations, Radio                         6\n",
       "Playlists, Radio, Others                       6\n",
       "recommendations, Radio, Others                 4\n",
       "recommendations, Playlists, Radio, Others      2\n",
       "recommendations,Others, Social media           1\n",
       "Others, Social media                           1\n",
       "Others, Friends                                1\n",
       "recommendations, Others, Social media          1\n",
       "Others, Search                                 1\n",
       "Name: count, dtype: int64"
      ]
     },
     "execution_count": 84,
     "metadata": {},
     "output_type": "execute_result"
    }
   ],
   "source": [
    "df['music_expl_method'].value_counts()"
   ]
  },
  {
   "cell_type": "code",
   "execution_count": 85,
   "id": "4a1e25c4-7ad0-4450-a2c3-a37d32ad9858",
   "metadata": {
    "tags": []
   },
   "outputs": [],
   "source": [
    "music_method = ['recommendations', 'Playlists', 'Others', 'Radio']"
   ]
  },
  {
   "cell_type": "code",
   "execution_count": 86,
   "id": "9098797d-a52c-406c-b237-b52ef821eb20",
   "metadata": {
    "tags": []
   },
   "outputs": [],
   "source": [
    "df['music_expl_method'] = df['music_expl_method'].apply(lambda x: 'mix' if x not in music_method else x)"
   ]
  },
  {
   "cell_type": "code",
   "execution_count": 87,
   "id": "49b0ec33-2db8-4c14-9635-62b376a157b5",
   "metadata": {
    "tags": []
   },
   "outputs": [],
   "source": [
    "df['music_expl_method'] = df['music_expl_method'].str.lower()"
   ]
  },
  {
   "cell_type": "code",
   "execution_count": 88,
   "id": "bd4cfdf3-89b4-4bba-9eff-c023a7ef49b0",
   "metadata": {
    "tags": []
   },
   "outputs": [
    {
     "data": {
      "text/plain": [
       "music_expl_method\n",
       "mix                189\n",
       "recommendations    113\n",
       "playlists          112\n",
       "others              55\n",
       "radio               51\n",
       "Name: count, dtype: int64"
      ]
     },
     "execution_count": 88,
     "metadata": {},
     "output_type": "execute_result"
    }
   ],
   "source": [
    "df['music_expl_method'].value_counts()"
   ]
  },
  {
   "cell_type": "code",
   "execution_count": 89,
   "id": "0eba60cc-f757-42e3-bf98-4cfe14215fb4",
   "metadata": {
    "tags": []
   },
   "outputs": [
    {
     "data": {
      "text/plain": [
       "pod_lis_frequency\n",
       "Rarely                  201\n",
       "Never                   130\n",
       "Once a week              91\n",
       "Several times a week     78\n",
       "Daily                    20\n",
       "Name: count, dtype: int64"
      ]
     },
     "execution_count": 89,
     "metadata": {},
     "output_type": "execute_result"
    }
   ],
   "source": [
    "df['pod_lis_frequency'].value_counts()"
   ]
  },
  {
   "cell_type": "code",
   "execution_count": 90,
   "id": "caa21c3e-0198-4c25-a61d-7ea8c6fac421",
   "metadata": {
    "tags": []
   },
   "outputs": [],
   "source": [
    "df['pod_lis_frequency'].replace(['Never', 'Rarely', 'Once a week', 'Several times a week', 'Daily'], [1 ,2 ,3, 4, 5], inplace = True)"
   ]
  },
  {
   "cell_type": "code",
   "execution_count": 91,
   "id": "4f5fd374-84e1-44fa-975a-4071974779ed",
   "metadata": {
    "tags": []
   },
   "outputs": [
    {
     "data": {
      "text/plain": [
       "fav_pod_genre\n",
       "miss_data                                           148\n",
       "Comedy                                              107\n",
       "Lifestyle and Health                                102\n",
       "Health and Fitness                                   78\n",
       "Sports                                               51\n",
       "Food and cooking                                     20\n",
       "Finance related and current affairs                   1\n",
       "Educational                                           1\n",
       "Self help                                             1\n",
       "Novels                                                1\n",
       "Political, informative, topics that interests me      1\n",
       "Murder Mystery                                        1\n",
       "Technology                                            1\n",
       "Spiritual and devotional                              1\n",
       "General knowledge                                     1\n",
       "Dance and Relevant cases                              1\n",
       "Informative stuff                                     1\n",
       "Everything                                            1\n",
       "Business                                              1\n",
       "Stories                                               1\n",
       "Name: count, dtype: int64"
      ]
     },
     "execution_count": 91,
     "metadata": {},
     "output_type": "execute_result"
    }
   ],
   "source": [
    "df['fav_pod_genre'].value_counts()"
   ]
  },
  {
   "cell_type": "code",
   "execution_count": 92,
   "id": "c036b6f2-1136-42ef-9fa0-7a3a75163eed",
   "metadata": {},
   "outputs": [],
   "source": [
    "fav_genre = ['None', 'Comedy', 'Lifestyle and Health', 'Health and Fitness', 'Sports', 'miss_data']\n",
    "fav_genre_short = ['None', 'Comedy', 'other', 'miss_data']\n",
    "\n",
    "def categorize_genre(x):\n",
    "    if x not in fav_genre:\n",
    "        return 'other'\n",
    "    elif x not in fav_genre_short:\n",
    "        return 'fit'\n",
    "    else:\n",
    "        return x\n",
    "\n",
    "df['fav_pod_genre'] = df['fav_pod_genre'].apply(categorize_genre)\n"
   ]
  },
  {
   "cell_type": "code",
   "execution_count": 93,
   "id": "83a1517a-00e5-4dd2-a84f-6153b276a718",
   "metadata": {
    "tags": []
   },
   "outputs": [],
   "source": [
    "df['fav_pod_genre'] = df['fav_pod_genre'].str.lower()"
   ]
  },
  {
   "cell_type": "code",
   "execution_count": 94,
   "id": "994b88b8-3da1-4a63-9bd8-0b3c8a6ff96a",
   "metadata": {},
   "outputs": [],
   "source": [
    "df['fav_pod_genre'] = df['fav_pod_genre'].astype(str)"
   ]
  },
  {
   "cell_type": "code",
   "execution_count": 95,
   "id": "dde7666b-124c-44ab-ae0c-4840bd0025aa",
   "metadata": {
    "tags": []
   },
   "outputs": [
    {
     "data": {
      "text/plain": [
       "fav_pod_genre\n",
       "fit          231\n",
       "miss_data    148\n",
       "comedy       107\n",
       "other         34\n",
       "Name: count, dtype: int64"
      ]
     },
     "execution_count": 95,
     "metadata": {},
     "output_type": "execute_result"
    }
   ],
   "source": [
    "df['fav_pod_genre'].value_counts()"
   ]
  },
  {
   "cell_type": "code",
   "execution_count": 96,
   "id": "e58e13e2-b06b-462c-8b40-a68e7c099732",
   "metadata": {
    "tags": []
   },
   "outputs": [
    {
     "name": "stdout",
     "output_type": "stream",
     "text": [
      "object\n"
     ]
    }
   ],
   "source": [
    "print(df['fav_pod_genre'].dtype)"
   ]
  },
  {
   "cell_type": "code",
   "execution_count": 97,
   "id": "8e450cdf-4d87-4e44-84f8-59211ee6dcda",
   "metadata": {},
   "outputs": [
    {
     "name": "stdout",
     "output_type": "stream",
     "text": [
      "<class 'pandas.core.frame.DataFrame'>\n",
      "RangeIndex: 520 entries, 0 to 519\n",
      "Data columns (total 19 columns):\n",
      " #   Column                       Non-Null Count  Dtype \n",
      "---  ------                       --------------  ----- \n",
      " 0   Age                          520 non-null    int64 \n",
      " 1   Gender                       520 non-null    object\n",
      " 2   spotify_usage_period         520 non-null    int64 \n",
      " 3   spotify_subscription_plan    520 non-null    int64 \n",
      " 4   premium_sub_willingness      520 non-null    int64 \n",
      " 5   preffered_premium_plan       520 non-null    int64 \n",
      " 6   preferred_listening_content  520 non-null    int64 \n",
      " 7   fav_music_genre              520 non-null    object\n",
      " 8   music_time_slot              520 non-null    object\n",
      " 9   music_Influencial_mood       520 non-null    object\n",
      " 10  music_lis_frequency          520 non-null    object\n",
      " 11  music_expl_method            520 non-null    object\n",
      " 12  music_recc_rating            520 non-null    int64 \n",
      " 13  pod_lis_frequency            520 non-null    int64 \n",
      " 14  fav_pod_genre                520 non-null    object\n",
      " 15  preffered_pod_format         520 non-null    object\n",
      " 16  pod_host_preference          520 non-null    object\n",
      " 17  preffered_pod_duration       520 non-null    object\n",
      " 18  pod_variety_satisfaction     520 non-null    object\n",
      "dtypes: int64(8), object(11)\n",
      "memory usage: 77.3+ KB\n"
     ]
    }
   ],
   "source": [
    "df.info()"
   ]
  },
  {
   "cell_type": "code",
   "execution_count": 98,
   "id": "b95fa282-09ed-4a18-a5c8-4a9a64a18c69",
   "metadata": {
    "tags": []
   },
   "outputs": [],
   "source": [
    "df['preffered_pod_format'] = df['preffered_pod_format'].str.lower()"
   ]
  },
  {
   "cell_type": "code",
   "execution_count": 99,
   "id": "468a8f37-de02-42f5-9d70-4e618b25b152",
   "metadata": {
    "tags": []
   },
   "outputs": [],
   "source": [
    "df['preffered_pod_format'].replace('story telling', 'story', inplace = True)"
   ]
  },
  {
   "cell_type": "code",
   "execution_count": 100,
   "id": "32a48148-934e-4e62-988b-4569ddc4350d",
   "metadata": {
    "tags": []
   },
   "outputs": [
    {
     "data": {
      "text/plain": [
       "preffered_pod_format\n",
       "story             213\n",
       "conversational    136\n",
       "interview          93\n",
       "educational        78\n",
       "Name: count, dtype: int64"
      ]
     },
     "execution_count": 100,
     "metadata": {},
     "output_type": "execute_result"
    }
   ],
   "source": [
    "df['preffered_pod_format'].value_counts()"
   ]
  },
  {
   "cell_type": "code",
   "execution_count": 101,
   "id": "6737f777-be64-4e18-bf5e-5ef3e98a5d11",
   "metadata": {
    "tags": []
   },
   "outputs": [],
   "source": [
    "df['pod_host_preference'] = df['pod_host_preference'].str.lower()"
   ]
  },
  {
   "cell_type": "code",
   "execution_count": 102,
   "id": "b01f9d3a-a141-464e-b3ff-8ec2d79da385",
   "metadata": {
    "tags": []
   },
   "outputs": [],
   "source": [
    "df['pod_host_preference'].replace(['well known individuals', 'unknown podcasters'] , ['knowns', 'unknowns'], inplace = True)"
   ]
  },
  {
   "cell_type": "code",
   "execution_count": 103,
   "id": "f9205097-b7aa-4457-80aa-66ee976758a2",
   "metadata": {
    "tags": []
   },
   "outputs": [
    {
     "data": {
      "text/plain": [
       "pod_host_preference\n",
       "both         180\n",
       "miss_data    141\n",
       "knowns       114\n",
       "unknowns      85\n",
       "Name: count, dtype: int64"
      ]
     },
     "execution_count": 103,
     "metadata": {},
     "output_type": "execute_result"
    }
   ],
   "source": [
    "df['pod_host_preference'].value_counts()"
   ]
  },
  {
   "cell_type": "code",
   "execution_count": 104,
   "id": "c1a69aff-1e38-4cf5-b69a-0d71971ded78",
   "metadata": {
    "tags": []
   },
   "outputs": [
    {
     "data": {
      "text/plain": [
       "pod_variety_satisfaction\n",
       "Ok                   280\n",
       "Satisfied            162\n",
       "Very Satisfied        48\n",
       "Dissatisfied          20\n",
       "Very Dissatisfied     10\n",
       "Name: count, dtype: int64"
      ]
     },
     "execution_count": 104,
     "metadata": {},
     "output_type": "execute_result"
    }
   ],
   "source": [
    "df['pod_variety_satisfaction'].value_counts()"
   ]
  },
  {
   "cell_type": "code",
   "execution_count": 105,
   "id": "18e78bc5-4381-410b-9ce1-2ab96c96a4dd",
   "metadata": {
    "tags": []
   },
   "outputs": [],
   "source": [
    "df['preffered_pod_duration'] = df['preffered_pod_duration'].str.lower()"
   ]
  },
  {
   "cell_type": "code",
   "execution_count": 106,
   "id": "c392783d-c2f2-4aa5-b903-78abd8ca624e",
   "metadata": {
    "tags": []
   },
   "outputs": [
    {
     "data": {
      "text/plain": [
       "preffered_pod_duration\n",
       "shorter    320\n",
       "both       117\n",
       "longer      83\n",
       "Name: count, dtype: int64"
      ]
     },
     "execution_count": 106,
     "metadata": {},
     "output_type": "execute_result"
    }
   ],
   "source": [
    "df['preffered_pod_duration'].value_counts()"
   ]
  },
  {
   "cell_type": "code",
   "execution_count": 107,
   "id": "751128b5-4bab-45d0-a2ac-d7dcb2fa3685",
   "metadata": {
    "tags": []
   },
   "outputs": [],
   "source": [
    "df['pod_variety_satisfaction'].replace(['Very Dissatisfied', 'Dissatisfied', 'Ok', 'Satisfied', 'Very Satisfied'] , [1, 2, 3, 4, 5], inplace = True)"
   ]
  },
  {
   "cell_type": "code",
   "execution_count": 108,
   "id": "bd8018a3-f84f-469a-80a4-257f926a78b8",
   "metadata": {
    "tags": []
   },
   "outputs": [],
   "source": [
    "df.columns = df.columns.str.lower()"
   ]
  },
  {
   "cell_type": "code",
   "execution_count": 109,
   "id": "7dd551fb-f12b-4407-b4c0-87fa8c95abad",
   "metadata": {
    "tags": []
   },
   "outputs": [
    {
     "data": {
      "text/plain": [
       "spotify_subscription_plan\n",
       "0    424\n",
       "1     96\n",
       "Name: count, dtype: int64"
      ]
     },
     "execution_count": 109,
     "metadata": {},
     "output_type": "execute_result"
    }
   ],
   "source": [
    "df['spotify_subscription_plan'].value_counts()"
   ]
  },
  {
   "cell_type": "code",
   "execution_count": 110,
   "id": "7667d294-a0a9-4d35-a463-dd0ae9928211",
   "metadata": {},
   "outputs": [
    {
     "data": {
      "text/plain": [
       "premium_sub_willingness\n",
       "0    334\n",
       "1    186\n",
       "Name: count, dtype: int64"
      ]
     },
     "execution_count": 110,
     "metadata": {},
     "output_type": "execute_result"
    }
   ],
   "source": [
    "df['premium_sub_willingness'].value_counts()"
   ]
  },
  {
   "cell_type": "markdown",
   "id": "8d0cca75-cb3c-4c49-94d5-4e111c7b5398",
   "metadata": {},
   "source": [
    "# Checking if the subscription condition is met. If not - remove observations"
   ]
  },
  {
   "cell_type": "code",
   "execution_count": 111,
   "id": "235ffb8f-efc7-4985-b89f-2f059231a06a",
   "metadata": {
    "tags": []
   },
   "outputs": [],
   "source": [
    "df_sub = df['spotify_subscription_plan']\n",
    "df_prem = df['premium_sub_willingness']\n",
    "df_pref = df['preffered_premium_plan']"
   ]
  },
  {
   "cell_type": "code",
   "execution_count": 112,
   "id": "db38b8e0-2d58-41b9-a6b1-91eb8d7e57f6",
   "metadata": {
    "tags": []
   },
   "outputs": [],
   "source": [
    "df_sub_dscp = df_descriptive['spotify_subscription_plan']\n",
    "df_prem_dscp = df_descriptive['premium_sub_willingness']\n",
    "df_pref_dscp = df_descriptive['preffered_premium_plan']"
   ]
  },
  {
   "cell_type": "code",
   "execution_count": 113,
   "id": "d697228d-5c2f-42c7-9712-46351e04bdc6",
   "metadata": {},
   "outputs": [
    {
     "data": {
      "text/plain": [
       "preffered_premium_plan\n",
       "None                              200\n",
       "Individual Plan- Rs 119/ month     95\n",
       "Student Plan-Rs 59/month           94\n",
       "Duo plan- Rs 149/month             84\n",
       "Family Plan-Rs 179/month           47\n",
       "Name: count, dtype: int64"
      ]
     },
     "execution_count": 113,
     "metadata": {},
     "output_type": "execute_result"
    }
   ],
   "source": [
    "df_pref_dscp.value_counts()"
   ]
  },
  {
   "cell_type": "code",
   "execution_count": 114,
   "id": "def10d30-f739-4665-bec0-03e3e09c9a4e",
   "metadata": {},
   "outputs": [
    {
     "data": {
      "text/plain": [
       "spotify_subscription_plan\n",
       "0    424\n",
       "1     96\n",
       "Name: count, dtype: int64"
      ]
     },
     "execution_count": 114,
     "metadata": {},
     "output_type": "execute_result"
    }
   ],
   "source": [
    "df_sub_dscp.value_counts()"
   ]
  },
  {
   "cell_type": "code",
   "execution_count": 115,
   "id": "fcc798dc-c1a3-4a46-b138-85719707865c",
   "metadata": {},
   "outputs": [
    {
     "data": {
      "text/plain": [
       "premium_sub_willingness\n",
       "0    334\n",
       "1    186\n",
       "Name: count, dtype: int64"
      ]
     },
     "execution_count": 115,
     "metadata": {},
     "output_type": "execute_result"
    }
   ],
   "source": [
    "df_prem_dscp.value_counts()"
   ]
  },
  {
   "cell_type": "code",
   "execution_count": 116,
   "id": "58a41aa5-a9f5-4910-b796-e8259597ae97",
   "metadata": {
    "tags": []
   },
   "outputs": [],
   "source": [
    "mask = ((df_sub != 1) | (df_prem != 1)) & (df_pref != 1)\n",
    "df.loc[mask, 'preffered_premium_plan'] = np.nan"
   ]
  },
  {
   "cell_type": "code",
   "execution_count": 117,
   "id": "446aaa7a-0230-457f-8255-545b2c3a7047",
   "metadata": {
    "tags": []
   },
   "outputs": [],
   "source": [
    "mask_dscp = ((df_sub_dscp != 1) | (df_prem_dscp != 1)) & (df_pref_dscp != 'None')\n",
    "df_descriptive.loc[mask_dscp, 'preffered_premium_plan'] = np.nan"
   ]
  },
  {
   "cell_type": "code",
   "execution_count": 118,
   "id": "70585590-a5b3-4194-8a79-816356c902a1",
   "metadata": {},
   "outputs": [
    {
     "data": {
      "text/plain": [
       "preffered_premium_plan\n",
       "None                              200\n",
       "Individual Plan- Rs 119/ month     34\n",
       "Duo plan- Rs 149/month             18\n",
       "Family Plan-Rs 179/month           11\n",
       "Student Plan-Rs 59/month            9\n",
       "Name: count, dtype: int64"
      ]
     },
     "execution_count": 118,
     "metadata": {},
     "output_type": "execute_result"
    }
   ],
   "source": [
    "df_pref_dscp.value_counts()"
   ]
  },
  {
   "cell_type": "code",
   "execution_count": 119,
   "id": "7ab76b34-6927-4c89-ac45-774f71446da7",
   "metadata": {
    "tags": []
   },
   "outputs": [],
   "source": [
    "df.dropna(inplace = True)\n",
    "df_descriptive.dropna(inplace = True)"
   ]
  },
  {
   "cell_type": "code",
   "execution_count": 120,
   "id": "5c073f03-7a9e-4cd9-a395-32363c4613f2",
   "metadata": {},
   "outputs": [
    {
     "data": {
      "text/plain": [
       "preffered_premium_plan\n",
       "None                              200\n",
       "Individual Plan- Rs 119/ month     34\n",
       "Duo plan- Rs 149/month             18\n",
       "Family Plan-Rs 179/month           11\n",
       "Student Plan-Rs 59/month            9\n",
       "Name: count, dtype: int64"
      ]
     },
     "execution_count": 120,
     "metadata": {},
     "output_type": "execute_result"
    }
   ],
   "source": [
    "df_pref_dscp.value_counts()"
   ]
  },
  {
   "cell_type": "code",
   "execution_count": 121,
   "id": "9a561bd8-be6f-4d46-95e8-6ed0f79d2d76",
   "metadata": {
    "tags": []
   },
   "outputs": [
    {
     "name": "stdout",
     "output_type": "stream",
     "text": [
      "fav_pod_genre\n",
      "fit          112\n",
      "miss_data     81\n",
      "comedy        63\n",
      "other         16\n",
      "Name: count, dtype: int64\n"
     ]
    }
   ],
   "source": [
    "print(df['fav_pod_genre'].value_counts())"
   ]
  },
  {
   "cell_type": "code",
   "execution_count": 122,
   "id": "591d57af-7f1c-47c2-b5d8-825e75067ca6",
   "metadata": {},
   "outputs": [
    {
     "name": "stdout",
     "output_type": "stream",
     "text": [
      "['miss_data' 'fit' 'comedy' 'other']\n"
     ]
    }
   ],
   "source": [
    "print(df['fav_pod_genre'].unique())"
   ]
  },
  {
   "cell_type": "code",
   "execution_count": 123,
   "id": "e940719b-acf4-4fa1-9512-4098797457f8",
   "metadata": {},
   "outputs": [
    {
     "name": "stdout",
     "output_type": "stream",
     "text": [
      "<class 'pandas.core.frame.DataFrame'>\n",
      "Index: 272 entries, 3 to 519\n",
      "Data columns (total 19 columns):\n",
      " #   Column                       Non-Null Count  Dtype  \n",
      "---  ------                       --------------  -----  \n",
      " 0   age                          272 non-null    int64  \n",
      " 1   gender                       272 non-null    object \n",
      " 2   spotify_usage_period         272 non-null    int64  \n",
      " 3   spotify_subscription_plan    272 non-null    int64  \n",
      " 4   premium_sub_willingness      272 non-null    int64  \n",
      " 5   preffered_premium_plan       272 non-null    float64\n",
      " 6   preferred_listening_content  272 non-null    int64  \n",
      " 7   fav_music_genre              272 non-null    object \n",
      " 8   music_time_slot              272 non-null    object \n",
      " 9   music_influencial_mood       272 non-null    object \n",
      " 10  music_lis_frequency          272 non-null    object \n",
      " 11  music_expl_method            272 non-null    object \n",
      " 12  music_recc_rating            272 non-null    int64  \n",
      " 13  pod_lis_frequency            272 non-null    int64  \n",
      " 14  fav_pod_genre                272 non-null    object \n",
      " 15  preffered_pod_format         272 non-null    object \n",
      " 16  pod_host_preference          272 non-null    object \n",
      " 17  preffered_pod_duration       272 non-null    object \n",
      " 18  pod_variety_satisfaction     272 non-null    int64  \n",
      "dtypes: float64(1), int64(8), object(10)\n",
      "memory usage: 42.5+ KB\n"
     ]
    }
   ],
   "source": [
    "df.info()"
   ]
  },
  {
   "cell_type": "markdown",
   "id": "cd92965b-68d6-4d7a-8db5-0cd44865d5d6",
   "metadata": {},
   "source": [
    "# One Hot Encoding"
   ]
  },
  {
   "cell_type": "code",
   "execution_count": 124,
   "id": "96e4c044-5e15-4b93-b82e-7becc79c6e9c",
   "metadata": {
    "tags": []
   },
   "outputs": [],
   "source": [
    "ohe_loc_gender = pd.get_dummies(df['gender'], prefix='gender')\n",
    "df = pd.concat([df, ohe_loc_gender], axis=1)\n",
    "df.drop('gender', axis=1, inplace=True)"
   ]
  },
  {
   "cell_type": "code",
   "execution_count": 125,
   "id": "ecb99dc4-4dc7-4b93-a838-03b046b4db83",
   "metadata": {
    "tags": []
   },
   "outputs": [],
   "source": [
    "ohe_loc_music_genre = pd.get_dummies(df['fav_music_genre'], prefix='fav_music')\n",
    "df = pd.concat([df, ohe_loc_music_genre], axis=1)\n",
    "df.drop('fav_music_genre', axis=1, inplace=True)"
   ]
  },
  {
   "cell_type": "code",
   "execution_count": 126,
   "id": "f1aea79a-c1de-4a64-8712-f71e7c73daa9",
   "metadata": {
    "tags": []
   },
   "outputs": [],
   "source": [
    "ohe_loc_music_time = pd.get_dummies(df['music_time_slot'], prefix='time_slot')\n",
    "df = pd.concat([df, ohe_loc_music_time], axis=1)\n",
    "df.drop('music_time_slot', axis=1, inplace=True)"
   ]
  },
  {
   "cell_type": "code",
   "execution_count": 127,
   "id": "c8341ee2-b82c-467e-b3dd-34c57aa04ef6",
   "metadata": {
    "tags": []
   },
   "outputs": [],
   "source": [
    "ohe_loc_mood = pd.get_dummies(df['music_influencial_mood'], prefix='mood')\n",
    "df = pd.concat([df, ohe_loc_mood], axis=1)\n",
    "df.drop('music_influencial_mood', axis=1, inplace=True)"
   ]
  },
  {
   "cell_type": "code",
   "execution_count": 128,
   "id": "80727bdf-c9ff-4b49-a998-53cf5e92839b",
   "metadata": {
    "tags": []
   },
   "outputs": [],
   "source": [
    "ohe_loc_lis_frequency = pd.get_dummies(df['music_lis_frequency'], prefix='lis_freq')\n",
    "df = pd.concat([df, ohe_loc_lis_frequency], axis=1)\n",
    "df.drop('music_lis_frequency', axis=1, inplace=True)"
   ]
  },
  {
   "cell_type": "code",
   "execution_count": 129,
   "id": "9b5983d6-afdd-4e1a-81cb-e96be9ae1756",
   "metadata": {
    "tags": []
   },
   "outputs": [],
   "source": [
    "ohe_loc_expl_meth = pd.get_dummies(df['music_expl_method'], prefix='expl_meth')\n",
    "df = pd.concat([df, ohe_loc_expl_meth], axis=1)\n",
    "df.drop('music_expl_method', axis=1, inplace=True)"
   ]
  },
  {
   "cell_type": "code",
   "execution_count": 130,
   "id": "d87b008e-2cd6-4093-8126-162f38e18497",
   "metadata": {
    "tags": []
   },
   "outputs": [],
   "source": [
    "ohe_loc_fav_pod = pd.get_dummies(df['fav_pod_genre'], prefix='fav_pod')\n",
    "df = pd.concat([df, ohe_loc_fav_pod], axis=1)\n",
    "df.drop('fav_pod_genre', axis=1, inplace=True)"
   ]
  },
  {
   "cell_type": "code",
   "execution_count": 131,
   "id": "00793e40-ae0b-4979-9c59-2825bf13786b",
   "metadata": {
    "tags": []
   },
   "outputs": [],
   "source": [
    "ohe_loc_fav_format = pd.get_dummies(df['preffered_pod_format'], prefix='pod_format')\n",
    "df = pd.concat([df, ohe_loc_fav_format], axis=1)\n",
    "df.drop('preffered_pod_format', axis=1, inplace=True)"
   ]
  },
  {
   "cell_type": "code",
   "execution_count": 132,
   "id": "e65065e9-ae6d-4f28-a493-b6e1242ba7f9",
   "metadata": {
    "tags": []
   },
   "outputs": [],
   "source": [
    "ohe_loc_host_pref = pd.get_dummies(df['pod_host_preference'], prefix='pod_host_pref')\n",
    "df = pd.concat([df, ohe_loc_host_pref], axis=1)\n",
    "df.drop('pod_host_preference', axis=1, inplace=True)"
   ]
  },
  {
   "cell_type": "code",
   "execution_count": 133,
   "id": "a6a10538-afd5-44a0-83f5-ad9de87f1547",
   "metadata": {
    "tags": []
   },
   "outputs": [],
   "source": [
    "ohe_loc_pref_pod_dur = pd.get_dummies(df['preffered_pod_duration'], prefix='pref_pod_dur')\n",
    "df = pd.concat([df, ohe_loc_pref_pod_dur], axis=1)\n",
    "df.drop('preffered_pod_duration', axis=1, inplace=True)"
   ]
  },
  {
   "cell_type": "code",
   "execution_count": 134,
   "id": "e9b5badf-087a-4e00-b7da-824ef93d6bb0",
   "metadata": {
    "tags": []
   },
   "outputs": [],
   "source": [
    "df = df.astype('int16')"
   ]
  },
  {
   "cell_type": "code",
   "execution_count": 135,
   "id": "c5e7f38c-111e-48be-b00b-719ec6e18212",
   "metadata": {
    "tags": []
   },
   "outputs": [
    {
     "name": "stdout",
     "output_type": "stream",
     "text": [
      "<class 'pandas.core.frame.DataFrame'>\n",
      "Index: 272 entries, 3 to 519\n",
      "Data columns (total 52 columns):\n",
      " #   Column                       Non-Null Count  Dtype\n",
      "---  ------                       --------------  -----\n",
      " 0   age                          272 non-null    int16\n",
      " 1   spotify_usage_period         272 non-null    int16\n",
      " 2   spotify_subscription_plan    272 non-null    int16\n",
      " 3   premium_sub_willingness      272 non-null    int16\n",
      " 4   preffered_premium_plan       272 non-null    int16\n",
      " 5   preferred_listening_content  272 non-null    int16\n",
      " 6   music_recc_rating            272 non-null    int16\n",
      " 7   pod_lis_frequency            272 non-null    int16\n",
      " 8   pod_variety_satisfaction     272 non-null    int16\n",
      " 9   gender_female                272 non-null    int16\n",
      " 10  gender_male                  272 non-null    int16\n",
      " 11  gender_others                272 non-null    int16\n",
      " 12  fav_music_classical          272 non-null    int16\n",
      " 13  fav_music_melody             272 non-null    int16\n",
      " 14  fav_music_other              272 non-null    int16\n",
      " 15  fav_music_pop                272 non-null    int16\n",
      " 16  fav_music_rap                272 non-null    int16\n",
      " 17  time_slot_afternoon          272 non-null    int16\n",
      " 18  time_slot_morning            272 non-null    int16\n",
      " 19  time_slot_night              272 non-null    int16\n",
      " 20  mood_mix                     272 non-null    int16\n",
      " 21  mood_motivational            272 non-null    int16\n",
      " 22  mood_relaxation              272 non-null    int16\n",
      " 23  mood_sad                     272 non-null    int16\n",
      " 24  mood_social                  272 non-null    int16\n",
      " 25  lis_freq_leisure             272 non-null    int16\n",
      " 26  lis_freq_mix                 272 non-null    int16\n",
      " 27  lis_freq_office              272 non-null    int16\n",
      " 28  lis_freq_other               272 non-null    int16\n",
      " 29  lis_freq_study               272 non-null    int16\n",
      " 30  lis_freq_traveling           272 non-null    int16\n",
      " 31  lis_freq_workout             272 non-null    int16\n",
      " 32  expl_meth_mix                272 non-null    int16\n",
      " 33  expl_meth_others             272 non-null    int16\n",
      " 34  expl_meth_playlists          272 non-null    int16\n",
      " 35  expl_meth_radio              272 non-null    int16\n",
      " 36  expl_meth_recommendations    272 non-null    int16\n",
      " 37  fav_pod_comedy               272 non-null    int16\n",
      " 38  fav_pod_fit                  272 non-null    int16\n",
      " 39  fav_pod_miss_data            272 non-null    int16\n",
      " 40  fav_pod_other                272 non-null    int16\n",
      " 41  pod_format_conversational    272 non-null    int16\n",
      " 42  pod_format_educational       272 non-null    int16\n",
      " 43  pod_format_interview         272 non-null    int16\n",
      " 44  pod_format_story             272 non-null    int16\n",
      " 45  pod_host_pref_both           272 non-null    int16\n",
      " 46  pod_host_pref_knowns         272 non-null    int16\n",
      " 47  pod_host_pref_miss_data      272 non-null    int16\n",
      " 48  pod_host_pref_unknowns       272 non-null    int16\n",
      " 49  pref_pod_dur_both            272 non-null    int16\n",
      " 50  pref_pod_dur_longer          272 non-null    int16\n",
      " 51  pref_pod_dur_shorter         272 non-null    int16\n",
      "dtypes: int16(52)\n",
      "memory usage: 29.8 KB\n"
     ]
    }
   ],
   "source": [
    "df.info()"
   ]
  },
  {
   "cell_type": "code",
   "execution_count": 136,
   "id": "a7c43ab3-18e1-4d4d-95a0-a57b6526d696",
   "metadata": {
    "tags": []
   },
   "outputs": [
    {
     "name": "stdout",
     "output_type": "stream",
     "text": [
      "<class 'pandas.core.frame.DataFrame'>\n",
      "Index: 272 entries, 3 to 519\n",
      "Data columns (total 20 columns):\n",
      " #   Column                       Non-Null Count  Dtype \n",
      "---  ------                       --------------  ----- \n",
      " 0   Age                          272 non-null    object\n",
      " 1   Gender                       272 non-null    object\n",
      " 2   spotify_usage_period         272 non-null    int64 \n",
      " 3   spotify_listening_device     272 non-null    object\n",
      " 4   spotify_subscription_plan    272 non-null    int64 \n",
      " 5   premium_sub_willingness      272 non-null    int64 \n",
      " 6   preffered_premium_plan       272 non-null    object\n",
      " 7   preferred_listening_content  272 non-null    object\n",
      " 8   fav_music_genre              272 non-null    object\n",
      " 9   music_time_slot              272 non-null    object\n",
      " 10  music_Influencial_mood       272 non-null    object\n",
      " 11  music_lis_frequency          272 non-null    object\n",
      " 12  music_expl_method            272 non-null    object\n",
      " 13  music_recc_rating            272 non-null    int64 \n",
      " 14  pod_lis_frequency            272 non-null    object\n",
      " 15  fav_pod_genre                272 non-null    object\n",
      " 16  preffered_pod_format         272 non-null    object\n",
      " 17  pod_host_preference          272 non-null    object\n",
      " 18  preffered_pod_duration       272 non-null    object\n",
      " 19  pod_variety_satisfaction     272 non-null    object\n",
      "dtypes: int64(4), object(16)\n",
      "memory usage: 44.6+ KB\n"
     ]
    }
   ],
   "source": [
    "df_descriptive.info()"
   ]
  },
  {
   "cell_type": "markdown",
   "id": "0e5b7915-80c5-4858-897a-a765b3c81af8",
   "metadata": {},
   "source": [
    "# Data Visualizations"
   ]
  },
  {
   "cell_type": "code",
   "execution_count": 137,
   "id": "3f265324-5ba4-4422-aa39-9bbc9326dbf4",
   "metadata": {
    "tags": []
   },
   "outputs": [],
   "source": [
    "dfd_age = pd.DataFrame(df_descriptive['Age'])\n",
    "dfd_gender = pd.DataFrame(df_descriptive['Gender'])\n",
    "dfd_premium = pd.DataFrame(df_descriptive['preffered_premium_plan'])"
   ]
  },
  {
   "cell_type": "code",
   "execution_count": 138,
   "id": "52bef8c7-b1b6-4fe9-a938-651ec9a1fd99",
   "metadata": {
    "tags": []
   },
   "outputs": [],
   "source": [
    "# Creating new column - Thanks to this, we will obtain more informative plots\n",
    "\n",
    "df_descriptive['short_preffered_premium'] = \"\"\n",
    "\n",
    "\n",
    "for index, row in df_descriptive.iterrows():\n",
    "    if row['preffered_premium_plan'] != 'None':\n",
    "        df_descriptive.at[index, 'short_preffered_premium'] = 'premium_planned'\n",
    "    else:\n",
    "        df_descriptive.at[index, 'short_preffered_premium'] = row['preffered_premium_plan']\n"
   ]
  },
  {
   "cell_type": "code",
   "execution_count": 139,
   "id": "327e7302-c68c-4aa7-9fed-fa4f491de130",
   "metadata": {
    "tags": []
   },
   "outputs": [
    {
     "data": {
      "image/png": "[encoded data removed]",
      "text/plain": [
       "<Figure size 640x480 with 1 Axes>"
      ]
     },
     "metadata": {},
     "output_type": "display_data"
    }
   ],
   "source": [
    "sns.countplot(x = 'Age',\n",
    "              data = dfd_age,\n",
    "              order = dfd_age['Age'].value_counts().index, color = 'skyblue')\n",
    "plt.grid(True, alpha=0.3);"
   ]
  },
  {
   "cell_type": "code",
   "execution_count": 140,
   "id": "2fb417ee-b1bf-4686-93ae-5dd77a9b2339",
   "metadata": {
    "tags": []
   },
   "outputs": [
    {
     "data": {
      "image/png": "[encoded data removed]",
      "text/plain": [
       "<Figure size 640x480 with 1 Axes>"
      ]
     },
     "metadata": {},
     "output_type": "display_data"
    }
   ],
   "source": [
    "sns.countplot(x = 'Gender',\n",
    "              data = dfd_gender,\n",
    "              order = dfd_gender['Gender'].value_counts().index, color = 'skyblue')\n",
    "plt.grid(True, alpha=0.3);"
   ]
  },
  {
   "cell_type": "code",
   "execution_count": 141,
   "id": "6df2a8d9-f9b8-410d-959b-de8f7e9de95f",
   "metadata": {
    "tags": []
   },
   "outputs": [
    {
     "data": {
      "image/png": "[encoded data removed]",
      "text/plain": [
       "<Figure size 640x480 with 1 Axes>"
      ]
     },
     "metadata": {},
     "output_type": "display_data"
    }
   ],
   "source": [
    "sns.countplot(x = 'preffered_premium_plan',\n",
    "              data = dfd_premium,\n",
    "              order = dfd_premium['preffered_premium_plan'].value_counts().index, color = 'skyblue')\n",
    "plt.xticks(rotation=45, ha='right')\n",
    "plt.grid(True, alpha=0.3);"
   ]
  },
  {
   "cell_type": "code",
   "execution_count": 142,
   "id": "8e2506b6-7b92-41c3-b170-f2cfdf4cbfca",
   "metadata": {
    "tags": []
   },
   "outputs": [],
   "source": [
    "df_grpd_age_short = df_descriptive.groupby(by=['short_preffered_premium', 'Age']).size().reset_index(name = 'count')"
   ]
  },
  {
   "cell_type": "code",
   "execution_count": 143,
   "id": "7795263c-629b-407b-8736-2c772a92e4af",
   "metadata": {
    "tags": []
   },
   "outputs": [],
   "source": [
    "df_grpd_age_short.columns = df_grpd_age_short.columns.str.lower()"
   ]
  },
  {
   "cell_type": "code",
   "execution_count": 144,
   "id": "ce9a5976-a962-43b9-a4c6-091b7875c019",
   "metadata": {
    "tags": []
   },
   "outputs": [],
   "source": [
    "df_grpd_age_short['short_preffered_premium'] = df_grpd_age_short['short_preffered_premium'].str.lower()"
   ]
  },
  {
   "cell_type": "code",
   "execution_count": 145,
   "id": "9218af98-417c-4bd0-8627-e891b2ae278a",
   "metadata": {},
   "outputs": [
    {
     "data": {
      "image/png": "[encoded data removed]",
      "text/plain": [
       "<Figure size 1400x700 with 1 Axes>"
      ]
     },
     "metadata": {},
     "output_type": "display_data"
    }
   ],
   "source": [
    "plt.figure(figsize=(14, 7))\n",
    "\n",
    "df_grpd_age_short_sorted = df_grpd_age_short.sort_values(by='count', ascending=False)\n",
    "\n",
    "ax = sns.barplot(x='short_preffered_premium', y='count', hue='age', data=df_grpd_age_short_sorted, palette = 'Paired')\n",
    "\n",
    "plt.title('Preferred premium vs. no premium by age IN TOTAL', fontsize=16)\n",
    "\n",
    "plt.xlabel('Preffered plan in total', fontsize=14)\n",
    "plt.ylabel('Count', fontsize=14)\n",
    "\n",
    "plt.legend(bbox_to_anchor=(1.05, 1), loc='upper left', title='Age', fontsize=12)\n",
    "\n",
    "sns.despine(left=False, right=True, top=True, bottom=False)\n",
    "\n",
    "plt.grid(True, axis='y', alpha=0.3)"
   ]
  },
  {
   "cell_type": "code",
   "execution_count": 146,
   "id": "eb754170-7a67-43f1-9fac-f2b75e9a9234",
   "metadata": {
    "tags": []
   },
   "outputs": [],
   "source": [
    "df_grpd_age = df_descriptive.groupby(by=['preffered_premium_plan', 'Age']).size().reset_index(name = 'count')"
   ]
  },
  {
   "cell_type": "code",
   "execution_count": 147,
   "id": "965e5359-1287-4e60-aaad-78725e9d57f4",
   "metadata": {},
   "outputs": [],
   "source": [
    "df_grpd_age.columns = df_grpd_age.columns.str.lower()"
   ]
  },
  {
   "cell_type": "code",
   "execution_count": 148,
   "id": "1bf09b7b-fb03-4b18-9159-0ffc6014ed21",
   "metadata": {},
   "outputs": [],
   "source": [
    "df_grpd_age['preffered_premium_plan'] = df_grpd_age['preffered_premium_plan'].str.lower()"
   ]
  },
  {
   "cell_type": "code",
   "execution_count": 149,
   "id": "a96a629f-b12d-47b8-898b-253f79a35410",
   "metadata": {},
   "outputs": [
    {
     "data": {
      "image/png": "[encoded data removed]",
      "text/plain": [
       "<Figure size 1000x500 with 1 Axes>"
      ]
     },
     "metadata": {},
     "output_type": "display_data"
    }
   ],
   "source": [
    "plt.figure(figsize=(10, 5))\n",
    "\n",
    "df_grpd_age_sorted = df_grpd_age.sort_values(by='count', ascending=False)\n",
    "\n",
    "sns.barplot(x='preffered_premium_plan', y='count', hue='age', data=df_grpd_age_sorted, palette = 'Paired')\n",
    "\n",
    "plt.title('Preferred premium vs. no plan by age DETAILED', fontsize=16)\n",
    "\n",
    "plt.xlabel('Preffered plan', fontsize=14)\n",
    "plt.ylabel('Count', fontsize=14)\n",
    "\n",
    "plt.legend(bbox_to_anchor=(1.05, 1), loc='upper left', title='Age', fontsize=12)\n",
    "\n",
    "sns.despine(left=False, right=True, top=True, bottom=False)\n",
    "\n",
    "plt.xticks(rotation=20, ha='right')\n",
    "\n",
    "plt.grid(True, axis='y', alpha=0.3)"
   ]
  },
  {
   "cell_type": "code",
   "execution_count": 150,
   "id": "462a1388-0c80-4217-a8f2-f5ec184086ad",
   "metadata": {
    "tags": []
   },
   "outputs": [
    {
     "data": {
      "text/plain": [
       "Text(0.5, 1.0, 'Music rating by gender')"
      ]
     },
     "execution_count": 150,
     "metadata": {},
     "output_type": "execute_result"
    },
    {
     "data": {
      "image/png": "[encoded data removed]",
      "text/plain": [
       "<Figure size 1000x600 with 1 Axes>"
      ]
     },
     "metadata": {},
     "output_type": "display_data"
    }
   ],
   "source": [
    "mean_rating = df_descriptive.groupby('Gender')['music_recc_rating'].mean().reset_index()\n",
    "\n",
    "plt.figure(figsize=(10, 6))\n",
    "sns.barplot(x='Gender', y='music_recc_rating', data=mean_rating,  hue='Gender',  palette = 'Paired')\n",
    "\n",
    "plt.xlabel('Gender')\n",
    "plt.ylabel('AVG music rating')\n",
    "plt.title('Music rating by gender')"
   ]
  },
  {
   "cell_type": "code",
   "execution_count": 152,
   "id": "ecf45962-f359-41e9-b4a5-4ab17986048e",
   "metadata": {
    "tags": []
   },
   "outputs": [
    {
     "data": {
      "text/html": [
       "<div>\n",
       "<style scoped>\n",
       "    .dataframe tbody tr th:only-of-type {\n",
       "        vertical-align: middle;\n",
       "    }\n",
       "\n",
       "    .dataframe tbody tr th {\n",
       "        vertical-align: top;\n",
       "    }\n",
       "\n",
       "    .dataframe thead th {\n",
       "        text-align: right;\n",
       "    }\n",
       "</style>\n",
       "<table border=\"1\" class=\"dataframe\">\n",
       "  <thead>\n",
       "    <tr style=\"text-align: right;\">\n",
       "      <th></th>\n",
       "      <th>age</th>\n",
       "      <th>spotify_usage_period</th>\n",
       "      <th>spotify_subscription_plan</th>\n",
       "      <th>premium_sub_willingness</th>\n",
       "      <th>preffered_premium_plan</th>\n",
       "      <th>preferred_listening_content</th>\n",
       "      <th>music_recc_rating</th>\n",
       "      <th>pod_lis_frequency</th>\n",
       "      <th>pod_variety_satisfaction</th>\n",
       "      <th>gender_female</th>\n",
       "      <th>...</th>\n",
       "      <th>pod_format_educational</th>\n",
       "      <th>pod_format_interview</th>\n",
       "      <th>pod_format_story</th>\n",
       "      <th>pod_host_pref_both</th>\n",
       "      <th>pod_host_pref_knowns</th>\n",
       "      <th>pod_host_pref_miss_data</th>\n",
       "      <th>pod_host_pref_unknowns</th>\n",
       "      <th>pref_pod_dur_both</th>\n",
       "      <th>pref_pod_dur_longer</th>\n",
       "      <th>pref_pod_dur_shorter</th>\n",
       "    </tr>\n",
       "  </thead>\n",
       "  <tbody>\n",
       "    <tr>\n",
       "      <th>age</th>\n",
       "      <td>1.000000</td>\n",
       "      <td>-0.011139</td>\n",
       "      <td>-0.123115</td>\n",
       "      <td>-0.134301</td>\n",
       "      <td>-0.123115</td>\n",
       "      <td>-0.209317</td>\n",
       "      <td>0.170835</td>\n",
       "      <td>-0.060563</td>\n",
       "      <td>0.070516</td>\n",
       "      <td>0.013308</td>\n",
       "      <td>...</td>\n",
       "      <td>0.050016</td>\n",
       "      <td>-0.088716</td>\n",
       "      <td>0.047884</td>\n",
       "      <td>-0.102777</td>\n",
       "      <td>0.121195</td>\n",
       "      <td>0.039841</td>\n",
       "      <td>-0.068237</td>\n",
       "      <td>-0.123877</td>\n",
       "      <td>-0.152809</td>\n",
       "      <td>0.212152</td>\n",
       "    </tr>\n",
       "    <tr>\n",
       "      <th>spotify_usage_period</th>\n",
       "      <td>-0.011139</td>\n",
       "      <td>1.000000</td>\n",
       "      <td>0.116565</td>\n",
       "      <td>0.149657</td>\n",
       "      <td>0.098877</td>\n",
       "      <td>-0.103815</td>\n",
       "      <td>0.104271</td>\n",
       "      <td>-0.013759</td>\n",
       "      <td>0.075188</td>\n",
       "      <td>-0.099879</td>\n",
       "      <td>...</td>\n",
       "      <td>-0.013953</td>\n",
       "      <td>-0.030984</td>\n",
       "      <td>0.021036</td>\n",
       "      <td>0.085700</td>\n",
       "      <td>0.062861</td>\n",
       "      <td>-0.078762</td>\n",
       "      <td>-0.117512</td>\n",
       "      <td>0.026210</td>\n",
       "      <td>-0.102341</td>\n",
       "      <td>0.048428</td>\n",
       "    </tr>\n",
       "    <tr>\n",
       "      <th>spotify_subscription_plan</th>\n",
       "      <td>-0.123115</td>\n",
       "      <td>0.116565</td>\n",
       "      <td>1.000000</td>\n",
       "      <td>0.963546</td>\n",
       "      <td>0.944238</td>\n",
       "      <td>0.351769</td>\n",
       "      <td>-0.143413</td>\n",
       "      <td>0.192898</td>\n",
       "      <td>0.207067</td>\n",
       "      <td>-0.077333</td>\n",
       "      <td>...</td>\n",
       "      <td>-0.037274</td>\n",
       "      <td>0.014108</td>\n",
       "      <td>0.096835</td>\n",
       "      <td>0.113894</td>\n",
       "      <td>-0.062646</td>\n",
       "      <td>-0.243618</td>\n",
       "      <td>0.283433</td>\n",
       "      <td>0.140094</td>\n",
       "      <td>0.401663</td>\n",
       "      <td>-0.398497</td>\n",
       "    </tr>\n",
       "    <tr>\n",
       "      <th>premium_sub_willingness</th>\n",
       "      <td>-0.134301</td>\n",
       "      <td>0.149657</td>\n",
       "      <td>0.963546</td>\n",
       "      <td>1.000000</td>\n",
       "      <td>0.909817</td>\n",
       "      <td>0.331077</td>\n",
       "      <td>-0.137306</td>\n",
       "      <td>0.187240</td>\n",
       "      <td>0.212956</td>\n",
       "      <td>-0.092482</td>\n",
       "      <td>...</td>\n",
       "      <td>-0.028795</td>\n",
       "      <td>-0.000330</td>\n",
       "      <td>0.068817</td>\n",
       "      <td>0.119135</td>\n",
       "      <td>-0.041534</td>\n",
       "      <td>-0.259936</td>\n",
       "      <td>0.268479</td>\n",
       "      <td>0.162511</td>\n",
       "      <td>0.382952</td>\n",
       "      <td>-0.404763</td>\n",
       "    </tr>\n",
       "    <tr>\n",
       "      <th>preffered_premium_plan</th>\n",
       "      <td>-0.123115</td>\n",
       "      <td>0.098877</td>\n",
       "      <td>0.944238</td>\n",
       "      <td>0.909817</td>\n",
       "      <td>1.000000</td>\n",
       "      <td>0.349518</td>\n",
       "      <td>-0.147824</td>\n",
       "      <td>0.199572</td>\n",
       "      <td>0.187314</td>\n",
       "      <td>-0.060074</td>\n",
       "      <td>...</td>\n",
       "      <td>-0.042030</td>\n",
       "      <td>0.032590</td>\n",
       "      <td>0.086520</td>\n",
       "      <td>0.090192</td>\n",
       "      <td>-0.056914</td>\n",
       "      <td>-0.236609</td>\n",
       "      <td>0.304550</td>\n",
       "      <td>0.148237</td>\n",
       "      <td>0.388424</td>\n",
       "      <td>-0.396309</td>\n",
       "    </tr>\n",
       "    <tr>\n",
       "      <th>preferred_listening_content</th>\n",
       "      <td>-0.209317</td>\n",
       "      <td>-0.103815</td>\n",
       "      <td>0.351769</td>\n",
       "      <td>0.331077</td>\n",
       "      <td>0.349518</td>\n",
       "      <td>1.000000</td>\n",
       "      <td>-0.240412</td>\n",
       "      <td>0.420319</td>\n",
       "      <td>0.093888</td>\n",
       "      <td>-0.006939</td>\n",
       "      <td>...</td>\n",
       "      <td>-0.118288</td>\n",
       "      <td>0.100220</td>\n",
       "      <td>0.038235</td>\n",
       "      <td>0.038235</td>\n",
       "      <td>-0.022829</td>\n",
       "      <td>-0.280933</td>\n",
       "      <td>0.412906</td>\n",
       "      <td>0.242619</td>\n",
       "      <td>0.444077</td>\n",
       "      <td>-0.515838</td>\n",
       "    </tr>\n",
       "    <tr>\n",
       "      <th>music_recc_rating</th>\n",
       "      <td>0.170835</td>\n",
       "      <td>0.104271</td>\n",
       "      <td>-0.143413</td>\n",
       "      <td>-0.137306</td>\n",
       "      <td>-0.147824</td>\n",
       "      <td>-0.240412</td>\n",
       "      <td>1.000000</td>\n",
       "      <td>0.020014</td>\n",
       "      <td>0.278539</td>\n",
       "      <td>-0.049602</td>\n",
       "      <td>...</td>\n",
       "      <td>-0.005803</td>\n",
       "      <td>-0.051723</td>\n",
       "      <td>0.038442</td>\n",
       "      <td>0.029832</td>\n",
       "      <td>0.095266</td>\n",
       "      <td>-0.023003</td>\n",
       "      <td>-0.158224</td>\n",
       "      <td>-0.003990</td>\n",
       "      <td>-0.182052</td>\n",
       "      <td>0.129567</td>\n",
       "    </tr>\n",
       "    <tr>\n",
       "      <th>pod_lis_frequency</th>\n",
       "      <td>-0.060563</td>\n",
       "      <td>-0.013759</td>\n",
       "      <td>0.192898</td>\n",
       "      <td>0.187240</td>\n",
       "      <td>0.199572</td>\n",
       "      <td>0.420319</td>\n",
       "      <td>0.020014</td>\n",
       "      <td>1.000000</td>\n",
       "      <td>0.340334</td>\n",
       "      <td>0.047634</td>\n",
       "      <td>...</td>\n",
       "      <td>-0.087050</td>\n",
       "      <td>0.041979</td>\n",
       "      <td>-0.009076</td>\n",
       "      <td>0.282017</td>\n",
       "      <td>0.105402</td>\n",
       "      <td>-0.562929</td>\n",
       "      <td>0.246364</td>\n",
       "      <td>0.242666</td>\n",
       "      <td>0.304368</td>\n",
       "      <td>-0.419074</td>\n",
       "    </tr>\n",
       "    <tr>\n",
       "      <th>pod_variety_satisfaction</th>\n",
       "      <td>0.070516</td>\n",
       "      <td>0.075188</td>\n",
       "      <td>0.207067</td>\n",
       "      <td>0.212956</td>\n",
       "      <td>0.187314</td>\n",
       "      <td>0.093888</td>\n",
       "      <td>0.278539</td>\n",
       "      <td>0.340334</td>\n",
       "      <td>1.000000</td>\n",
       "      <td>-0.065391</td>\n",
       "      <td>...</td>\n",
       "      <td>-0.074085</td>\n",
       "      <td>0.043384</td>\n",
       "      <td>-0.016905</td>\n",
       "      <td>0.133526</td>\n",
       "      <td>0.202516</td>\n",
       "      <td>-0.347259</td>\n",
       "      <td>0.014904</td>\n",
       "      <td>0.034503</td>\n",
       "      <td>0.220377</td>\n",
       "      <td>-0.182300</td>\n",
       "    </tr>\n",
       "    <tr>\n",
       "      <th>gender_female</th>\n",
       "      <td>0.013308</td>\n",
       "      <td>-0.099879</td>\n",
       "      <td>-0.077333</td>\n",
       "      <td>-0.092482</td>\n",
       "      <td>-0.060074</td>\n",
       "      <td>-0.006939</td>\n",
       "      <td>-0.049602</td>\n",
       "      <td>0.047634</td>\n",
       "      <td>-0.065391</td>\n",
       "      <td>1.000000</td>\n",
       "      <td>...</td>\n",
       "      <td>-0.086409</td>\n",
       "      <td>-0.048334</td>\n",
       "      <td>0.042165</td>\n",
       "      <td>0.042165</td>\n",
       "      <td>-0.001489</td>\n",
       "      <td>-0.074147</td>\n",
       "      <td>0.046920</td>\n",
       "      <td>-0.126021</td>\n",
       "      <td>-0.030040</td>\n",
       "      <td>0.128924</td>\n",
       "    </tr>\n",
       "    <tr>\n",
       "      <th>gender_male</th>\n",
       "      <td>-0.062739</td>\n",
       "      <td>0.095352</td>\n",
       "      <td>0.047094</td>\n",
       "      <td>0.064494</td>\n",
       "      <td>0.032689</td>\n",
       "      <td>-0.041239</td>\n",
       "      <td>0.072961</td>\n",
       "      <td>-0.068407</td>\n",
       "      <td>0.017877</td>\n",
       "      <td>-0.954060</td>\n",
       "      <td>...</td>\n",
       "      <td>0.106799</td>\n",
       "      <td>0.044577</td>\n",
       "      <td>-0.078101</td>\n",
       "      <td>-0.060886</td>\n",
       "      <td>0.005365</td>\n",
       "      <td>0.101977</td>\n",
       "      <td>-0.064531</td>\n",
       "      <td>0.128664</td>\n",
       "      <td>-0.032243</td>\n",
       "      <td>-0.088035</td>\n",
       "    </tr>\n",
       "    <tr>\n",
       "      <th>gender_others</th>\n",
       "      <td>0.159913</td>\n",
       "      <td>0.021952</td>\n",
       "      <td>0.104002</td>\n",
       "      <td>0.097771</td>\n",
       "      <td>0.093465</td>\n",
       "      <td>0.157298</td>\n",
       "      <td>-0.072437</td>\n",
       "      <td>0.064162</td>\n",
       "      <td>0.159359</td>\n",
       "      <td>-0.221785</td>\n",
       "      <td>...</td>\n",
       "      <td>-0.060116</td>\n",
       "      <td>0.015721</td>\n",
       "      <td>0.113907</td>\n",
       "      <td>0.057880</td>\n",
       "      <td>-0.012505</td>\n",
       "      <td>-0.085213</td>\n",
       "      <td>0.053923</td>\n",
       "      <td>0.000505</td>\n",
       "      <td>0.204872</td>\n",
       "      <td>-0.142390</td>\n",
       "    </tr>\n",
       "    <tr>\n",
       "      <th>fav_music_classical</th>\n",
       "      <td>-0.139218</td>\n",
       "      <td>-0.109538</td>\n",
       "      <td>0.134576</td>\n",
       "      <td>0.146933</td>\n",
       "      <td>0.147112</td>\n",
       "      <td>0.373404</td>\n",
       "      <td>-0.130780</td>\n",
       "      <td>0.196278</td>\n",
       "      <td>0.014671</td>\n",
       "      <td>-0.124168</td>\n",
       "      <td>...</td>\n",
       "      <td>-0.027185</td>\n",
       "      <td>0.104788</td>\n",
       "      <td>0.052820</td>\n",
       "      <td>-0.091331</td>\n",
       "      <td>0.050387</td>\n",
       "      <td>-0.114623</td>\n",
       "      <td>0.262872</td>\n",
       "      <td>0.089565</td>\n",
       "      <td>0.199276</td>\n",
       "      <td>-0.214914</td>\n",
       "    </tr>\n",
       "    <tr>\n",
       "      <th>fav_music_melody</th>\n",
       "      <td>0.174837</td>\n",
       "      <td>-0.062796</td>\n",
       "      <td>-0.287395</td>\n",
       "      <td>-0.301924</td>\n",
       "      <td>-0.277875</td>\n",
       "      <td>-0.276270</td>\n",
       "      <td>0.118500</td>\n",
       "      <td>-0.078441</td>\n",
       "      <td>-0.075056</td>\n",
       "      <td>0.211579</td>\n",
       "      <td>...</td>\n",
       "      <td>0.041272</td>\n",
       "      <td>-0.048501</td>\n",
       "      <td>-0.033555</td>\n",
       "      <td>0.087333</td>\n",
       "      <td>-0.058292</td>\n",
       "      <td>0.059998</td>\n",
       "      <td>-0.157683</td>\n",
       "      <td>-0.081098</td>\n",
       "      <td>-0.192723</td>\n",
       "      <td>0.203110</td>\n",
       "    </tr>\n",
       "    <tr>\n",
       "      <th>fav_music_other</th>\n",
       "      <td>0.097087</td>\n",
       "      <td>0.068797</td>\n",
       "      <td>0.013774</td>\n",
       "      <td>0.004063</td>\n",
       "      <td>0.012897</td>\n",
       "      <td>-0.130496</td>\n",
       "      <td>0.004174</td>\n",
       "      <td>-0.128482</td>\n",
       "      <td>-0.013167</td>\n",
       "      <td>-0.068103</td>\n",
       "      <td>...</td>\n",
       "      <td>0.022553</td>\n",
       "      <td>0.025679</td>\n",
       "      <td>-0.063752</td>\n",
       "      <td>-0.063752</td>\n",
       "      <td>-0.000594</td>\n",
       "      <td>0.065456</td>\n",
       "      <td>0.007141</td>\n",
       "      <td>-0.005840</td>\n",
       "      <td>-0.062868</td>\n",
       "      <td>0.048572</td>\n",
       "    </tr>\n",
       "    <tr>\n",
       "      <th>fav_music_pop</th>\n",
       "      <td>-0.034056</td>\n",
       "      <td>0.172677</td>\n",
       "      <td>0.037966</td>\n",
       "      <td>0.064081</td>\n",
       "      <td>0.032264</td>\n",
       "      <td>-0.163467</td>\n",
       "      <td>0.075715</td>\n",
       "      <td>-0.074755</td>\n",
       "      <td>0.056344</td>\n",
       "      <td>-0.047008</td>\n",
       "      <td>...</td>\n",
       "      <td>-0.028050</td>\n",
       "      <td>-0.101581</td>\n",
       "      <td>0.045289</td>\n",
       "      <td>-0.013001</td>\n",
       "      <td>0.067916</td>\n",
       "      <td>0.021775</td>\n",
       "      <td>-0.114171</td>\n",
       "      <td>-0.022045</td>\n",
       "      <td>-0.114373</td>\n",
       "      <td>0.098161</td>\n",
       "    </tr>\n",
       "    <tr>\n",
       "      <th>fav_music_rap</th>\n",
       "      <td>-0.201958</td>\n",
       "      <td>-0.070658</td>\n",
       "      <td>0.296876</td>\n",
       "      <td>0.281931</td>\n",
       "      <td>0.274499</td>\n",
       "      <td>0.426901</td>\n",
       "      <td>-0.174294</td>\n",
       "      <td>0.146759</td>\n",
       "      <td>0.052030</td>\n",
       "      <td>-0.108167</td>\n",
       "      <td>...</td>\n",
       "      <td>-0.025858</td>\n",
       "      <td>0.085624</td>\n",
       "      <td>-0.001293</td>\n",
       "      <td>0.025757</td>\n",
       "      <td>-0.046365</td>\n",
       "      <td>-0.071457</td>\n",
       "      <td>0.138394</td>\n",
       "      <td>0.080625</td>\n",
       "      <td>0.340169</td>\n",
       "      <td>-0.304871</td>\n",
       "    </tr>\n",
       "    <tr>\n",
       "      <th>time_slot_afternoon</th>\n",
       "      <td>-0.172107</td>\n",
       "      <td>-0.120263</td>\n",
       "      <td>0.218385</td>\n",
       "      <td>0.199932</td>\n",
       "      <td>0.213153</td>\n",
       "      <td>0.319738</td>\n",
       "      <td>-0.132275</td>\n",
       "      <td>0.116350</td>\n",
       "      <td>-0.033438</td>\n",
       "      <td>0.015008</td>\n",
       "      <td>...</td>\n",
       "      <td>-0.065019</td>\n",
       "      <td>0.046453</td>\n",
       "      <td>0.058312</td>\n",
       "      <td>0.098467</td>\n",
       "      <td>-0.137820</td>\n",
       "      <td>-0.062358</td>\n",
       "      <td>0.136279</td>\n",
       "      <td>0.095095</td>\n",
       "      <td>0.200551</td>\n",
       "      <td>-0.220542</td>\n",
       "    </tr>\n",
       "    <tr>\n",
       "      <th>time_slot_morning</th>\n",
       "      <td>-0.034046</td>\n",
       "      <td>-0.099560</td>\n",
       "      <td>0.001979</td>\n",
       "      <td>0.009404</td>\n",
       "      <td>0.015182</td>\n",
       "      <td>0.221444</td>\n",
       "      <td>-0.162015</td>\n",
       "      <td>0.158470</td>\n",
       "      <td>-0.098089</td>\n",
       "      <td>0.075457</td>\n",
       "      <td>...</td>\n",
       "      <td>-0.007508</td>\n",
       "      <td>0.105391</td>\n",
       "      <td>0.006032</td>\n",
       "      <td>-0.014223</td>\n",
       "      <td>-0.040687</td>\n",
       "      <td>-0.078797</td>\n",
       "      <td>0.210326</td>\n",
       "      <td>0.026446</td>\n",
       "      <td>0.175223</td>\n",
       "      <td>-0.144100</td>\n",
       "    </tr>\n",
       "    <tr>\n",
       "      <th>time_slot_night</th>\n",
       "      <td>0.163544</td>\n",
       "      <td>0.173949</td>\n",
       "      <td>-0.175057</td>\n",
       "      <td>-0.166244</td>\n",
       "      <td>-0.181297</td>\n",
       "      <td>-0.428410</td>\n",
       "      <td>0.232677</td>\n",
       "      <td>-0.217233</td>\n",
       "      <td>0.103812</td>\n",
       "      <td>-0.071346</td>\n",
       "      <td>...</td>\n",
       "      <td>0.057568</td>\n",
       "      <td>-0.119902</td>\n",
       "      <td>-0.051077</td>\n",
       "      <td>-0.067027</td>\n",
       "      <td>0.141535</td>\n",
       "      <td>0.111595</td>\n",
       "      <td>-0.273904</td>\n",
       "      <td>-0.096376</td>\n",
       "      <td>-0.297321</td>\n",
       "      <td>0.288693</td>\n",
       "    </tr>\n",
       "    <tr>\n",
       "      <th>mood_mix</th>\n",
       "      <td>-0.003099</td>\n",
       "      <td>0.235971</td>\n",
       "      <td>0.062717</td>\n",
       "      <td>0.052044</td>\n",
       "      <td>0.044356</td>\n",
       "      <td>-0.122382</td>\n",
       "      <td>0.050821</td>\n",
       "      <td>-0.077010</td>\n",
       "      <td>-0.037884</td>\n",
       "      <td>0.025324</td>\n",
       "      <td>...</td>\n",
       "      <td>-0.026750</td>\n",
       "      <td>-0.060143</td>\n",
       "      <td>0.029397</td>\n",
       "      <td>0.013990</td>\n",
       "      <td>0.025239</td>\n",
       "      <td>0.052044</td>\n",
       "      <td>-0.144376</td>\n",
       "      <td>-0.061180</td>\n",
       "      <td>0.009618</td>\n",
       "      <td>0.045820</td>\n",
       "    </tr>\n",
       "    <tr>\n",
       "      <th>mood_motivational</th>\n",
       "      <td>-0.028110</td>\n",
       "      <td>-0.062193</td>\n",
       "      <td>0.125823</td>\n",
       "      <td>0.112608</td>\n",
       "      <td>0.155934</td>\n",
       "      <td>0.266741</td>\n",
       "      <td>-0.195339</td>\n",
       "      <td>0.134814</td>\n",
       "      <td>0.003639</td>\n",
       "      <td>-0.088782</td>\n",
       "      <td>...</td>\n",
       "      <td>-0.115959</td>\n",
       "      <td>0.085344</td>\n",
       "      <td>0.073935</td>\n",
       "      <td>-0.025131</td>\n",
       "      <td>-0.104717</td>\n",
       "      <td>-0.076129</td>\n",
       "      <td>0.321162</td>\n",
       "      <td>0.043711</td>\n",
       "      <td>0.251808</td>\n",
       "      <td>-0.211978</td>\n",
       "    </tr>\n",
       "    <tr>\n",
       "      <th>mood_relaxation</th>\n",
       "      <td>0.078723</td>\n",
       "      <td>-0.144257</td>\n",
       "      <td>-0.260477</td>\n",
       "      <td>-0.234396</td>\n",
       "      <td>-0.259714</td>\n",
       "      <td>-0.207440</td>\n",
       "      <td>0.173638</td>\n",
       "      <td>-0.035947</td>\n",
       "      <td>0.023731</td>\n",
       "      <td>-0.004837</td>\n",
       "      <td>...</td>\n",
       "      <td>0.088867</td>\n",
       "      <td>-0.024074</td>\n",
       "      <td>-0.049345</td>\n",
       "      <td>-0.034110</td>\n",
       "      <td>0.061400</td>\n",
       "      <td>0.064148</td>\n",
       "      <td>-0.135051</td>\n",
       "      <td>-0.090130</td>\n",
       "      <td>-0.220118</td>\n",
       "      <td>0.229841</td>\n",
       "    </tr>\n",
       "    <tr>\n",
       "      <th>mood_sad</th>\n",
       "      <td>-0.144601</td>\n",
       "      <td>-0.051269</td>\n",
       "      <td>0.275000</td>\n",
       "      <td>0.262189</td>\n",
       "      <td>0.273927</td>\n",
       "      <td>0.345721</td>\n",
       "      <td>-0.186094</td>\n",
       "      <td>0.068837</td>\n",
       "      <td>0.027158</td>\n",
       "      <td>0.049361</td>\n",
       "      <td>...</td>\n",
       "      <td>-0.024960</td>\n",
       "      <td>0.062984</td>\n",
       "      <td>-0.009408</td>\n",
       "      <td>0.086549</td>\n",
       "      <td>-0.066813</td>\n",
       "      <td>-0.155675</td>\n",
       "      <td>0.197669</td>\n",
       "      <td>0.228113</td>\n",
       "      <td>0.102698</td>\n",
       "      <td>-0.266851</td>\n",
       "    </tr>\n",
       "    <tr>\n",
       "      <th>mood_social</th>\n",
       "      <td>0.035337</td>\n",
       "      <td>-0.088826</td>\n",
       "      <td>-0.033375</td>\n",
       "      <td>-0.037737</td>\n",
       "      <td>-0.035453</td>\n",
       "      <td>-0.000982</td>\n",
       "      <td>-0.050771</td>\n",
       "      <td>-0.012168</td>\n",
       "      <td>-0.004853</td>\n",
       "      <td>0.036656</td>\n",
       "      <td>...</td>\n",
       "      <td>0.069976</td>\n",
       "      <td>0.003532</td>\n",
       "      <td>-0.069703</td>\n",
       "      <td>-0.018462</td>\n",
       "      <td>0.033232</td>\n",
       "      <td>0.018048</td>\n",
       "      <td>-0.046721</td>\n",
       "      <td>0.050755</td>\n",
       "      <td>0.022850</td>\n",
       "      <td>-0.059374</td>\n",
       "    </tr>\n",
       "    <tr>\n",
       "      <th>lis_freq_leisure</th>\n",
       "      <td>0.154974</td>\n",
       "      <td>-0.152955</td>\n",
       "      <td>-0.177579</td>\n",
       "      <td>-0.191097</td>\n",
       "      <td>-0.166740</td>\n",
       "      <td>-0.153874</td>\n",
       "      <td>-0.034189</td>\n",
       "      <td>-0.173979</td>\n",
       "      <td>-0.083587</td>\n",
       "      <td>0.085321</td>\n",
       "      <td>...</td>\n",
       "      <td>0.101990</td>\n",
       "      <td>0.007656</td>\n",
       "      <td>-0.143084</td>\n",
       "      <td>-0.086870</td>\n",
       "      <td>0.082779</td>\n",
       "      <td>0.094498</td>\n",
       "      <td>-0.124342</td>\n",
       "      <td>-0.089933</td>\n",
       "      <td>-0.155422</td>\n",
       "      <td>0.184843</td>\n",
       "    </tr>\n",
       "    <tr>\n",
       "      <th>lis_freq_mix</th>\n",
       "      <td>-0.062957</td>\n",
       "      <td>0.173162</td>\n",
       "      <td>0.032367</td>\n",
       "      <td>0.014465</td>\n",
       "      <td>0.010303</td>\n",
       "      <td>-0.091770</td>\n",
       "      <td>0.087566</td>\n",
       "      <td>-0.001403</td>\n",
       "      <td>0.029013</td>\n",
       "      <td>-0.006536</td>\n",
       "      <td>...</td>\n",
       "      <td>-0.052880</td>\n",
       "      <td>-0.042996</td>\n",
       "      <td>0.029010</td>\n",
       "      <td>0.044068</td>\n",
       "      <td>-0.042363</td>\n",
       "      <td>0.063647</td>\n",
       "      <td>-0.112894</td>\n",
       "      <td>-0.051527</td>\n",
       "      <td>-0.010744</td>\n",
       "      <td>0.051648</td>\n",
       "    </tr>\n",
       "    <tr>\n",
       "      <th>lis_freq_office</th>\n",
       "      <td>0.048302</td>\n",
       "      <td>0.053980</td>\n",
       "      <td>0.003733</td>\n",
       "      <td>0.038534</td>\n",
       "      <td>0.002350</td>\n",
       "      <td>-0.042832</td>\n",
       "      <td>-0.036700</td>\n",
       "      <td>-0.041226</td>\n",
       "      <td>0.048283</td>\n",
       "      <td>0.001382</td>\n",
       "      <td>...</td>\n",
       "      <td>0.011180</td>\n",
       "      <td>-0.037803</td>\n",
       "      <td>0.140319</td>\n",
       "      <td>-0.012501</td>\n",
       "      <td>0.103777</td>\n",
       "      <td>-0.086244</td>\n",
       "      <td>0.001935</td>\n",
       "      <td>0.084974</td>\n",
       "      <td>-0.017037</td>\n",
       "      <td>-0.061091</td>\n",
       "    </tr>\n",
       "    <tr>\n",
       "      <th>lis_freq_other</th>\n",
       "      <td>0.014292</td>\n",
       "      <td>-0.080467</td>\n",
       "      <td>-0.036447</td>\n",
       "      <td>-0.037826</td>\n",
       "      <td>-0.034415</td>\n",
       "      <td>-0.027406</td>\n",
       "      <td>0.029676</td>\n",
       "      <td>-0.074381</td>\n",
       "      <td>-0.040608</td>\n",
       "      <td>0.037481</td>\n",
       "      <td>...</td>\n",
       "      <td>0.138279</td>\n",
       "      <td>-0.026323</td>\n",
       "      <td>-0.048918</td>\n",
       "      <td>-0.048918</td>\n",
       "      <td>-0.034040</td>\n",
       "      <td>0.097552</td>\n",
       "      <td>-0.018897</td>\n",
       "      <td>-0.030233</td>\n",
       "      <td>-0.022181</td>\n",
       "      <td>0.041306</td>\n",
       "    </tr>\n",
       "    <tr>\n",
       "      <th>lis_freq_study</th>\n",
       "      <td>-0.181749</td>\n",
       "      <td>0.048921</td>\n",
       "      <td>0.240807</td>\n",
       "      <td>0.231059</td>\n",
       "      <td>0.246556</td>\n",
       "      <td>0.211705</td>\n",
       "      <td>-0.077505</td>\n",
       "      <td>0.114877</td>\n",
       "      <td>0.099497</td>\n",
       "      <td>-0.184743</td>\n",
       "      <td>...</td>\n",
       "      <td>-0.076472</td>\n",
       "      <td>0.043856</td>\n",
       "      <td>-0.006551</td>\n",
       "      <td>-0.006551</td>\n",
       "      <td>0.004502</td>\n",
       "      <td>-0.108398</td>\n",
       "      <td>0.175997</td>\n",
       "      <td>0.077012</td>\n",
       "      <td>0.274120</td>\n",
       "      <td>-0.256006</td>\n",
       "    </tr>\n",
       "    <tr>\n",
       "      <th>lis_freq_traveling</th>\n",
       "      <td>0.015560</td>\n",
       "      <td>-0.084822</td>\n",
       "      <td>0.020349</td>\n",
       "      <td>0.051352</td>\n",
       "      <td>0.031063</td>\n",
       "      <td>0.132918</td>\n",
       "      <td>0.029571</td>\n",
       "      <td>0.148685</td>\n",
       "      <td>0.019657</td>\n",
       "      <td>0.035993</td>\n",
       "      <td>...</td>\n",
       "      <td>0.005689</td>\n",
       "      <td>0.010048</td>\n",
       "      <td>-0.010873</td>\n",
       "      <td>0.072438</td>\n",
       "      <td>-0.048594</td>\n",
       "      <td>-0.084697</td>\n",
       "      <td>0.082293</td>\n",
       "      <td>0.016879</td>\n",
       "      <td>0.033437</td>\n",
       "      <td>-0.037649</td>\n",
       "    </tr>\n",
       "    <tr>\n",
       "      <th>lis_freq_workout</th>\n",
       "      <td>-0.070421</td>\n",
       "      <td>-0.037189</td>\n",
       "      <td>0.037581</td>\n",
       "      <td>0.029032</td>\n",
       "      <td>0.046257</td>\n",
       "      <td>0.148801</td>\n",
       "      <td>-0.097206</td>\n",
       "      <td>0.044100</td>\n",
       "      <td>-0.052111</td>\n",
       "      <td>-0.067179</td>\n",
       "      <td>...</td>\n",
       "      <td>-0.062392</td>\n",
       "      <td>0.071902</td>\n",
       "      <td>0.102184</td>\n",
       "      <td>-0.029698</td>\n",
       "      <td>-0.059844</td>\n",
       "      <td>-0.042756</td>\n",
       "      <td>0.208764</td>\n",
       "      <td>0.122021</td>\n",
       "      <td>0.061751</td>\n",
       "      <td>-0.147466</td>\n",
       "    </tr>\n",
       "    <tr>\n",
       "      <th>expl_meth_mix</th>\n",
       "      <td>0.019061</td>\n",
       "      <td>0.277342</td>\n",
       "      <td>0.130132</td>\n",
       "      <td>0.119951</td>\n",
       "      <td>0.122216</td>\n",
       "      <td>-0.038887</td>\n",
       "      <td>0.106326</td>\n",
       "      <td>0.098009</td>\n",
       "      <td>0.097612</td>\n",
       "      <td>-0.007277</td>\n",
       "      <td>...</td>\n",
       "      <td>0.079173</td>\n",
       "      <td>-0.016905</td>\n",
       "      <td>-0.036497</td>\n",
       "      <td>0.057156</td>\n",
       "      <td>0.037600</td>\n",
       "      <td>-0.015993</td>\n",
       "      <td>-0.129670</td>\n",
       "      <td>-0.035419</td>\n",
       "      <td>0.005568</td>\n",
       "      <td>0.026527</td>\n",
       "    </tr>\n",
       "    <tr>\n",
       "      <th>expl_meth_others</th>\n",
       "      <td>-0.081964</td>\n",
       "      <td>-0.016884</td>\n",
       "      <td>-0.059837</td>\n",
       "      <td>-0.069712</td>\n",
       "      <td>-0.049631</td>\n",
       "      <td>0.047029</td>\n",
       "      <td>-0.101045</td>\n",
       "      <td>-0.141698</td>\n",
       "      <td>-0.173509</td>\n",
       "      <td>-0.015274</td>\n",
       "      <td>...</td>\n",
       "      <td>-0.012276</td>\n",
       "      <td>-0.110150</td>\n",
       "      <td>0.059869</td>\n",
       "      <td>-0.065977</td>\n",
       "      <td>-0.099531</td>\n",
       "      <td>0.094695</td>\n",
       "      <td>0.113471</td>\n",
       "      <td>-0.011105</td>\n",
       "      <td>0.031427</td>\n",
       "      <td>-0.012249</td>\n",
       "    </tr>\n",
       "    <tr>\n",
       "      <th>expl_meth_playlists</th>\n",
       "      <td>0.015720</td>\n",
       "      <td>-0.118493</td>\n",
       "      <td>-0.101728</td>\n",
       "      <td>-0.118385</td>\n",
       "      <td>-0.095038</td>\n",
       "      <td>-0.114822</td>\n",
       "      <td>0.027029</td>\n",
       "      <td>0.012307</td>\n",
       "      <td>0.014984</td>\n",
       "      <td>-0.001489</td>\n",
       "      <td>...</td>\n",
       "      <td>-0.035462</td>\n",
       "      <td>0.158899</td>\n",
       "      <td>0.060535</td>\n",
       "      <td>0.078183</td>\n",
       "      <td>0.090301</td>\n",
       "      <td>-0.118385</td>\n",
       "      <td>-0.083138</td>\n",
       "      <td>0.023678</td>\n",
       "      <td>-0.044071</td>\n",
       "      <td>0.010225</td>\n",
       "    </tr>\n",
       "    <tr>\n",
       "      <th>expl_meth_radio</th>\n",
       "      <td>-0.161814</td>\n",
       "      <td>-0.028714</td>\n",
       "      <td>0.275097</td>\n",
       "      <td>0.262844</td>\n",
       "      <td>0.269970</td>\n",
       "      <td>0.338782</td>\n",
       "      <td>-0.210106</td>\n",
       "      <td>0.163195</td>\n",
       "      <td>-0.025249</td>\n",
       "      <td>0.069265</td>\n",
       "      <td>...</td>\n",
       "      <td>-0.057147</td>\n",
       "      <td>0.127099</td>\n",
       "      <td>-0.051342</td>\n",
       "      <td>-0.017281</td>\n",
       "      <td>-0.130535</td>\n",
       "      <td>-0.107973</td>\n",
       "      <td>0.396837</td>\n",
       "      <td>0.176053</td>\n",
       "      <td>0.224800</td>\n",
       "      <td>-0.306795</td>\n",
       "    </tr>\n",
       "    <tr>\n",
       "      <th>expl_meth_recommendations</th>\n",
       "      <td>0.103498</td>\n",
       "      <td>-0.167488</td>\n",
       "      <td>-0.145223</td>\n",
       "      <td>-0.103997</td>\n",
       "      <td>-0.147450</td>\n",
       "      <td>-0.049458</td>\n",
       "      <td>0.032297</td>\n",
       "      <td>-0.107756</td>\n",
       "      <td>0.009345</td>\n",
       "      <td>-0.015381</td>\n",
       "      <td>...</td>\n",
       "      <td>-0.015755</td>\n",
       "      <td>-0.127737</td>\n",
       "      <td>-0.034467</td>\n",
       "      <td>-0.087135</td>\n",
       "      <td>0.004584</td>\n",
       "      <td>0.125359</td>\n",
       "      <td>-0.055137</td>\n",
       "      <td>-0.066713</td>\n",
       "      <td>-0.100211</td>\n",
       "      <td>0.126668</td>\n",
       "    </tr>\n",
       "    <tr>\n",
       "      <th>fav_pod_comedy</th>\n",
       "      <td>0.011790</td>\n",
       "      <td>-0.025100</td>\n",
       "      <td>-0.052870</td>\n",
       "      <td>-0.031132</td>\n",
       "      <td>-0.055407</td>\n",
       "      <td>-0.154704</td>\n",
       "      <td>0.167923</td>\n",
       "      <td>0.198457</td>\n",
       "      <td>0.152403</td>\n",
       "      <td>0.085246</td>\n",
       "      <td>...</td>\n",
       "      <td>-0.217522</td>\n",
       "      <td>0.048741</td>\n",
       "      <td>0.075229</td>\n",
       "      <td>0.182268</td>\n",
       "      <td>0.101050</td>\n",
       "      <td>-0.264194</td>\n",
       "      <td>-0.047895</td>\n",
       "      <td>-0.032932</td>\n",
       "      <td>-0.065235</td>\n",
       "      <td>0.073453</td>\n",
       "    </tr>\n",
       "    <tr>\n",
       "      <th>fav_pod_fit</th>\n",
       "      <td>-0.062541</td>\n",
       "      <td>0.022333</td>\n",
       "      <td>0.293827</td>\n",
       "      <td>0.294770</td>\n",
       "      <td>0.294842</td>\n",
       "      <td>0.419663</td>\n",
       "      <td>-0.080008</td>\n",
       "      <td>0.410003</td>\n",
       "      <td>0.215032</td>\n",
       "      <td>-0.018683</td>\n",
       "      <td>...</td>\n",
       "      <td>0.058473</td>\n",
       "      <td>-0.014454</td>\n",
       "      <td>-0.031484</td>\n",
       "      <td>0.182605</td>\n",
       "      <td>0.161774</td>\n",
       "      <td>-0.504340</td>\n",
       "      <td>0.240133</td>\n",
       "      <td>0.313957</td>\n",
       "      <td>0.274136</td>\n",
       "      <td>-0.459284</td>\n",
       "    </tr>\n",
       "    <tr>\n",
       "      <th>fav_pod_miss_data</th>\n",
       "      <td>0.007409</td>\n",
       "      <td>-0.000293</td>\n",
       "      <td>-0.244943</td>\n",
       "      <td>-0.262174</td>\n",
       "      <td>-0.241723</td>\n",
       "      <td>-0.293799</td>\n",
       "      <td>-0.079745</td>\n",
       "      <td>-0.623407</td>\n",
       "      <td>-0.353644</td>\n",
       "      <td>-0.083934</td>\n",
       "      <td>...</td>\n",
       "      <td>0.150584</td>\n",
       "      <td>0.004294</td>\n",
       "      <td>-0.063593</td>\n",
       "      <td>-0.409210</td>\n",
       "      <td>-0.251805</td>\n",
       "      <td>0.812870</td>\n",
       "      <td>-0.202584</td>\n",
       "      <td>-0.283801</td>\n",
       "      <td>-0.237791</td>\n",
       "      <td>0.408230</td>\n",
       "    </tr>\n",
       "    <tr>\n",
       "      <th>fav_pod_other</th>\n",
       "      <td>0.095277</td>\n",
       "      <td>-0.001139</td>\n",
       "      <td>-0.043750</td>\n",
       "      <td>-0.051209</td>\n",
       "      <td>-0.047581</td>\n",
       "      <td>-0.029423</td>\n",
       "      <td>0.021257</td>\n",
       "      <td>-0.001827</td>\n",
       "      <td>-0.035723</td>\n",
       "      <td>0.049361</td>\n",
       "      <td>...</td>\n",
       "      <td>-0.024960</td>\n",
       "      <td>-0.065503</td>\n",
       "      <td>0.054564</td>\n",
       "      <td>0.086549</td>\n",
       "      <td>-0.030174</td>\n",
       "      <td>-0.051209</td>\n",
       "      <td>-0.022683</td>\n",
       "      <td>-0.046083</td>\n",
       "      <td>0.005705</td>\n",
       "      <td>0.035580</td>\n",
       "    </tr>\n",
       "    <tr>\n",
       "      <th>pod_format_conversational</th>\n",
       "      <td>-0.020880</td>\n",
       "      <td>0.013633</td>\n",
       "      <td>-0.085628</td>\n",
       "      <td>-0.050621</td>\n",
       "      <td>-0.085523</td>\n",
       "      <td>-0.025832</td>\n",
       "      <td>0.004926</td>\n",
       "      <td>0.046819</td>\n",
       "      <td>0.043584</td>\n",
       "      <td>0.063802</td>\n",
       "      <td>...</td>\n",
       "      <td>-0.278551</td>\n",
       "      <td>-0.274766</td>\n",
       "      <td>-0.510618</td>\n",
       "      <td>0.105109</td>\n",
       "      <td>0.064055</td>\n",
       "      <td>-0.086855</td>\n",
       "      <td>-0.139932</td>\n",
       "      <td>0.153147</td>\n",
       "      <td>-0.080147</td>\n",
       "      <td>-0.075845</td>\n",
       "    </tr>\n",
       "    <tr>\n",
       "      <th>pod_format_educational</th>\n",
       "      <td>0.050016</td>\n",
       "      <td>-0.013953</td>\n",
       "      <td>-0.037274</td>\n",
       "      <td>-0.028795</td>\n",
       "      <td>-0.042030</td>\n",
       "      <td>-0.118288</td>\n",
       "      <td>-0.005803</td>\n",
       "      <td>-0.087050</td>\n",
       "      <td>-0.074085</td>\n",
       "      <td>-0.086409</td>\n",
       "      <td>...</td>\n",
       "      <td>1.000000</td>\n",
       "      <td>-0.190360</td>\n",
       "      <td>-0.353760</td>\n",
       "      <td>-0.088064</td>\n",
       "      <td>0.011362</td>\n",
       "      <td>0.126959</td>\n",
       "      <td>-0.066259</td>\n",
       "      <td>-0.093492</td>\n",
       "      <td>-0.067445</td>\n",
       "      <td>0.126937</td>\n",
       "    </tr>\n",
       "    <tr>\n",
       "      <th>pod_format_interview</th>\n",
       "      <td>-0.088716</td>\n",
       "      <td>-0.030984</td>\n",
       "      <td>0.014108</td>\n",
       "      <td>-0.000330</td>\n",
       "      <td>0.032590</td>\n",
       "      <td>0.100220</td>\n",
       "      <td>-0.051723</td>\n",
       "      <td>0.041979</td>\n",
       "      <td>0.043384</td>\n",
       "      <td>-0.048334</td>\n",
       "      <td>...</td>\n",
       "      <td>-0.190360</td>\n",
       "      <td>1.000000</td>\n",
       "      <td>-0.348953</td>\n",
       "      <td>-0.142660</td>\n",
       "      <td>0.135268</td>\n",
       "      <td>-0.022789</td>\n",
       "      <td>0.078373</td>\n",
       "      <td>-0.038824</td>\n",
       "      <td>0.060716</td>\n",
       "      <td>-0.008765</td>\n",
       "    </tr>\n",
       "    <tr>\n",
       "      <th>pod_format_story</th>\n",
       "      <td>0.047884</td>\n",
       "      <td>0.021036</td>\n",
       "      <td>0.096835</td>\n",
       "      <td>0.068817</td>\n",
       "      <td>0.086520</td>\n",
       "      <td>0.038235</td>\n",
       "      <td>0.038442</td>\n",
       "      <td>-0.009076</td>\n",
       "      <td>-0.016905</td>\n",
       "      <td>0.042165</td>\n",
       "      <td>...</td>\n",
       "      <td>-0.353760</td>\n",
       "      <td>-0.348953</td>\n",
       "      <td>1.000000</td>\n",
       "      <td>0.075616</td>\n",
       "      <td>-0.168888</td>\n",
       "      <td>0.001727</td>\n",
       "      <td>0.120964</td>\n",
       "      <td>-0.042313</td>\n",
       "      <td>0.079695</td>\n",
       "      <td>-0.018923</td>\n",
       "    </tr>\n",
       "    <tr>\n",
       "      <th>pod_host_pref_both</th>\n",
       "      <td>-0.102777</td>\n",
       "      <td>0.085700</td>\n",
       "      <td>0.113894</td>\n",
       "      <td>0.119135</td>\n",
       "      <td>0.090192</td>\n",
       "      <td>0.038235</td>\n",
       "      <td>0.029832</td>\n",
       "      <td>0.282017</td>\n",
       "      <td>0.133526</td>\n",
       "      <td>0.042165</td>\n",
       "      <td>...</td>\n",
       "      <td>-0.088064</td>\n",
       "      <td>-0.142660</td>\n",
       "      <td>0.075616</td>\n",
       "      <td>1.000000</td>\n",
       "      <td>-0.451254</td>\n",
       "      <td>-0.501451</td>\n",
       "      <td>-0.250513</td>\n",
       "      <td>0.165228</td>\n",
       "      <td>0.126413</td>\n",
       "      <td>-0.229336</td>\n",
       "    </tr>\n",
       "    <tr>\n",
       "      <th>pod_host_pref_knowns</th>\n",
       "      <td>0.121195</td>\n",
       "      <td>0.062861</td>\n",
       "      <td>-0.062646</td>\n",
       "      <td>-0.041534</td>\n",
       "      <td>-0.056914</td>\n",
       "      <td>-0.022829</td>\n",
       "      <td>0.095266</td>\n",
       "      <td>0.105402</td>\n",
       "      <td>0.202516</td>\n",
       "      <td>-0.001489</td>\n",
       "      <td>...</td>\n",
       "      <td>0.011362</td>\n",
       "      <td>0.135268</td>\n",
       "      <td>-0.168888</td>\n",
       "      <td>-0.451254</td>\n",
       "      <td>1.000000</td>\n",
       "      <td>-0.348940</td>\n",
       "      <td>-0.174322</td>\n",
       "      <td>0.002066</td>\n",
       "      <td>-0.070829</td>\n",
       "      <td>0.047306</td>\n",
       "    </tr>\n",
       "    <tr>\n",
       "      <th>pod_host_pref_miss_data</th>\n",
       "      <td>0.039841</td>\n",
       "      <td>-0.078762</td>\n",
       "      <td>-0.243618</td>\n",
       "      <td>-0.259936</td>\n",
       "      <td>-0.236609</td>\n",
       "      <td>-0.280933</td>\n",
       "      <td>-0.023003</td>\n",
       "      <td>-0.562929</td>\n",
       "      <td>-0.347259</td>\n",
       "      <td>-0.074147</td>\n",
       "      <td>...</td>\n",
       "      <td>0.126959</td>\n",
       "      <td>-0.022789</td>\n",
       "      <td>0.001727</td>\n",
       "      <td>-0.501451</td>\n",
       "      <td>-0.348940</td>\n",
       "      <td>1.000000</td>\n",
       "      <td>-0.193713</td>\n",
       "      <td>-0.289378</td>\n",
       "      <td>-0.227378</td>\n",
       "      <td>0.405799</td>\n",
       "    </tr>\n",
       "    <tr>\n",
       "      <th>pod_host_pref_unknowns</th>\n",
       "      <td>-0.068237</td>\n",
       "      <td>-0.117512</td>\n",
       "      <td>0.283433</td>\n",
       "      <td>0.268479</td>\n",
       "      <td>0.304550</td>\n",
       "      <td>0.412906</td>\n",
       "      <td>-0.158224</td>\n",
       "      <td>0.246364</td>\n",
       "      <td>0.014904</td>\n",
       "      <td>0.046920</td>\n",
       "      <td>...</td>\n",
       "      <td>-0.066259</td>\n",
       "      <td>0.078373</td>\n",
       "      <td>0.120964</td>\n",
       "      <td>-0.250513</td>\n",
       "      <td>-0.174322</td>\n",
       "      <td>-0.193713</td>\n",
       "      <td>1.000000</td>\n",
       "      <td>0.170119</td>\n",
       "      <td>0.248483</td>\n",
       "      <td>-0.318115</td>\n",
       "    </tr>\n",
       "    <tr>\n",
       "      <th>pref_pod_dur_both</th>\n",
       "      <td>-0.123877</td>\n",
       "      <td>0.026210</td>\n",
       "      <td>0.140094</td>\n",
       "      <td>0.162511</td>\n",
       "      <td>0.148237</td>\n",
       "      <td>0.242619</td>\n",
       "      <td>-0.003990</td>\n",
       "      <td>0.242666</td>\n",
       "      <td>0.034503</td>\n",
       "      <td>-0.126021</td>\n",
       "      <td>...</td>\n",
       "      <td>-0.093492</td>\n",
       "      <td>-0.038824</td>\n",
       "      <td>-0.042313</td>\n",
       "      <td>0.165228</td>\n",
       "      <td>0.002066</td>\n",
       "      <td>-0.289378</td>\n",
       "      <td>0.170119</td>\n",
       "      <td>1.000000</td>\n",
       "      <td>-0.181735</td>\n",
       "      <td>-0.731941</td>\n",
       "    </tr>\n",
       "    <tr>\n",
       "      <th>pref_pod_dur_longer</th>\n",
       "      <td>-0.152809</td>\n",
       "      <td>-0.102341</td>\n",
       "      <td>0.401663</td>\n",
       "      <td>0.382952</td>\n",
       "      <td>0.388424</td>\n",
       "      <td>0.444077</td>\n",
       "      <td>-0.182052</td>\n",
       "      <td>0.304368</td>\n",
       "      <td>0.220377</td>\n",
       "      <td>-0.030040</td>\n",
       "      <td>...</td>\n",
       "      <td>-0.067445</td>\n",
       "      <td>0.060716</td>\n",
       "      <td>0.079695</td>\n",
       "      <td>0.126413</td>\n",
       "      <td>-0.070829</td>\n",
       "      <td>-0.227378</td>\n",
       "      <td>0.248483</td>\n",
       "      <td>-0.181735</td>\n",
       "      <td>1.000000</td>\n",
       "      <td>-0.537003</td>\n",
       "    </tr>\n",
       "    <tr>\n",
       "      <th>pref_pod_dur_shorter</th>\n",
       "      <td>0.212152</td>\n",
       "      <td>0.048428</td>\n",
       "      <td>-0.398497</td>\n",
       "      <td>-0.404763</td>\n",
       "      <td>-0.396309</td>\n",
       "      <td>-0.515838</td>\n",
       "      <td>0.129567</td>\n",
       "      <td>-0.419074</td>\n",
       "      <td>-0.182300</td>\n",
       "      <td>0.128924</td>\n",
       "      <td>...</td>\n",
       "      <td>0.126937</td>\n",
       "      <td>-0.008765</td>\n",
       "      <td>-0.018923</td>\n",
       "      <td>-0.229336</td>\n",
       "      <td>0.047306</td>\n",
       "      <td>0.405799</td>\n",
       "      <td>-0.318115</td>\n",
       "      <td>-0.731941</td>\n",
       "      <td>-0.537003</td>\n",
       "      <td>1.000000</td>\n",
       "    </tr>\n",
       "  </tbody>\n",
       "</table>\n",
       "<p>52 rows × 52 columns</p>\n",
       "</div>"
      ],
      "text/plain": [
       "                                  age  spotify_usage_period  \\\n",
       "age                          1.000000             -0.011139   \n",
       "spotify_usage_period        -0.011139              1.000000   \n",
       "spotify_subscription_plan   -0.123115              0.116565   \n",
       "premium_sub_willingness     -0.134301              0.149657   \n",
       "preffered_premium_plan      -0.123115              0.098877   \n",
       "preferred_listening_content -0.209317             -0.103815   \n",
       "music_recc_rating            0.170835              0.104271   \n",
       "pod_lis_frequency           -0.060563             -0.013759   \n",
       "pod_variety_satisfaction     0.070516              0.075188   \n",
       "gender_female                0.013308             -0.099879   \n",
       "gender_male                 -0.062739              0.095352   \n",
       "gender_others                0.159913              0.021952   \n",
       "fav_music_classical         -0.139218             -0.109538   \n",
       "fav_music_melody             0.174837             -0.062796   \n",
       "fav_music_other              0.097087              0.068797   \n",
       "fav_music_pop               -0.034056              0.172677   \n",
       "fav_music_rap               -0.201958             -0.070658   \n",
       "time_slot_afternoon         -0.172107             -0.120263   \n",
       "time_slot_morning           -0.034046             -0.099560   \n",
       "time_slot_night              0.163544              0.173949   \n",
       "mood_mix                    -0.003099              0.235971   \n",
       "mood_motivational           -0.028110             -0.062193   \n",
       "mood_relaxation              0.078723             -0.144257   \n",
       "mood_sad                    -0.144601             -0.051269   \n",
       "mood_social                  0.035337             -0.088826   \n",
       "lis_freq_leisure             0.154974             -0.152955   \n",
       "lis_freq_mix                -0.062957              0.173162   \n",
       "lis_freq_office              0.048302              0.053980   \n",
       "lis_freq_other               0.014292             -0.080467   \n",
       "lis_freq_study              -0.181749              0.048921   \n",
       "lis_freq_traveling           0.015560             -0.084822   \n",
       "lis_freq_workout            -0.070421             -0.037189   \n",
       "expl_meth_mix                0.019061              0.277342   \n",
       "expl_meth_others            -0.081964             -0.016884   \n",
       "expl_meth_playlists          0.015720             -0.118493   \n",
       "expl_meth_radio             -0.161814             -0.028714   \n",
       "expl_meth_recommendations    0.103498             -0.167488   \n",
       "fav_pod_comedy               0.011790             -0.025100   \n",
       "fav_pod_fit                 -0.062541              0.022333   \n",
       "fav_pod_miss_data            0.007409             -0.000293   \n",
       "fav_pod_other                0.095277             -0.001139   \n",
       "pod_format_conversational   -0.020880              0.013633   \n",
       "pod_format_educational       0.050016             -0.013953   \n",
       "pod_format_interview        -0.088716             -0.030984   \n",
       "pod_format_story             0.047884              0.021036   \n",
       "pod_host_pref_both          -0.102777              0.085700   \n",
       "pod_host_pref_knowns         0.121195              0.062861   \n",
       "pod_host_pref_miss_data      0.039841             -0.078762   \n",
       "pod_host_pref_unknowns      -0.068237             -0.117512   \n",
       "pref_pod_dur_both           -0.123877              0.026210   \n",
       "pref_pod_dur_longer         -0.152809             -0.102341   \n",
       "pref_pod_dur_shorter         0.212152              0.048428   \n",
       "\n",
       "                             spotify_subscription_plan  \\\n",
       "age                                          -0.123115   \n",
       "spotify_usage_period                          0.116565   \n",
       "spotify_subscription_plan                     1.000000   \n",
       "premium_sub_willingness                       0.963546   \n",
       "preffered_premium_plan                        0.944238   \n",
       "preferred_listening_content                   0.351769   \n",
       "music_recc_rating                            -0.143413   \n",
       "pod_lis_frequency                             0.192898   \n",
       "pod_variety_satisfaction                      0.207067   \n",
       "gender_female                                -0.077333   \n",
       "gender_male                                   0.047094   \n",
       "gender_others                                 0.104002   \n",
       "fav_music_classical                           0.134576   \n",
       "fav_music_melody                             -0.287395   \n",
       "fav_music_other                               0.013774   \n",
       "fav_music_pop                                 0.037966   \n",
       "fav_music_rap                                 0.296876   \n",
       "time_slot_afternoon                           0.218385   \n",
       "time_slot_morning                             0.001979   \n",
       "time_slot_night                              -0.175057   \n",
       "mood_mix                                      0.062717   \n",
       "mood_motivational                             0.125823   \n",
       "mood_relaxation                              -0.260477   \n",
       "mood_sad                                      0.275000   \n",
       "mood_social                                  -0.033375   \n",
       "lis_freq_leisure                             -0.177579   \n",
       "lis_freq_mix                                  0.032367   \n",
       "lis_freq_office                               0.003733   \n",
       "lis_freq_other                               -0.036447   \n",
       "lis_freq_study                                0.240807   \n",
       "lis_freq_traveling                            0.020349   \n",
       "lis_freq_workout                              0.037581   \n",
       "expl_meth_mix                                 0.130132   \n",
       "expl_meth_others                             -0.059837   \n",
       "expl_meth_playlists                          -0.101728   \n",
       "expl_meth_radio                               0.275097   \n",
       "expl_meth_recommendations                    -0.145223   \n",
       "fav_pod_comedy                               -0.052870   \n",
       "fav_pod_fit                                   0.293827   \n",
       "fav_pod_miss_data                            -0.244943   \n",
       "fav_pod_other                                -0.043750   \n",
       "pod_format_conversational                    -0.085628   \n",
       "pod_format_educational                       -0.037274   \n",
       "pod_format_interview                          0.014108   \n",
       "pod_format_story                              0.096835   \n",
       "pod_host_pref_both                            0.113894   \n",
       "pod_host_pref_knowns                         -0.062646   \n",
       "pod_host_pref_miss_data                      -0.243618   \n",
       "pod_host_pref_unknowns                        0.283433   \n",
       "pref_pod_dur_both                             0.140094   \n",
       "pref_pod_dur_longer                           0.401663   \n",
       "pref_pod_dur_shorter                         -0.398497   \n",
       "\n",
       "                             premium_sub_willingness  preffered_premium_plan  \\\n",
       "age                                        -0.134301               -0.123115   \n",
       "spotify_usage_period                        0.149657                0.098877   \n",
       "spotify_subscription_plan                   0.963546                0.944238   \n",
       "premium_sub_willingness                     1.000000                0.909817   \n",
       "preffered_premium_plan                      0.909817                1.000000   \n",
       "preferred_listening_content                 0.331077                0.349518   \n",
       "music_recc_rating                          -0.137306               -0.147824   \n",
       "pod_lis_frequency                           0.187240                0.199572   \n",
       "pod_variety_satisfaction                    0.212956                0.187314   \n",
       "gender_female                              -0.092482               -0.060074   \n",
       "gender_male                                 0.064494                0.032689   \n",
       "gender_others                               0.097771                0.093465   \n",
       "fav_music_classical                         0.146933                0.147112   \n",
       "fav_music_melody                           -0.301924               -0.277875   \n",
       "fav_music_other                             0.004063                0.012897   \n",
       "fav_music_pop                               0.064081                0.032264   \n",
       "fav_music_rap                               0.281931                0.274499   \n",
       "time_slot_afternoon                         0.199932                0.213153   \n",
       "time_slot_morning                           0.009404                0.015182   \n",
       "time_slot_night                            -0.166244               -0.181297   \n",
       "mood_mix                                    0.052044                0.044356   \n",
       "mood_motivational                           0.112608                0.155934   \n",
       "mood_relaxation                            -0.234396               -0.259714   \n",
       "mood_sad                                    0.262189                0.273927   \n",
       "mood_social                                -0.037737               -0.035453   \n",
       "lis_freq_leisure                           -0.191097               -0.166740   \n",
       "lis_freq_mix                                0.014465                0.010303   \n",
       "lis_freq_office                             0.038534                0.002350   \n",
       "lis_freq_other                             -0.037826               -0.034415   \n",
       "lis_freq_study                              0.231059                0.246556   \n",
       "lis_freq_traveling                          0.051352                0.031063   \n",
       "lis_freq_workout                            0.029032                0.046257   \n",
       "expl_meth_mix                               0.119951                0.122216   \n",
       "expl_meth_others                           -0.069712               -0.049631   \n",
       "expl_meth_playlists                        -0.118385               -0.095038   \n",
       "expl_meth_radio                             0.262844                0.269970   \n",
       "expl_meth_recommendations                  -0.103997               -0.147450   \n",
       "fav_pod_comedy                             -0.031132               -0.055407   \n",
       "fav_pod_fit                                 0.294770                0.294842   \n",
       "fav_pod_miss_data                          -0.262174               -0.241723   \n",
       "fav_pod_other                              -0.051209               -0.047581   \n",
       "pod_format_conversational                  -0.050621               -0.085523   \n",
       "pod_format_educational                     -0.028795               -0.042030   \n",
       "pod_format_interview                       -0.000330                0.032590   \n",
       "pod_format_story                            0.068817                0.086520   \n",
       "pod_host_pref_both                          0.119135                0.090192   \n",
       "pod_host_pref_knowns                       -0.041534               -0.056914   \n",
       "pod_host_pref_miss_data                    -0.259936               -0.236609   \n",
       "pod_host_pref_unknowns                      0.268479                0.304550   \n",
       "pref_pod_dur_both                           0.162511                0.148237   \n",
       "pref_pod_dur_longer                         0.382952                0.388424   \n",
       "pref_pod_dur_shorter                       -0.404763               -0.396309   \n",
       "\n",
       "                             preferred_listening_content  music_recc_rating  \\\n",
       "age                                            -0.209317           0.170835   \n",
       "spotify_usage_period                           -0.103815           0.104271   \n",
       "spotify_subscription_plan                       0.351769          -0.143413   \n",
       "premium_sub_willingness                         0.331077          -0.137306   \n",
       "preffered_premium_plan                          0.349518          -0.147824   \n",
       "preferred_listening_content                     1.000000          -0.240412   \n",
       "music_recc_rating                              -0.240412           1.000000   \n",
       "pod_lis_frequency                               0.420319           0.020014   \n",
       "pod_variety_satisfaction                        0.093888           0.278539   \n",
       "gender_female                                  -0.006939          -0.049602   \n",
       "gender_male                                    -0.041239           0.072961   \n",
       "gender_others                                   0.157298          -0.072437   \n",
       "fav_music_classical                             0.373404          -0.130780   \n",
       "fav_music_melody                               -0.276270           0.118500   \n",
       "fav_music_other                                -0.130496           0.004174   \n",
       "fav_music_pop                                  -0.163467           0.075715   \n",
       "fav_music_rap                                   0.426901          -0.174294   \n",
       "time_slot_afternoon                             0.319738          -0.132275   \n",
       "time_slot_morning                               0.221444          -0.162015   \n",
       "time_slot_night                                -0.428410           0.232677   \n",
       "mood_mix                                       -0.122382           0.050821   \n",
       "mood_motivational                               0.266741          -0.195339   \n",
       "mood_relaxation                                -0.207440           0.173638   \n",
       "mood_sad                                        0.345721          -0.186094   \n",
       "mood_social                                    -0.000982          -0.050771   \n",
       "lis_freq_leisure                               -0.153874          -0.034189   \n",
       "lis_freq_mix                                   -0.091770           0.087566   \n",
       "lis_freq_office                                -0.042832          -0.036700   \n",
       "lis_freq_other                                 -0.027406           0.029676   \n",
       "lis_freq_study                                  0.211705          -0.077505   \n",
       "lis_freq_traveling                              0.132918           0.029571   \n",
       "lis_freq_workout                                0.148801          -0.097206   \n",
       "expl_meth_mix                                  -0.038887           0.106326   \n",
       "expl_meth_others                                0.047029          -0.101045   \n",
       "expl_meth_playlists                            -0.114822           0.027029   \n",
       "expl_meth_radio                                 0.338782          -0.210106   \n",
       "expl_meth_recommendations                      -0.049458           0.032297   \n",
       "fav_pod_comedy                                 -0.154704           0.167923   \n",
       "fav_pod_fit                                     0.419663          -0.080008   \n",
       "fav_pod_miss_data                              -0.293799          -0.079745   \n",
       "fav_pod_other                                  -0.029423           0.021257   \n",
       "pod_format_conversational                      -0.025832           0.004926   \n",
       "pod_format_educational                         -0.118288          -0.005803   \n",
       "pod_format_interview                            0.100220          -0.051723   \n",
       "pod_format_story                                0.038235           0.038442   \n",
       "pod_host_pref_both                              0.038235           0.029832   \n",
       "pod_host_pref_knowns                           -0.022829           0.095266   \n",
       "pod_host_pref_miss_data                        -0.280933          -0.023003   \n",
       "pod_host_pref_unknowns                          0.412906          -0.158224   \n",
       "pref_pod_dur_both                               0.242619          -0.003990   \n",
       "pref_pod_dur_longer                             0.444077          -0.182052   \n",
       "pref_pod_dur_shorter                           -0.515838           0.129567   \n",
       "\n",
       "                             pod_lis_frequency  pod_variety_satisfaction  \\\n",
       "age                                  -0.060563                  0.070516   \n",
       "spotify_usage_period                 -0.013759                  0.075188   \n",
       "spotify_subscription_plan             0.192898                  0.207067   \n",
       "premium_sub_willingness               0.187240                  0.212956   \n",
       "preffered_premium_plan                0.199572                  0.187314   \n",
       "preferred_listening_content           0.420319                  0.093888   \n",
       "music_recc_rating                     0.020014                  0.278539   \n",
       "pod_lis_frequency                     1.000000                  0.340334   \n",
       "pod_variety_satisfaction              0.340334                  1.000000   \n",
       "gender_female                         0.047634                 -0.065391   \n",
       "gender_male                          -0.068407                  0.017877   \n",
       "gender_others                         0.064162                  0.159359   \n",
       "fav_music_classical                   0.196278                  0.014671   \n",
       "fav_music_melody                     -0.078441                 -0.075056   \n",
       "fav_music_other                      -0.128482                 -0.013167   \n",
       "fav_music_pop                        -0.074755                  0.056344   \n",
       "fav_music_rap                         0.146759                  0.052030   \n",
       "time_slot_afternoon                   0.116350                 -0.033438   \n",
       "time_slot_morning                     0.158470                 -0.098089   \n",
       "time_slot_night                      -0.217233                  0.103812   \n",
       "mood_mix                             -0.077010                 -0.037884   \n",
       "mood_motivational                     0.134814                  0.003639   \n",
       "mood_relaxation                      -0.035947                  0.023731   \n",
       "mood_sad                              0.068837                  0.027158   \n",
       "mood_social                          -0.012168                 -0.004853   \n",
       "lis_freq_leisure                     -0.173979                 -0.083587   \n",
       "lis_freq_mix                         -0.001403                  0.029013   \n",
       "lis_freq_office                      -0.041226                  0.048283   \n",
       "lis_freq_other                       -0.074381                 -0.040608   \n",
       "lis_freq_study                        0.114877                  0.099497   \n",
       "lis_freq_traveling                    0.148685                  0.019657   \n",
       "lis_freq_workout                      0.044100                 -0.052111   \n",
       "expl_meth_mix                         0.098009                  0.097612   \n",
       "expl_meth_others                     -0.141698                 -0.173509   \n",
       "expl_meth_playlists                   0.012307                  0.014984   \n",
       "expl_meth_radio                       0.163195                 -0.025249   \n",
       "expl_meth_recommendations            -0.107756                  0.009345   \n",
       "fav_pod_comedy                        0.198457                  0.152403   \n",
       "fav_pod_fit                           0.410003                  0.215032   \n",
       "fav_pod_miss_data                    -0.623407                 -0.353644   \n",
       "fav_pod_other                        -0.001827                 -0.035723   \n",
       "pod_format_conversational             0.046819                  0.043584   \n",
       "pod_format_educational               -0.087050                 -0.074085   \n",
       "pod_format_interview                  0.041979                  0.043384   \n",
       "pod_format_story                     -0.009076                 -0.016905   \n",
       "pod_host_pref_both                    0.282017                  0.133526   \n",
       "pod_host_pref_knowns                  0.105402                  0.202516   \n",
       "pod_host_pref_miss_data              -0.562929                 -0.347259   \n",
       "pod_host_pref_unknowns                0.246364                  0.014904   \n",
       "pref_pod_dur_both                     0.242666                  0.034503   \n",
       "pref_pod_dur_longer                   0.304368                  0.220377   \n",
       "pref_pod_dur_shorter                 -0.419074                 -0.182300   \n",
       "\n",
       "                             gender_female  ...  pod_format_educational  \\\n",
       "age                               0.013308  ...                0.050016   \n",
       "spotify_usage_period             -0.099879  ...               -0.013953   \n",
       "spotify_subscription_plan        -0.077333  ...               -0.037274   \n",
       "premium_sub_willingness          -0.092482  ...               -0.028795   \n",
       "preffered_premium_plan           -0.060074  ...               -0.042030   \n",
       "preferred_listening_content      -0.006939  ...               -0.118288   \n",
       "music_recc_rating                -0.049602  ...               -0.005803   \n",
       "pod_lis_frequency                 0.047634  ...               -0.087050   \n",
       "pod_variety_satisfaction         -0.065391  ...               -0.074085   \n",
       "gender_female                     1.000000  ...               -0.086409   \n",
       "gender_male                      -0.954060  ...                0.106799   \n",
       "gender_others                    -0.221785  ...               -0.060116   \n",
       "fav_music_classical              -0.124168  ...               -0.027185   \n",
       "fav_music_melody                  0.211579  ...                0.041272   \n",
       "fav_music_other                  -0.068103  ...                0.022553   \n",
       "fav_music_pop                    -0.047008  ...               -0.028050   \n",
       "fav_music_rap                    -0.108167  ...               -0.025858   \n",
       "time_slot_afternoon               0.015008  ...               -0.065019   \n",
       "time_slot_morning                 0.075457  ...               -0.007508   \n",
       "time_slot_night                  -0.071346  ...                0.057568   \n",
       "mood_mix                          0.025324  ...               -0.026750   \n",
       "mood_motivational                -0.088782  ...               -0.115959   \n",
       "mood_relaxation                  -0.004837  ...                0.088867   \n",
       "mood_sad                          0.049361  ...               -0.024960   \n",
       "mood_social                       0.036656  ...                0.069976   \n",
       "lis_freq_leisure                  0.085321  ...                0.101990   \n",
       "lis_freq_mix                     -0.006536  ...               -0.052880   \n",
       "lis_freq_office                   0.001382  ...                0.011180   \n",
       "lis_freq_other                    0.037481  ...                0.138279   \n",
       "lis_freq_study                   -0.184743  ...               -0.076472   \n",
       "lis_freq_traveling                0.035993  ...                0.005689   \n",
       "lis_freq_workout                 -0.067179  ...               -0.062392   \n",
       "expl_meth_mix                    -0.007277  ...                0.079173   \n",
       "expl_meth_others                 -0.015274  ...               -0.012276   \n",
       "expl_meth_playlists              -0.001489  ...               -0.035462   \n",
       "expl_meth_radio                   0.069265  ...               -0.057147   \n",
       "expl_meth_recommendations        -0.015381  ...               -0.015755   \n",
       "fav_pod_comedy                    0.085246  ...               -0.217522   \n",
       "fav_pod_fit                      -0.018683  ...                0.058473   \n",
       "fav_pod_miss_data                -0.083934  ...                0.150584   \n",
       "fav_pod_other                     0.049361  ...               -0.024960   \n",
       "pod_format_conversational         0.063802  ...               -0.278551   \n",
       "pod_format_educational           -0.086409  ...                1.000000   \n",
       "pod_format_interview             -0.048334  ...               -0.190360   \n",
       "pod_format_story                  0.042165  ...               -0.353760   \n",
       "pod_host_pref_both                0.042165  ...               -0.088064   \n",
       "pod_host_pref_knowns             -0.001489  ...                0.011362   \n",
       "pod_host_pref_miss_data          -0.074147  ...                0.126959   \n",
       "pod_host_pref_unknowns            0.046920  ...               -0.066259   \n",
       "pref_pod_dur_both                -0.126021  ...               -0.093492   \n",
       "pref_pod_dur_longer              -0.030040  ...               -0.067445   \n",
       "pref_pod_dur_shorter              0.128924  ...                0.126937   \n",
       "\n",
       "                             pod_format_interview  pod_format_story  \\\n",
       "age                                     -0.088716          0.047884   \n",
       "spotify_usage_period                    -0.030984          0.021036   \n",
       "spotify_subscription_plan                0.014108          0.096835   \n",
       "premium_sub_willingness                 -0.000330          0.068817   \n",
       "preffered_premium_plan                   0.032590          0.086520   \n",
       "preferred_listening_content              0.100220          0.038235   \n",
       "music_recc_rating                       -0.051723          0.038442   \n",
       "pod_lis_frequency                        0.041979         -0.009076   \n",
       "pod_variety_satisfaction                 0.043384         -0.016905   \n",
       "gender_female                           -0.048334          0.042165   \n",
       "gender_male                              0.044577         -0.078101   \n",
       "gender_others                            0.015721          0.113907   \n",
       "fav_music_classical                      0.104788          0.052820   \n",
       "fav_music_melody                        -0.048501         -0.033555   \n",
       "fav_music_other                          0.025679         -0.063752   \n",
       "fav_music_pop                           -0.101581          0.045289   \n",
       "fav_music_rap                            0.085624         -0.001293   \n",
       "time_slot_afternoon                      0.046453          0.058312   \n",
       "time_slot_morning                        0.105391          0.006032   \n",
       "time_slot_night                         -0.119902         -0.051077   \n",
       "mood_mix                                -0.060143          0.029397   \n",
       "mood_motivational                        0.085344          0.073935   \n",
       "mood_relaxation                         -0.024074         -0.049345   \n",
       "mood_sad                                 0.062984         -0.009408   \n",
       "mood_social                              0.003532         -0.069703   \n",
       "lis_freq_leisure                         0.007656         -0.143084   \n",
       "lis_freq_mix                            -0.042996          0.029010   \n",
       "lis_freq_office                         -0.037803          0.140319   \n",
       "lis_freq_other                          -0.026323         -0.048918   \n",
       "lis_freq_study                           0.043856         -0.006551   \n",
       "lis_freq_traveling                       0.010048         -0.010873   \n",
       "lis_freq_workout                         0.071902          0.102184   \n",
       "expl_meth_mix                           -0.016905         -0.036497   \n",
       "expl_meth_others                        -0.110150          0.059869   \n",
       "expl_meth_playlists                      0.158899          0.060535   \n",
       "expl_meth_radio                          0.127099         -0.051342   \n",
       "expl_meth_recommendations               -0.127737         -0.034467   \n",
       "fav_pod_comedy                           0.048741          0.075229   \n",
       "fav_pod_fit                             -0.014454         -0.031484   \n",
       "fav_pod_miss_data                        0.004294         -0.063593   \n",
       "fav_pod_other                           -0.065503          0.054564   \n",
       "pod_format_conversational               -0.274766         -0.510618   \n",
       "pod_format_educational                  -0.190360         -0.353760   \n",
       "pod_format_interview                     1.000000         -0.348953   \n",
       "pod_format_story                        -0.348953          1.000000   \n",
       "pod_host_pref_both                      -0.142660          0.075616   \n",
       "pod_host_pref_knowns                     0.135268         -0.168888   \n",
       "pod_host_pref_miss_data                 -0.022789          0.001727   \n",
       "pod_host_pref_unknowns                   0.078373          0.120964   \n",
       "pref_pod_dur_both                       -0.038824         -0.042313   \n",
       "pref_pod_dur_longer                      0.060716          0.079695   \n",
       "pref_pod_dur_shorter                    -0.008765         -0.018923   \n",
       "\n",
       "                             pod_host_pref_both  pod_host_pref_knowns  \\\n",
       "age                                   -0.102777              0.121195   \n",
       "spotify_usage_period                   0.085700              0.062861   \n",
       "spotify_subscription_plan              0.113894             -0.062646   \n",
       "premium_sub_willingness                0.119135             -0.041534   \n",
       "preffered_premium_plan                 0.090192             -0.056914   \n",
       "preferred_listening_content            0.038235             -0.022829   \n",
       "music_recc_rating                      0.029832              0.095266   \n",
       "pod_lis_frequency                      0.282017              0.105402   \n",
       "pod_variety_satisfaction               0.133526              0.202516   \n",
       "gender_female                          0.042165             -0.001489   \n",
       "gender_male                           -0.060886              0.005365   \n",
       "gender_others                          0.057880             -0.012505   \n",
       "fav_music_classical                   -0.091331              0.050387   \n",
       "fav_music_melody                       0.087333             -0.058292   \n",
       "fav_music_other                       -0.063752             -0.000594   \n",
       "fav_music_pop                         -0.013001              0.067916   \n",
       "fav_music_rap                          0.025757             -0.046365   \n",
       "time_slot_afternoon                    0.098467             -0.137820   \n",
       "time_slot_morning                     -0.014223             -0.040687   \n",
       "time_slot_night                       -0.067027              0.141535   \n",
       "mood_mix                               0.013990              0.025239   \n",
       "mood_motivational                     -0.025131             -0.104717   \n",
       "mood_relaxation                       -0.034110              0.061400   \n",
       "mood_sad                               0.086549             -0.066813   \n",
       "mood_social                           -0.018462              0.033232   \n",
       "lis_freq_leisure                      -0.086870              0.082779   \n",
       "lis_freq_mix                           0.044068             -0.042363   \n",
       "lis_freq_office                       -0.012501              0.103777   \n",
       "lis_freq_other                        -0.048918             -0.034040   \n",
       "lis_freq_study                        -0.006551              0.004502   \n",
       "lis_freq_traveling                     0.072438             -0.048594   \n",
       "lis_freq_workout                      -0.029698             -0.059844   \n",
       "expl_meth_mix                          0.057156              0.037600   \n",
       "expl_meth_others                      -0.065977             -0.099531   \n",
       "expl_meth_playlists                    0.078183              0.090301   \n",
       "expl_meth_radio                       -0.017281             -0.130535   \n",
       "expl_meth_recommendations             -0.087135              0.004584   \n",
       "fav_pod_comedy                         0.182268              0.101050   \n",
       "fav_pod_fit                            0.182605              0.161774   \n",
       "fav_pod_miss_data                     -0.409210             -0.251805   \n",
       "fav_pod_other                          0.086549             -0.030174   \n",
       "pod_format_conversational              0.105109              0.064055   \n",
       "pod_format_educational                -0.088064              0.011362   \n",
       "pod_format_interview                  -0.142660              0.135268   \n",
       "pod_format_story                       0.075616             -0.168888   \n",
       "pod_host_pref_both                     1.000000             -0.451254   \n",
       "pod_host_pref_knowns                  -0.451254              1.000000   \n",
       "pod_host_pref_miss_data               -0.501451             -0.348940   \n",
       "pod_host_pref_unknowns                -0.250513             -0.174322   \n",
       "pref_pod_dur_both                      0.165228              0.002066   \n",
       "pref_pod_dur_longer                    0.126413             -0.070829   \n",
       "pref_pod_dur_shorter                  -0.229336              0.047306   \n",
       "\n",
       "                             pod_host_pref_miss_data  pod_host_pref_unknowns  \\\n",
       "age                                         0.039841               -0.068237   \n",
       "spotify_usage_period                       -0.078762               -0.117512   \n",
       "spotify_subscription_plan                  -0.243618                0.283433   \n",
       "premium_sub_willingness                    -0.259936                0.268479   \n",
       "preffered_premium_plan                     -0.236609                0.304550   \n",
       "preferred_listening_content                -0.280933                0.412906   \n",
       "music_recc_rating                          -0.023003               -0.158224   \n",
       "pod_lis_frequency                          -0.562929                0.246364   \n",
       "pod_variety_satisfaction                   -0.347259                0.014904   \n",
       "gender_female                              -0.074147                0.046920   \n",
       "gender_male                                 0.101977               -0.064531   \n",
       "gender_others                              -0.085213                0.053923   \n",
       "fav_music_classical                        -0.114623                0.262872   \n",
       "fav_music_melody                            0.059998               -0.157683   \n",
       "fav_music_other                             0.065456                0.007141   \n",
       "fav_music_pop                               0.021775               -0.114171   \n",
       "fav_music_rap                              -0.071457                0.138394   \n",
       "time_slot_afternoon                        -0.062358                0.136279   \n",
       "time_slot_morning                          -0.078797                0.210326   \n",
       "time_slot_night                             0.111595               -0.273904   \n",
       "mood_mix                                    0.052044               -0.144376   \n",
       "mood_motivational                          -0.076129                0.321162   \n",
       "mood_relaxation                             0.064148               -0.135051   \n",
       "mood_sad                                   -0.155675                0.197669   \n",
       "mood_social                                 0.018048               -0.046721   \n",
       "lis_freq_leisure                            0.094498               -0.124342   \n",
       "lis_freq_mix                                0.063647               -0.112894   \n",
       "lis_freq_office                            -0.086244                0.001935   \n",
       "lis_freq_other                              0.097552               -0.018897   \n",
       "lis_freq_study                             -0.108398                0.175997   \n",
       "lis_freq_traveling                         -0.084697                0.082293   \n",
       "lis_freq_workout                           -0.042756                0.208764   \n",
       "expl_meth_mix                              -0.015993               -0.129670   \n",
       "expl_meth_others                            0.094695                0.113471   \n",
       "expl_meth_playlists                        -0.118385               -0.083138   \n",
       "expl_meth_radio                            -0.107973                0.396837   \n",
       "expl_meth_recommendations                   0.125359               -0.055137   \n",
       "fav_pod_comedy                             -0.264194               -0.047895   \n",
       "fav_pod_fit                                -0.504340                0.240133   \n",
       "fav_pod_miss_data                           0.812870               -0.202584   \n",
       "fav_pod_other                              -0.051209               -0.022683   \n",
       "pod_format_conversational                  -0.086855               -0.139932   \n",
       "pod_format_educational                      0.126959               -0.066259   \n",
       "pod_format_interview                       -0.022789                0.078373   \n",
       "pod_format_story                            0.001727                0.120964   \n",
       "pod_host_pref_both                         -0.501451               -0.250513   \n",
       "pod_host_pref_knowns                       -0.348940               -0.174322   \n",
       "pod_host_pref_miss_data                     1.000000               -0.193713   \n",
       "pod_host_pref_unknowns                     -0.193713                1.000000   \n",
       "pref_pod_dur_both                          -0.289378                0.170119   \n",
       "pref_pod_dur_longer                        -0.227378                0.248483   \n",
       "pref_pod_dur_shorter                        0.405799               -0.318115   \n",
       "\n",
       "                             pref_pod_dur_both  pref_pod_dur_longer  \\\n",
       "age                                  -0.123877            -0.152809   \n",
       "spotify_usage_period                  0.026210            -0.102341   \n",
       "spotify_subscription_plan             0.140094             0.401663   \n",
       "premium_sub_willingness               0.162511             0.382952   \n",
       "preffered_premium_plan                0.148237             0.388424   \n",
       "preferred_listening_content           0.242619             0.444077   \n",
       "music_recc_rating                    -0.003990            -0.182052   \n",
       "pod_lis_frequency                     0.242666             0.304368   \n",
       "pod_variety_satisfaction              0.034503             0.220377   \n",
       "gender_female                        -0.126021            -0.030040   \n",
       "gender_male                           0.128664            -0.032243   \n",
       "gender_others                         0.000505             0.204872   \n",
       "fav_music_classical                   0.089565             0.199276   \n",
       "fav_music_melody                     -0.081098            -0.192723   \n",
       "fav_music_other                      -0.005840            -0.062868   \n",
       "fav_music_pop                        -0.022045            -0.114373   \n",
       "fav_music_rap                         0.080625             0.340169   \n",
       "time_slot_afternoon                   0.095095             0.200551   \n",
       "time_slot_morning                     0.026446             0.175223   \n",
       "time_slot_night                      -0.096376            -0.297321   \n",
       "mood_mix                             -0.061180             0.009618   \n",
       "mood_motivational                     0.043711             0.251808   \n",
       "mood_relaxation                      -0.090130            -0.220118   \n",
       "mood_sad                              0.228113             0.102698   \n",
       "mood_social                           0.050755             0.022850   \n",
       "lis_freq_leisure                     -0.089933            -0.155422   \n",
       "lis_freq_mix                         -0.051527            -0.010744   \n",
       "lis_freq_office                       0.084974            -0.017037   \n",
       "lis_freq_other                       -0.030233            -0.022181   \n",
       "lis_freq_study                        0.077012             0.274120   \n",
       "lis_freq_traveling                    0.016879             0.033437   \n",
       "lis_freq_workout                      0.122021             0.061751   \n",
       "expl_meth_mix                        -0.035419             0.005568   \n",
       "expl_meth_others                     -0.011105             0.031427   \n",
       "expl_meth_playlists                   0.023678            -0.044071   \n",
       "expl_meth_radio                       0.176053             0.224800   \n",
       "expl_meth_recommendations            -0.066713            -0.100211   \n",
       "fav_pod_comedy                       -0.032932            -0.065235   \n",
       "fav_pod_fit                           0.313957             0.274136   \n",
       "fav_pod_miss_data                    -0.283801            -0.237791   \n",
       "fav_pod_other                        -0.046083             0.005705   \n",
       "pod_format_conversational             0.153147            -0.080147   \n",
       "pod_format_educational               -0.093492            -0.067445   \n",
       "pod_format_interview                 -0.038824             0.060716   \n",
       "pod_format_story                     -0.042313             0.079695   \n",
       "pod_host_pref_both                    0.165228             0.126413   \n",
       "pod_host_pref_knowns                  0.002066            -0.070829   \n",
       "pod_host_pref_miss_data              -0.289378            -0.227378   \n",
       "pod_host_pref_unknowns                0.170119             0.248483   \n",
       "pref_pod_dur_both                     1.000000            -0.181735   \n",
       "pref_pod_dur_longer                  -0.181735             1.000000   \n",
       "pref_pod_dur_shorter                 -0.731941            -0.537003   \n",
       "\n",
       "                             pref_pod_dur_shorter  \n",
       "age                                      0.212152  \n",
       "spotify_usage_period                     0.048428  \n",
       "spotify_subscription_plan               -0.398497  \n",
       "premium_sub_willingness                 -0.404763  \n",
       "preffered_premium_plan                  -0.396309  \n",
       "preferred_listening_content             -0.515838  \n",
       "music_recc_rating                        0.129567  \n",
       "pod_lis_frequency                       -0.419074  \n",
       "pod_variety_satisfaction                -0.182300  \n",
       "gender_female                            0.128924  \n",
       "gender_male                             -0.088035  \n",
       "gender_others                           -0.142390  \n",
       "fav_music_classical                     -0.214914  \n",
       "fav_music_melody                         0.203110  \n",
       "fav_music_other                          0.048572  \n",
       "fav_music_pop                            0.098161  \n",
       "fav_music_rap                           -0.304871  \n",
       "time_slot_afternoon                     -0.220542  \n",
       "time_slot_morning                       -0.144100  \n",
       "time_slot_night                          0.288693  \n",
       "mood_mix                                 0.045820  \n",
       "mood_motivational                       -0.211978  \n",
       "mood_relaxation                          0.229841  \n",
       "mood_sad                                -0.266851  \n",
       "mood_social                             -0.059374  \n",
       "lis_freq_leisure                         0.184843  \n",
       "lis_freq_mix                             0.051648  \n",
       "lis_freq_office                         -0.061091  \n",
       "lis_freq_other                           0.041306  \n",
       "lis_freq_study                          -0.256006  \n",
       "lis_freq_traveling                      -0.037649  \n",
       "lis_freq_workout                        -0.147466  \n",
       "expl_meth_mix                            0.026527  \n",
       "expl_meth_others                        -0.012249  \n",
       "expl_meth_playlists                      0.010225  \n",
       "expl_meth_radio                         -0.306795  \n",
       "expl_meth_recommendations                0.126668  \n",
       "fav_pod_comedy                           0.073453  \n",
       "fav_pod_fit                             -0.459284  \n",
       "fav_pod_miss_data                        0.408230  \n",
       "fav_pod_other                            0.035580  \n",
       "pod_format_conversational               -0.075845  \n",
       "pod_format_educational                   0.126937  \n",
       "pod_format_interview                    -0.008765  \n",
       "pod_format_story                        -0.018923  \n",
       "pod_host_pref_both                      -0.229336  \n",
       "pod_host_pref_knowns                     0.047306  \n",
       "pod_host_pref_miss_data                  0.405799  \n",
       "pod_host_pref_unknowns                  -0.318115  \n",
       "pref_pod_dur_both                       -0.731941  \n",
       "pref_pod_dur_longer                     -0.537003  \n",
       "pref_pod_dur_shorter                     1.000000  \n",
       "\n",
       "[52 rows x 52 columns]"
      ]
     },
     "execution_count": 152,
     "metadata": {},
     "output_type": "execute_result"
    }
   ],
   "source": [
    "# To verify if the values match in the next steps\n",
    "\n",
    "df.corr(method = 'kendall')"
   ]
  },
  {
   "cell_type": "code",
   "execution_count": 153,
   "id": "6d649036-ccf3-48e4-843a-af8d85dbbc37",
   "metadata": {
    "tags": []
   },
   "outputs": [
    {
     "data": {
      "image/png": "[encoded data removed]",
      "text/plain": [
       "<Figure size 1100x800 with 2 Axes>"
      ]
     },
     "metadata": {},
     "output_type": "display_data"
    }
   ],
   "source": [
    "dfCorr = df.corr(method='kendall')\n",
    "filteredDf = dfCorr[((dfCorr >= 0.5) | (dfCorr <= -0.5)) & (dfCorr != 1.0)]  \n",
    "\n",
    "# filteredDf.loc['premium_sub_willingness', 'spotify_subscription_plan'] = dfCorr.loc['premium_sub_willingness', 'spotify_subscription_plan']\n",
    "\n",
    "filteredDf = filteredDf.dropna(axis=0, how='all').dropna(axis=1, how='all')\n",
    "\n",
    "mask = np.triu(np.ones_like(filteredDf, dtype=bool))\n",
    "\n",
    "cmap = sns.diverging_palette(240, 10, as_cmap=True)\n",
    "\n",
    "plt.figure(figsize=(11, 8))\n",
    "sns.heatmap(filteredDf, annot=True, cmap=cmap, mask=mask, annot_kws={\"size\": 8}, linecolor='gray', linewidths=0.5)\n",
    "plt.xticks(fontsize=8)\n",
    "plt.yticks(fontsize=8)\n",
    "plt.xticks(rotation=45, ha='right');"
   ]
  },
  {
   "cell_type": "code",
   "execution_count": 154,
   "id": "909017b4-59be-434e-905c-76f7e43b68e9",
   "metadata": {
    "tags": []
   },
   "outputs": [
    {
     "name": "stdout",
     "output_type": "stream",
     "text": [
      "Positive Kendall Correlations\n",
      "\n",
      "================================================================================\n",
      "\n",
      "spotify_subscription_plan  VS  premium_sub_willingness\n",
      "................................................................................\n",
      "corr: 0.9635460822563594\n",
      "p-value: 1.161905101516787e-56\n",
      "\n",
      "================================================================================\n",
      "\n",
      "spotify_subscription_plan  VS  preffered_premium_plan\n",
      "................................................................................\n",
      "corr: 0.9442381375112052\n",
      "p-value: 2.7019149007157755e-59\n",
      "\n",
      "================================================================================\n",
      "\n",
      "premium_sub_willingness  VS  preffered_premium_plan\n",
      "................................................................................\n",
      "corr: 0.9098169581159634\n",
      "p-value: 3.516809324549218e-55\n",
      "\n",
      "================================================================================\n",
      "\n",
      "fav_pod_miss_data  VS  pod_host_pref_miss_data\n",
      "................................................................................\n",
      "corr: 0.8128700732886767\n",
      "p-value: 7.753446445691577e-41\n",
      "\n",
      "================================================================================\n"
     ]
    }
   ],
   "source": [
    "positive_correlations = []\n",
    "\n",
    "for i in range(len(dfCorr.columns)):\n",
    "    for j in range(i+1, len(dfCorr.columns)):\n",
    "        correlation = dfCorr.iloc[i, j]\n",
    "        if correlation > 0.5 and i != j:  \n",
    "            variable1 = dfCorr.columns[i]\n",
    "            variable2 = dfCorr.columns[j]\n",
    "            \n",
    "            corr, p_value = kendalltau(df[variable1], df[variable2])\n",
    "\n",
    "            positive_correlations.append((variable1, variable2, correlation, p_value))\n",
    "\n",
    "print(\"Positive Kendall Correlations\\n\")\n",
    "print(\"=\" * 80)\n",
    "\n",
    "for pair in positive_correlations:\n",
    "    variable1, variable2, correlation, p_value = pair\n",
    "    \n",
    "    print(f\"\\n{variable1}  VS  {variable2}\")\n",
    "    print('..' * 40)\n",
    "    print(f\"corr: {correlation}\")\n",
    "    print(f\"p-value: {p_value}\\n\")\n",
    "    print(\"=\" * 80)\n"
   ]
  },
  {
   "cell_type": "code",
   "execution_count": 155,
   "id": "09f5ac7e-893a-4720-a985-820485d13d5b",
   "metadata": {
    "tags": []
   },
   "outputs": [],
   "source": [
    "negative = dfCorr.unstack().sort_values().drop_duplicates()\n",
    "negative = negative[negative < -0.5]"
   ]
  },
  {
   "cell_type": "code",
   "execution_count": 156,
   "id": "841c9357-7d26-4e6d-922a-2e2a76d6f001",
   "metadata": {
    "tags": []
   },
   "outputs": [
    {
     "name": "stdout",
     "output_type": "stream",
     "text": [
      "Negative Kendall Correlations\n",
      "\n",
      "================================================================================\n",
      "\n",
      "gender_female  VS  gender_male\n",
      "................................................................................\n",
      "corr: -0.9540602827402\n",
      "p-value: 1.3799406245548006e-55\n",
      "\n",
      "================================================================================\n",
      "\n",
      "pref_pod_dur_both  VS  pref_pod_dur_shorter\n",
      "................................................................................\n",
      "corr: -0.7319406706116952\n",
      "p-value: 1.9568908700463594e-33\n",
      "\n",
      "================================================================================\n",
      "\n",
      "mood_mix  VS  mood_relaxation\n",
      "................................................................................\n",
      "corr: -0.6892059382530715\n",
      "p-value: 7.784544727348154e-30\n",
      "\n",
      "================================================================================\n",
      "\n",
      "time_slot_night  VS  time_slot_afternoon\n",
      "................................................................................\n",
      "corr: -0.6362726967786324\n",
      "p-value: 1.1328876107702873e-25\n",
      "\n",
      "================================================================================\n",
      "\n",
      "time_slot_morning  VS  time_slot_night\n",
      "................................................................................\n",
      "corr: -0.6279309935202465\n",
      "p-value: 4.790639686551872e-25\n",
      "\n",
      "================================================================================\n",
      "\n",
      "pod_lis_frequency  VS  fav_pod_miss_data\n",
      "................................................................................\n",
      "corr: -0.6234066297093933\n",
      "p-value: 4.9443848354290467e-29\n",
      "\n",
      "================================================================================\n",
      "\n",
      "pod_host_pref_miss_data  VS  pod_lis_frequency\n",
      "................................................................................\n",
      "corr: -0.5629293934555971\n",
      "p-value: 5.6355908128399795e-24\n",
      "\n",
      "================================================================================\n",
      "\n",
      "fav_pod_miss_data  VS  fav_pod_fit\n",
      "................................................................................\n",
      "corr: -0.5448473536170066\n",
      "p-value: 2.983521355058198e-19\n",
      "\n",
      "================================================================================\n",
      "\n",
      "pref_pod_dur_shorter  VS  pref_pod_dur_longer\n",
      "................................................................................\n",
      "corr: -0.5370028799021992\n",
      "p-value: 9.556186584141715e-19\n",
      "\n",
      "================================================================================\n",
      "\n",
      "fav_music_pop  VS  fav_music_melody\n",
      "................................................................................\n",
      "corr: -0.5184758473652127\n",
      "p-value: 1.399257153175735e-17\n",
      "\n",
      "================================================================================\n",
      "\n",
      "lis_freq_leisure  VS  lis_freq_mix\n",
      "................................................................................\n",
      "corr: -0.5184758473652126\n",
      "p-value: 1.399257153175735e-17\n",
      "\n",
      "================================================================================\n",
      "\n",
      "pref_pod_dur_shorter  VS  preferred_listening_content\n",
      "................................................................................\n",
      "corr: -0.5158380896172831\n",
      "p-value: 2.035192921230658e-17\n",
      "\n",
      "================================================================================\n",
      "\n",
      "pod_format_story  VS  pod_format_conversational\n",
      "................................................................................\n",
      "corr: -0.5106182738169129\n",
      "p-value: 4.2481842111930167e-17\n",
      "\n",
      "================================================================================\n",
      "\n",
      "pod_host_pref_miss_data  VS  fav_pod_fit\n",
      "................................................................................\n",
      "corr: -0.504339957160977\n",
      "p-value: 1.0195728989240962e-16\n",
      "\n",
      "================================================================================\n",
      "\n",
      "pod_host_pref_miss_data  VS  pod_host_pref_both\n",
      "................................................................................\n",
      "corr: -0.5014512026071587\n",
      "p-value: 1.519930431882178e-16\n",
      "\n",
      "================================================================================\n"
     ]
    }
   ],
   "source": [
    "print('Negative Kendall Correlations\\n')\n",
    "print('==' * 40)\n",
    "\n",
    "for (variable1, variable2), correlation in negative.items():\n",
    "    corr, p_value = kendalltau(df[variable1], df[variable2])\n",
    "\n",
    "    print(f\"\\n{variable1}  VS  {variable2}\")\n",
    "    print('..' * 40)\n",
    "    print(f\"corr: {corr}\")\n",
    "    print(f\"p-value: {p_value}\\n\")\n",
    "    print('==' * 40)"
   ]
  },
  {
   "cell_type": "markdown",
   "id": "083b0138-442a-4432-8b95-0e482aa483bf",
   "metadata": {},
   "source": [
    "# Machine learning"
   ]
  },
  {
   "cell_type": "code",
   "execution_count": 159,
   "id": "e01b0235-686f-4684-bdca-a6dc927f3354",
   "metadata": {
    "tags": []
   },
   "outputs": [],
   "source": [
    "from sklearn.model_selection import train_test_split\n",
    "from sklearn.linear_model import LogisticRegression"
   ]
  },
  {
   "cell_type": "code",
   "execution_count": 160,
   "id": "b947d156-e39e-4f9b-9a5f-7f4a5442e472",
   "metadata": {
    "tags": []
   },
   "outputs": [],
   "source": [
    "X = df.drop('premium_sub_willingness',axis=1)\n",
    "y = df['premium_sub_willingness']"
   ]
  },
  {
   "cell_type": "code",
   "execution_count": 161,
   "id": "602d24b3-4e6f-497d-b5bd-154f71152254",
   "metadata": {},
   "outputs": [],
   "source": [
    "vars_to_drop = ['preffered_premium_plan', 'spotify_subscription_plan', 'fav_pod_miss_data', \n",
    "                'gender_male', 'gender_others']\n",
    "X.drop(columns=vars_to_drop, inplace=True)"
   ]
  },
  {
   "cell_type": "code",
   "execution_count": 162,
   "id": "19782ee4-2e3c-4aa9-b2f9-65ddf0570df5",
   "metadata": {},
   "outputs": [],
   "source": [
    "X_train, X_test, y_train, y_test = train_test_split(X, y, test_size=0.4, random_state = 99)"
   ]
  },
  {
   "cell_type": "code",
   "execution_count": 163,
   "id": "4ace30f5-9264-4213-bddb-3a6e6ab0b0f1",
   "metadata": {},
   "outputs": [],
   "source": [
    "# After visualizations (charts in the attachment), it was decided to remove the age group 6-12; \n",
    "# it contains only one observation. The variables highly correlated with each other were also removed."
   ]
  },
  {
   "cell_type": "code",
   "execution_count": 164,
   "id": "07faee79-09f5-41e3-8e59-249fa1f14530",
   "metadata": {},
   "outputs": [
    {
     "data": {
      "text/plain": [
       "premium_sub_willingness\n",
       "0    0.730061\n",
       "1    0.269939\n",
       "Name: proportion, dtype: float64"
      ]
     },
     "execution_count": 164,
     "metadata": {},
     "output_type": "execute_result"
    }
   ],
   "source": [
    "y_train.value_counts(normalize=True)"
   ]
  },
  {
   "cell_type": "code",
   "execution_count": 166,
   "id": "df751611-06d2-4377-81ca-9181fa410bb6",
   "metadata": {},
   "outputs": [],
   "source": [
    "from sklearn.feature_selection import RFE\n",
    "model = LogisticRegression()\n",
    "rfe = RFE(model, n_features_to_select=3)"
   ]
  },
  {
   "cell_type": "code",
   "execution_count": 167,
   "id": "24914d1f-bdcc-4a2b-800e-5c0701b4f03e",
   "metadata": {},
   "outputs": [],
   "source": [
    "rfe_fit = rfe.fit(X_train, y_train)"
   ]
  },
  {
   "cell_type": "code",
   "execution_count": 168,
   "id": "61745241-bf59-4663-b9a4-accc63dcce60",
   "metadata": {},
   "outputs": [
    {
     "data": {
      "text/plain": [
       "array([False, False, False, False, False, False, False, False,  True,\n",
       "       False, False, False, False, False, False, False, False, False,\n",
       "        True, False, False, False, False, False, False, False, False,\n",
       "       False, False, False, False, False, False, False, False, False,\n",
       "       False, False, False, False, False, False, False, False, False,\n",
       "        True])"
      ]
     },
     "execution_count": 168,
     "metadata": {},
     "output_type": "execute_result"
    }
   ],
   "source": [
    "rfe_fit.support_"
   ]
  },
  {
   "cell_type": "code",
   "execution_count": 169,
   "id": "ce421bca-8268-49a0-a9f5-ef226d1013d2",
   "metadata": {},
   "outputs": [],
   "source": [
    "features = X_train.columns[rfe_fit.support_]"
   ]
  },
  {
   "cell_type": "code",
   "execution_count": 170,
   "id": "aa2cc55a-224c-4bcc-9316-236ccb15e8a0",
   "metadata": {},
   "outputs": [
    {
     "data": {
      "text/plain": [
       "Index(['fav_music_melody', 'mood_sad', 'pref_pod_dur_shorter'], dtype='object')"
      ]
     },
     "execution_count": 170,
     "metadata": {},
     "output_type": "execute_result"
    }
   ],
   "source": [
    "features"
   ]
  },
  {
   "cell_type": "code",
   "execution_count": 171,
   "id": "e9866ec8-09ea-4ab0-9095-75823857808b",
   "metadata": {},
   "outputs": [],
   "source": [
    "X_train = X_train[features]"
   ]
  },
  {
   "cell_type": "code",
   "execution_count": 172,
   "id": "18cdd255-f11d-471d-8871-e39ed9b0ed02",
   "metadata": {},
   "outputs": [],
   "source": [
    "X_test = X_test[features]"
   ]
  },
  {
   "cell_type": "code",
   "execution_count": 173,
   "id": "ac39d249-5c73-45fc-b354-61bce541e72c",
   "metadata": {},
   "outputs": [],
   "source": [
    "import imblearn"
   ]
  },
  {
   "cell_type": "code",
   "execution_count": 178,
   "id": "06e5d6d4-74ac-4162-8b5f-d78867a17af1",
   "metadata": {},
   "outputs": [],
   "source": [
    "from imblearn.over_sampling import RandomOverSampler"
   ]
  },
  {
   "cell_type": "code",
   "execution_count": 179,
   "id": "8cf61100-6299-4212-a148-030406e2c8e6",
   "metadata": {},
   "outputs": [],
   "source": [
    "ros = RandomOverSampler(random_state=0, sampling_strategy=0.4)"
   ]
  },
  {
   "cell_type": "code",
   "execution_count": 180,
   "id": "b69f7d3e-8f9b-4e1a-a2aa-d1105f4afc68",
   "metadata": {},
   "outputs": [],
   "source": [
    "X_resampled, y_resampled = ros.fit_resample(X_train, y_train)"
   ]
  },
  {
   "cell_type": "code",
   "execution_count": 181,
   "id": "5ad78e0a-a46a-4ac0-9d37-53e06765c9d0",
   "metadata": {},
   "outputs": [
    {
     "data": {
      "text/plain": [
       "premium_sub_willingness\n",
       "0    0.716867\n",
       "1    0.283133\n",
       "Name: proportion, dtype: float64"
      ]
     },
     "execution_count": 181,
     "metadata": {},
     "output_type": "execute_result"
    }
   ],
   "source": [
    "y_resampled.value_counts(normalize=True)"
   ]
  },
  {
   "cell_type": "code",
   "execution_count": 182,
   "id": "ae47361d-0c12-4924-912c-3096b8daf61b",
   "metadata": {},
   "outputs": [
    {
     "data": {
      "text/plain": [
       "premium_sub_willingness\n",
       "0    0.730061\n",
       "1    0.269939\n",
       "Name: proportion, dtype: float64"
      ]
     },
     "execution_count": 182,
     "metadata": {},
     "output_type": "execute_result"
    }
   ],
   "source": [
    "y_train.value_counts(normalize=True)"
   ]
  },
  {
   "cell_type": "code",
   "execution_count": 183,
   "id": "2fb2525e-cbb0-4de7-be79-0db184a2999a",
   "metadata": {},
   "outputs": [
    {
     "data": {
      "text/plain": [
       "premium_sub_willingness\n",
       "0    119\n",
       "1     47\n",
       "Name: count, dtype: int64"
      ]
     },
     "execution_count": 183,
     "metadata": {},
     "output_type": "execute_result"
    }
   ],
   "source": [
    "y_resampled.value_counts()"
   ]
  },
  {
   "cell_type": "code",
   "execution_count": 184,
   "id": "44a137ad-f967-4029-a0d5-7c0f4032fa64",
   "metadata": {},
   "outputs": [],
   "source": [
    "lr1 = LogisticRegression(max_iter=1000, random_state=123)"
   ]
  },
  {
   "cell_type": "code",
   "execution_count": 185,
   "id": "0d0e230e-ca25-4eb4-bc78-e12e199f07ea",
   "metadata": {},
   "outputs": [
    {
     "data": {
      "text/html": [
       "<style>#sk-container-id-1 {\n",
       "  /* Definition of color scheme common for light and dark mode */\n",
       "  --sklearn-color-text: black;\n",
       "  --sklearn-color-line: gray;\n",
       "  /* Definition of color scheme for unfitted estimators */\n",
       "  --sklearn-color-unfitted-level-0: #fff5e6;\n",
       "  --sklearn-color-unfitted-level-1: #f6e4d2;\n",
       "  --sklearn-color-unfitted-level-2: #ffe0b3;\n",
       "  --sklearn-color-unfitted-level-3: chocolate;\n",
       "  /* Definition of color scheme for fitted estimators */\n",
       "  --sklearn-color-fitted-level-0: #f0f8ff;\n",
       "  --sklearn-color-fitted-level-1: #d4ebff;\n",
       "  --sklearn-color-fitted-level-2: #b3dbfd;\n",
       "  --sklearn-color-fitted-level-3: cornflowerblue;\n",
       "\n",
       "  /* Specific color for light theme */\n",
       "  --sklearn-color-text-on-default-background: var(--sg-text-color, var(--theme-code-foreground, var(--jp-content-font-color1, black)));\n",
       "  --sklearn-color-background: var(--sg-background-color, var(--theme-background, var(--jp-layout-color0, white)));\n",
       "  --sklearn-color-border-box: var(--sg-text-color, var(--theme-code-foreground, var(--jp-content-font-color1, black)));\n",
       "  --sklearn-color-icon: #696969;\n",
       "\n",
       "  @media (prefers-color-scheme: dark) {\n",
       "    /* Redefinition of color scheme for dark theme */\n",
       "    --sklearn-color-text-on-default-background: var(--sg-text-color, var(--theme-code-foreground, var(--jp-content-font-color1, white)));\n",
       "    --sklearn-color-background: var(--sg-background-color, var(--theme-background, var(--jp-layout-color0, #111)));\n",
       "    --sklearn-color-border-box: var(--sg-text-color, var(--theme-code-foreground, var(--jp-content-font-color1, white)));\n",
       "    --sklearn-color-icon: #878787;\n",
       "  }\n",
       "}\n",
       "\n",
       "#sk-container-id-1 {\n",
       "  color: var(--sklearn-color-text);\n",
       "}\n",
       "\n",
       "#sk-container-id-1 pre {\n",
       "  padding: 0;\n",
       "}\n",
       "\n",
       "#sk-container-id-1 input.sk-hidden--visually {\n",
       "  border: 0;\n",
       "  clip: rect(1px 1px 1px 1px);\n",
       "  clip: rect(1px, 1px, 1px, 1px);\n",
       "  height: 1px;\n",
       "  margin: -1px;\n",
       "  overflow: hidden;\n",
       "  padding: 0;\n",
       "  position: absolute;\n",
       "  width: 1px;\n",
       "}\n",
       "\n",
       "#sk-container-id-1 div.sk-dashed-wrapped {\n",
       "  border: 1px dashed var(--sklearn-color-line);\n",
       "  margin: 0 0.4em 0.5em 0.4em;\n",
       "  box-sizing: border-box;\n",
       "  padding-bottom: 0.4em;\n",
       "  background-color: var(--sklearn-color-background);\n",
       "}\n",
       "\n",
       "#sk-container-id-1 div.sk-container {\n",
       "  /* jupyter's `normalize.less` sets `[hidden] { display: none; }`\n",
       "     but bootstrap.min.css set `[hidden] { display: none !important; }`\n",
       "     so we also need the `!important` here to be able to override the\n",
       "     default hidden behavior on the sphinx rendered scikit-learn.org.\n",
       "     See: https://github.com/scikit-learn/scikit-learn/issues/21755 */\n",
       "  display: inline-block !important;\n",
       "  position: relative;\n",
       "}\n",
       "\n",
       "#sk-container-id-1 div.sk-text-repr-fallback {\n",
       "  display: none;\n",
       "}\n",
       "\n",
       "div.sk-parallel-item,\n",
       "div.sk-serial,\n",
       "div.sk-item {\n",
       "  /* draw centered vertical line to link estimators */\n",
       "  background-image: linear-gradient(var(--sklearn-color-text-on-default-background), var(--sklearn-color-text-on-default-background));\n",
       "  background-size: 2px 100%;\n",
       "  background-repeat: no-repeat;\n",
       "  background-position: center center;\n",
       "}\n",
       "\n",
       "/* Parallel-specific style estimator block */\n",
       "\n",
       "#sk-container-id-1 div.sk-parallel-item::after {\n",
       "  content: \"\";\n",
       "  width: 100%;\n",
       "  border-bottom: 2px solid var(--sklearn-color-text-on-default-background);\n",
       "  flex-grow: 1;\n",
       "}\n",
       "\n",
       "#sk-container-id-1 div.sk-parallel {\n",
       "  display: flex;\n",
       "  align-items: stretch;\n",
       "  justify-content: center;\n",
       "  background-color: var(--sklearn-color-background);\n",
       "  position: relative;\n",
       "}\n",
       "\n",
       "#sk-container-id-1 div.sk-parallel-item {\n",
       "  display: flex;\n",
       "  flex-direction: column;\n",
       "}\n",
       "\n",
       "#sk-container-id-1 div.sk-parallel-item:first-child::after {\n",
       "  align-self: flex-end;\n",
       "  width: 50%;\n",
       "}\n",
       "\n",
       "#sk-container-id-1 div.sk-parallel-item:last-child::after {\n",
       "  align-self: flex-start;\n",
       "  width: 50%;\n",
       "}\n",
       "\n",
       "#sk-container-id-1 div.sk-parallel-item:only-child::after {\n",
       "  width: 0;\n",
       "}\n",
       "\n",
       "/* Serial-specific style estimator block */\n",
       "\n",
       "#sk-container-id-1 div.sk-serial {\n",
       "  display: flex;\n",
       "  flex-direction: column;\n",
       "  align-items: center;\n",
       "  background-color: var(--sklearn-color-background);\n",
       "  padding-right: 1em;\n",
       "  padding-left: 1em;\n",
       "}\n",
       "\n",
       "\n",
       "/* Toggleable style: style used for estimator/Pipeline/ColumnTransformer box that is\n",
       "clickable and can be expanded/collapsed.\n",
       "- Pipeline and ColumnTransformer use this feature and define the default style\n",
       "- Estimators will overwrite some part of the style using the `sk-estimator` class\n",
       "*/\n",
       "\n",
       "/* Pipeline and ColumnTransformer style (default) */\n",
       "\n",
       "#sk-container-id-1 div.sk-toggleable {\n",
       "  /* Default theme specific background. It is overwritten whether we have a\n",
       "  specific estimator or a Pipeline/ColumnTransformer */\n",
       "  background-color: var(--sklearn-color-background);\n",
       "}\n",
       "\n",
       "/* Toggleable label */\n",
       "#sk-container-id-1 label.sk-toggleable__label {\n",
       "  cursor: pointer;\n",
       "  display: block;\n",
       "  width: 100%;\n",
       "  margin-bottom: 0;\n",
       "  padding: 0.5em;\n",
       "  box-sizing: border-box;\n",
       "  text-align: center;\n",
       "}\n",
       "\n",
       "#sk-container-id-1 label.sk-toggleable__label-arrow:before {\n",
       "  /* Arrow on the left of the label */\n",
       "  content: \"▸\";\n",
       "  float: left;\n",
       "  margin-right: 0.25em;\n",
       "  color: var(--sklearn-color-icon);\n",
       "}\n",
       "\n",
       "#sk-container-id-1 label.sk-toggleable__label-arrow:hover:before {\n",
       "  color: var(--sklearn-color-text);\n",
       "}\n",
       "\n",
       "/* Toggleable content - dropdown */\n",
       "\n",
       "#sk-container-id-1 div.sk-toggleable__content {\n",
       "  max-height: 0;\n",
       "  max-width: 0;\n",
       "  overflow: hidden;\n",
       "  text-align: left;\n",
       "  /* unfitted */\n",
       "  background-color: var(--sklearn-color-unfitted-level-0);\n",
       "}\n",
       "\n",
       "#sk-container-id-1 div.sk-toggleable__content.fitted {\n",
       "  /* fitted */\n",
       "  background-color: var(--sklearn-color-fitted-level-0);\n",
       "}\n",
       "\n",
       "#sk-container-id-1 div.sk-toggleable__content pre {\n",
       "  margin: 0.2em;\n",
       "  border-radius: 0.25em;\n",
       "  color: var(--sklearn-color-text);\n",
       "  /* unfitted */\n",
       "  background-color: var(--sklearn-color-unfitted-level-0);\n",
       "}\n",
       "\n",
       "#sk-container-id-1 div.sk-toggleable__content.fitted pre {\n",
       "  /* unfitted */\n",
       "  background-color: var(--sklearn-color-fitted-level-0);\n",
       "}\n",
       "\n",
       "#sk-container-id-1 input.sk-toggleable__control:checked~div.sk-toggleable__content {\n",
       "  /* Expand drop-down */\n",
       "  max-height: 200px;\n",
       "  max-width: 100%;\n",
       "  overflow: auto;\n",
       "}\n",
       "\n",
       "#sk-container-id-1 input.sk-toggleable__control:checked~label.sk-toggleable__label-arrow:before {\n",
       "  content: \"▾\";\n",
       "}\n",
       "\n",
       "/* Pipeline/ColumnTransformer-specific style */\n",
       "\n",
       "#sk-container-id-1 div.sk-label input.sk-toggleable__control:checked~label.sk-toggleable__label {\n",
       "  color: var(--sklearn-color-text);\n",
       "  background-color: var(--sklearn-color-unfitted-level-2);\n",
       "}\n",
       "\n",
       "#sk-container-id-1 div.sk-label.fitted input.sk-toggleable__control:checked~label.sk-toggleable__label {\n",
       "  background-color: var(--sklearn-color-fitted-level-2);\n",
       "}\n",
       "\n",
       "/* Estimator-specific style */\n",
       "\n",
       "/* Colorize estimator box */\n",
       "#sk-container-id-1 div.sk-estimator input.sk-toggleable__control:checked~label.sk-toggleable__label {\n",
       "  /* unfitted */\n",
       "  background-color: var(--sklearn-color-unfitted-level-2);\n",
       "}\n",
       "\n",
       "#sk-container-id-1 div.sk-estimator.fitted input.sk-toggleable__control:checked~label.sk-toggleable__label {\n",
       "  /* fitted */\n",
       "  background-color: var(--sklearn-color-fitted-level-2);\n",
       "}\n",
       "\n",
       "#sk-container-id-1 div.sk-label label.sk-toggleable__label,\n",
       "#sk-container-id-1 div.sk-label label {\n",
       "  /* The background is the default theme color */\n",
       "  color: var(--sklearn-color-text-on-default-background);\n",
       "}\n",
       "\n",
       "/* On hover, darken the color of the background */\n",
       "#sk-container-id-1 div.sk-label:hover label.sk-toggleable__label {\n",
       "  color: var(--sklearn-color-text);\n",
       "  background-color: var(--sklearn-color-unfitted-level-2);\n",
       "}\n",
       "\n",
       "/* Label box, darken color on hover, fitted */\n",
       "#sk-container-id-1 div.sk-label.fitted:hover label.sk-toggleable__label.fitted {\n",
       "  color: var(--sklearn-color-text);\n",
       "  background-color: var(--sklearn-color-fitted-level-2);\n",
       "}\n",
       "\n",
       "/* Estimator label */\n",
       "\n",
       "#sk-container-id-1 div.sk-label label {\n",
       "  font-family: monospace;\n",
       "  font-weight: bold;\n",
       "  display: inline-block;\n",
       "  line-height: 1.2em;\n",
       "}\n",
       "\n",
       "#sk-container-id-1 div.sk-label-container {\n",
       "  text-align: center;\n",
       "}\n",
       "\n",
       "/* Estimator-specific */\n",
       "#sk-container-id-1 div.sk-estimator {\n",
       "  font-family: monospace;\n",
       "  border: 1px dotted var(--sklearn-color-border-box);\n",
       "  border-radius: 0.25em;\n",
       "  box-sizing: border-box;\n",
       "  margin-bottom: 0.5em;\n",
       "  /* unfitted */\n",
       "  background-color: var(--sklearn-color-unfitted-level-0);\n",
       "}\n",
       "\n",
       "#sk-container-id-1 div.sk-estimator.fitted {\n",
       "  /* fitted */\n",
       "  background-color: var(--sklearn-color-fitted-level-0);\n",
       "}\n",
       "\n",
       "/* on hover */\n",
       "#sk-container-id-1 div.sk-estimator:hover {\n",
       "  /* unfitted */\n",
       "  background-color: var(--sklearn-color-unfitted-level-2);\n",
       "}\n",
       "\n",
       "#sk-container-id-1 div.sk-estimator.fitted:hover {\n",
       "  /* fitted */\n",
       "  background-color: var(--sklearn-color-fitted-level-2);\n",
       "}\n",
       "\n",
       "/* Specification for estimator info (e.g. \"i\" and \"?\") */\n",
       "\n",
       "/* Common style for \"i\" and \"?\" */\n",
       "\n",
       ".sk-estimator-doc-link,\n",
       "a:link.sk-estimator-doc-link,\n",
       "a:visited.sk-estimator-doc-link {\n",
       "  float: right;\n",
       "  font-size: smaller;\n",
       "  line-height: 1em;\n",
       "  font-family: monospace;\n",
       "  background-color: var(--sklearn-color-background);\n",
       "  border-radius: 1em;\n",
       "  height: 1em;\n",
       "  width: 1em;\n",
       "  text-decoration: none !important;\n",
       "  margin-left: 1ex;\n",
       "  /* unfitted */\n",
       "  border: var(--sklearn-color-unfitted-level-1) 1pt solid;\n",
       "  color: var(--sklearn-color-unfitted-level-1);\n",
       "}\n",
       "\n",
       ".sk-estimator-doc-link.fitted,\n",
       "a:link.sk-estimator-doc-link.fitted,\n",
       "a:visited.sk-estimator-doc-link.fitted {\n",
       "  /* fitted */\n",
       "  border: var(--sklearn-color-fitted-level-1) 1pt solid;\n",
       "  color: var(--sklearn-color-fitted-level-1);\n",
       "}\n",
       "\n",
       "/* On hover */\n",
       "div.sk-estimator:hover .sk-estimator-doc-link:hover,\n",
       ".sk-estimator-doc-link:hover,\n",
       "div.sk-label-container:hover .sk-estimator-doc-link:hover,\n",
       ".sk-estimator-doc-link:hover {\n",
       "  /* unfitted */\n",
       "  background-color: var(--sklearn-color-unfitted-level-3);\n",
       "  color: var(--sklearn-color-background);\n",
       "  text-decoration: none;\n",
       "}\n",
       "\n",
       "div.sk-estimator.fitted:hover .sk-estimator-doc-link.fitted:hover,\n",
       ".sk-estimator-doc-link.fitted:hover,\n",
       "div.sk-label-container:hover .sk-estimator-doc-link.fitted:hover,\n",
       ".sk-estimator-doc-link.fitted:hover {\n",
       "  /* fitted */\n",
       "  background-color: var(--sklearn-color-fitted-level-3);\n",
       "  color: var(--sklearn-color-background);\n",
       "  text-decoration: none;\n",
       "}\n",
       "\n",
       "/* Span, style for the box shown on hovering the info icon */\n",
       ".sk-estimator-doc-link span {\n",
       "  display: none;\n",
       "  z-index: 9999;\n",
       "  position: relative;\n",
       "  font-weight: normal;\n",
       "  right: .2ex;\n",
       "  padding: .5ex;\n",
       "  margin: .5ex;\n",
       "  width: min-content;\n",
       "  min-width: 20ex;\n",
       "  max-width: 50ex;\n",
       "  color: var(--sklearn-color-text);\n",
       "  box-shadow: 2pt 2pt 4pt #999;\n",
       "  /* unfitted */\n",
       "  background: var(--sklearn-color-unfitted-level-0);\n",
       "  border: .5pt solid var(--sklearn-color-unfitted-level-3);\n",
       "}\n",
       "\n",
       ".sk-estimator-doc-link.fitted span {\n",
       "  /* fitted */\n",
       "  background: var(--sklearn-color-fitted-level-0);\n",
       "  border: var(--sklearn-color-fitted-level-3);\n",
       "}\n",
       "\n",
       ".sk-estimator-doc-link:hover span {\n",
       "  display: block;\n",
       "}\n",
       "\n",
       "/* \"?\"-specific style due to the `<a>` HTML tag */\n",
       "\n",
       "#sk-container-id-1 a.estimator_doc_link {\n",
       "  float: right;\n",
       "  font-size: 1rem;\n",
       "  line-height: 1em;\n",
       "  font-family: monospace;\n",
       "  background-color: var(--sklearn-color-background);\n",
       "  border-radius: 1rem;\n",
       "  height: 1rem;\n",
       "  width: 1rem;\n",
       "  text-decoration: none;\n",
       "  /* unfitted */\n",
       "  color: var(--sklearn-color-unfitted-level-1);\n",
       "  border: var(--sklearn-color-unfitted-level-1) 1pt solid;\n",
       "}\n",
       "\n",
       "#sk-container-id-1 a.estimator_doc_link.fitted {\n",
       "  /* fitted */\n",
       "  border: var(--sklearn-color-fitted-level-1) 1pt solid;\n",
       "  color: var(--sklearn-color-fitted-level-1);\n",
       "}\n",
       "\n",
       "/* On hover */\n",
       "#sk-container-id-1 a.estimator_doc_link:hover {\n",
       "  /* unfitted */\n",
       "  background-color: var(--sklearn-color-unfitted-level-3);\n",
       "  color: var(--sklearn-color-background);\n",
       "  text-decoration: none;\n",
       "}\n",
       "\n",
       "#sk-container-id-1 a.estimator_doc_link.fitted:hover {\n",
       "  /* fitted */\n",
       "  background-color: var(--sklearn-color-fitted-level-3);\n",
       "}\n",
       "</style><div id=\"sk-container-id-1\" class=\"sk-top-container\"><div class=\"sk-text-repr-fallback\"><pre>LogisticRegression(max_iter=1000, random_state=123)</pre><b>In a Jupyter environment, please rerun this cell to show the HTML representation or trust the notebook. <br />On GitHub, the HTML representation is unable to render, please try loading this page with nbviewer.org.</b></div><div class=\"sk-container\" hidden><div class=\"sk-item\"><div class=\"sk-estimator fitted sk-toggleable\"><input class=\"sk-toggleable__control sk-hidden--visually\" id=\"sk-estimator-id-1\" type=\"checkbox\" checked><label for=\"sk-estimator-id-1\" class=\"sk-toggleable__label fitted sk-toggleable__label-arrow fitted\">&nbsp;&nbsp;LogisticRegression<a class=\"sk-estimator-doc-link fitted\" rel=\"noreferrer\" target=\"_blank\" href=\"https://scikit-learn.org/1.4/modules/generated/sklearn.linear_model.LogisticRegression.html\">?<span>Documentation for LogisticRegression</span></a><span class=\"sk-estimator-doc-link fitted\">i<span>Fitted</span></span></label><div class=\"sk-toggleable__content fitted\"><pre>LogisticRegression(max_iter=1000, random_state=123)</pre></div> </div></div></div></div>"
      ],
      "text/plain": [
       "LogisticRegression(max_iter=1000, random_state=123)"
      ]
     },
     "execution_count": 185,
     "metadata": {},
     "output_type": "execute_result"
    }
   ],
   "source": [
    "lr1.fit(X_resampled, y_resampled)"
   ]
  },
  {
   "cell_type": "code",
   "execution_count": 186,
   "id": "283597e7-4c51-407d-aa8d-2886becfc94e",
   "metadata": {},
   "outputs": [],
   "source": [
    "y_pred = lr1.predict(X_test)"
   ]
  },
  {
   "cell_type": "code",
   "execution_count": 187,
   "id": "f644308c-8e37-4789-85e4-e7099758aa03",
   "metadata": {},
   "outputs": [],
   "source": [
    "y_pred_train = lr1.predict(X_train)"
   ]
  },
  {
   "cell_type": "code",
   "execution_count": 188,
   "id": "8662199b-57d9-447f-8cc5-5e951b6e27cf",
   "metadata": {},
   "outputs": [],
   "source": [
    "from sklearn.metrics import confusion_matrix"
   ]
  },
  {
   "cell_type": "code",
   "execution_count": 189,
   "id": "3b1e3d8b-7f2a-4e45-bdf2-b7160aa18a58",
   "metadata": {},
   "outputs": [],
   "source": [
    "confMatrix=confusion_matrix(y_test, y_pred)"
   ]
  },
  {
   "cell_type": "code",
   "execution_count": 190,
   "id": "dc90d97a-0d40-45df-86b1-66c6730be12b",
   "metadata": {},
   "outputs": [
    {
     "name": "stdout",
     "output_type": "stream",
     "text": [
      "\n",
      "Confusion Matrix :\n",
      "       Predicted 0 Predicted 1\n",
      "True 0          65          12\n",
      "True 1          16          16\n"
     ]
    }
   ],
   "source": [
    "confMatrix=pd.DataFrame(confMatrix)\n",
    "confMatrix.columns=[['Predicted 0','Predicted 1']]\n",
    "confMatrix.index=[['True 0','True 1']]\n",
    "print('')\n",
    "print('Confusion Matrix :')\n",
    "print(confMatrix)"
   ]
  },
  {
   "cell_type": "code",
   "execution_count": 191,
   "id": "f4587512-9d47-4d48-9469-f4ae4f21f99e",
   "metadata": {},
   "outputs": [],
   "source": [
    "from sklearn.metrics import accuracy_score, recall_score, precision_score, f1_score, classification_report, roc_auc_score"
   ]
  },
  {
   "cell_type": "code",
   "execution_count": 192,
   "id": "1345ac55-bfff-4634-96fe-e6cb2992f91b",
   "metadata": {},
   "outputs": [],
   "source": [
    "lr_accuracy = accuracy_score(y_test, y_pred)\n",
    "lr_recall = recall_score(y_test, y_pred)\n",
    "lr_precision = precision_score(y_test, y_pred)\n",
    "lr_f1 = f1_score(y_test, y_pred)"
   ]
  },
  {
   "cell_type": "code",
   "execution_count": 193,
   "id": "2ac45a0b-7f81-46ad-9bfd-37a4141982f2",
   "metadata": {},
   "outputs": [
    {
     "name": "stdout",
     "output_type": "stream",
     "text": [
      "              precision    recall  f1-score   support\n",
      "\n",
      "           0       0.80      0.84      0.82        77\n",
      "           1       0.57      0.50      0.53        32\n",
      "\n",
      "    accuracy                           0.74       109\n",
      "   macro avg       0.69      0.67      0.68       109\n",
      "weighted avg       0.73      0.74      0.74       109\n",
      "\n"
     ]
    }
   ],
   "source": [
    "print(classification_report(y_test,y_pred))"
   ]
  },
  {
   "cell_type": "code",
   "execution_count": 194,
   "id": "8203c61c-8405-434b-900f-2f4f33ddcee0",
   "metadata": {},
   "outputs": [
    {
     "name": "stdout",
     "output_type": "stream",
     "text": [
      "              precision    recall  f1-score   support\n",
      "\n",
      "           0       0.84      0.96      0.90       119\n",
      "           1       0.82      0.52      0.64        44\n",
      "\n",
      "    accuracy                           0.84       163\n",
      "   macro avg       0.83      0.74      0.77       163\n",
      "weighted avg       0.84      0.84      0.83       163\n",
      "\n"
     ]
    }
   ],
   "source": [
    "print(classification_report(y_train,y_pred_train))"
   ]
  },
  {
   "cell_type": "code",
   "execution_count": 195,
   "id": "7af89e6a-341e-47ae-93fe-3481fd56a34f",
   "metadata": {},
   "outputs": [],
   "source": [
    "from sklearn import metrics"
   ]
  },
  {
   "cell_type": "code",
   "execution_count": 196,
   "id": "be65e50f-1fc1-48aa-a8dc-fefedcdc088b",
   "metadata": {},
   "outputs": [],
   "source": [
    "y_pred_proba = lr1.predict_proba(X_test)[:,1]"
   ]
  },
  {
   "cell_type": "code",
   "execution_count": 197,
   "id": "92fd3441-ccce-4426-85e1-14c2743e0a67",
   "metadata": {},
   "outputs": [
    {
     "data": {
      "text/plain": [
       "array([0.32546382, 0.26774407, 0.67219882, 0.26774407, 0.07921803,\n",
       "       0.32546382, 0.07921803, 0.67219882, 0.07921803, 0.07921803,\n",
       "       0.07921803, 0.26774407, 0.07921803, 0.67219882, 0.67219882,\n",
       "       0.07921803, 0.26774407, 0.26774407, 0.07921803, 0.67219882,\n",
       "       0.67219882, 0.32546382, 0.07921803, 0.67219882, 0.26774407,\n",
       "       0.26774407, 0.07921803, 0.26774407, 0.26774407, 0.89968729,\n",
       "       0.07921803, 0.07921803, 0.26774407, 0.07921803, 0.07921803,\n",
       "       0.26774407, 0.07921803, 0.07921803, 0.07921803, 0.67219882,\n",
       "       0.26774407, 0.32546382, 0.67219882, 0.67219882, 0.32546382,\n",
       "       0.67219882, 0.67219882, 0.07921803, 0.07921803, 0.27340572,\n",
       "       0.67219882, 0.26774407, 0.07921803, 0.26774407, 0.07921803,\n",
       "       0.07921803, 0.26774407, 0.67219882, 0.89968729, 0.07921803,\n",
       "       0.07921803, 0.26774407, 0.07921803, 0.32546382, 0.07921803,\n",
       "       0.07921803, 0.07921803, 0.07921803, 0.26774407, 0.67219882,\n",
       "       0.32546382, 0.07921803, 0.07921803, 0.07921803, 0.67219882,\n",
       "       0.26774407, 0.67219882, 0.67848845, 0.26774407, 0.26774407,\n",
       "       0.07921803, 0.07921803, 0.32546382, 0.67219882, 0.07921803,\n",
       "       0.26774407, 0.67219882, 0.67219882, 0.26774407, 0.26774407,\n",
       "       0.07921803, 0.67848845, 0.26774407, 0.26774407, 0.07921803,\n",
       "       0.67848845, 0.26774407, 0.07921803, 0.32546382, 0.67219882,\n",
       "       0.07921803, 0.07921803, 0.26774407, 0.07921803, 0.26774407,\n",
       "       0.07921803, 0.67219882, 0.67219882, 0.07921803])"
      ]
     },
     "execution_count": 197,
     "metadata": {},
     "output_type": "execute_result"
    }
   ],
   "source": [
    "y_pred_proba"
   ]
  },
  {
   "cell_type": "code",
   "execution_count": 198,
   "id": "de0e622d-7a6d-4d2b-ba66-00efa3ea037d",
   "metadata": {},
   "outputs": [],
   "source": [
    "fpr, tpr, _ = metrics.roc_curve(y_test, y_pred_proba)"
   ]
  },
  {
   "cell_type": "code",
   "execution_count": 199,
   "id": "f77277ff-889e-406a-9faf-7368b29b6e35",
   "metadata": {},
   "outputs": [
    {
     "data": {
      "image/png": "[encoded data removed]",
      "text/plain": [
       "<Figure size 640x480 with 1 Axes>"
      ]
     },
     "metadata": {},
     "output_type": "display_data"
    }
   ],
   "source": [
    "lr_auc = metrics.roc_auc_score(y_test, y_pred_proba)\n",
    "plt.plot(fpr,tpr,label=\"AUC = \"+str(lr_auc))\n",
    "plt.title('ROC Curve LR')\n",
    "plt.xlabel('False Positive Rate')\n",
    "plt.ylabel('Recall')\n",
    "plt.legend()\n",
    "plt.show()"
   ]
  },
  {
   "cell_type": "code",
   "execution_count": 200,
   "id": "e2a31a39-e0a5-4c6a-a55f-9aec75a8e507",
   "metadata": {},
   "outputs": [
    {
     "data": {
      "text/plain": [
       "0.7171266233766234"
      ]
     },
     "execution_count": 200,
     "metadata": {},
     "output_type": "execute_result"
    }
   ],
   "source": [
    "lr_auc"
   ]
  },
  {
   "cell_type": "code",
   "execution_count": 201,
   "id": "6db1f427-1962-4ba6-8bad-c8f717451114",
   "metadata": {},
   "outputs": [],
   "source": [
    "y_pred_proba_train_res = lr1.predict_proba(X_resampled)[:,1]"
   ]
  },
  {
   "cell_type": "code",
   "execution_count": 202,
   "id": "bf4ef41d-2bab-4911-815f-6ef932fd5364",
   "metadata": {},
   "outputs": [
    {
     "data": {
      "text/plain": [
       "0.8285356695869838"
      ]
     },
     "execution_count": 202,
     "metadata": {},
     "output_type": "execute_result"
    }
   ],
   "source": [
    "lr1_auc_train = roc_auc_score(y_resampled, y_pred_proba_train_res)\n",
    "lr1_auc_train"
   ]
  },
  {
   "cell_type": "code",
   "execution_count": 203,
   "id": "cdb06e0a-f613-4e2c-abb9-fa6dbcd02c0b",
   "metadata": {},
   "outputs": [],
   "source": [
    "y_pred_proba_train = lr1.predict_proba(X_train)[:,1]"
   ]
  },
  {
   "cell_type": "code",
   "execution_count": 204,
   "id": "3c46e62b-f7ff-40ed-ae49-7530f093b926",
   "metadata": {},
   "outputs": [
    {
     "data": {
      "text/plain": [
       "0.8182773109243697"
      ]
     },
     "execution_count": 204,
     "metadata": {},
     "output_type": "execute_result"
    }
   ],
   "source": [
    "lr1_auc_train = roc_auc_score(y_train, y_pred_proba_train)\n",
    "lr1_auc_train"
   ]
  },
  {
   "cell_type": "code",
   "execution_count": 205,
   "id": "163edad4-ce40-4d61-9e31-900aa20cccae",
   "metadata": {},
   "outputs": [],
   "source": [
    "from sklearn.metrics import precision_recall_curve, PrecisionRecallDisplay"
   ]
  },
  {
   "cell_type": "code",
   "execution_count": 206,
   "id": "83332db6-0287-458c-ab15-c0add9bb55a6",
   "metadata": {},
   "outputs": [],
   "source": [
    "precision_lr, recall_lr, _ = precision_recall_curve(y_test, y_pred_proba)"
   ]
  },
  {
   "cell_type": "code",
   "execution_count": 207,
   "id": "349aeb39-5d10-49c3-ac79-2dc7fd370cb3",
   "metadata": {},
   "outputs": [
    {
     "data": {
      "text/plain": [
       "<sklearn.metrics._plot.precision_recall_curve.PrecisionRecallDisplay at 0x754dc05df790>"
      ]
     },
     "execution_count": 207,
     "metadata": {},
     "output_type": "execute_result"
    },
    {
     "data": {
      "image/png": "[encoded data removed]",
      "text/plain": [
       "<Figure size 640x480 with 1 Axes>"
      ]
     },
     "metadata": {},
     "output_type": "display_data"
    }
   ],
   "source": [
    "display = PrecisionRecallDisplay(precision=precision_lr, recall=recall_lr)\n",
    "display.plot()"
   ]
  },
  {
   "cell_type": "code",
   "execution_count": 208,
   "id": "1ab566d1-1e5d-4e2c-b0f3-49e36a595104",
   "metadata": {},
   "outputs": [],
   "source": [
    "from sklearn.metrics import auc"
   ]
  },
  {
   "cell_type": "code",
   "execution_count": 209,
   "id": "996742d7-20b9-4b5f-8a6b-ea3cfda5e96c",
   "metadata": {},
   "outputs": [],
   "source": [
    "PR_score_lr = auc(recall_lr, precision_lr)"
   ]
  },
  {
   "cell_type": "code",
   "execution_count": 210,
   "id": "23b16dee-221b-41c4-9f06-eb9994653a2a",
   "metadata": {},
   "outputs": [
    {
     "data": {
      "text/plain": [
       "0.5088449639768446"
      ]
     },
     "execution_count": 210,
     "metadata": {},
     "output_type": "execute_result"
    }
   ],
   "source": [
    "PR_score_lr"
   ]
  },
  {
   "cell_type": "code",
   "execution_count": 211,
   "id": "875fb0c5-b6d2-498e-8436-4de93874a1b2",
   "metadata": {},
   "outputs": [
    {
     "data": {
      "text/plain": [
       "array([0.29357798, 0.39393939, 0.5       , 0.51351351, 0.57142857,\n",
       "       0.6       , 0.5       , 1.        ])"
      ]
     },
     "execution_count": 211,
     "metadata": {},
     "output_type": "execute_result"
    }
   ],
   "source": [
    "precision_recall_curve(y_test, y_pred_proba)[0][0:50]"
   ]
  },
  {
   "cell_type": "code",
   "execution_count": 212,
   "id": "1134fe2e-0d15-485e-9220-967a11b9325b",
   "metadata": {},
   "outputs": [],
   "source": [
    "precision_train, recall_train, _ = precision_recall_curve(y_train, y_pred_proba_train)"
   ]
  },
  {
   "cell_type": "code",
   "execution_count": 213,
   "id": "71c02b4f-510a-4a7d-b5a6-e1b7d07dddb7",
   "metadata": {},
   "outputs": [
    {
     "data": {
      "text/plain": [
       "0.7343140091625342"
      ]
     },
     "execution_count": 213,
     "metadata": {},
     "output_type": "execute_result"
    }
   ],
   "source": [
    "auc(recall_train, precision_train)"
   ]
  },
  {
   "cell_type": "code",
   "execution_count": 214,
   "id": "a2f8ef4c-3f57-4fd8-ba3d-93b794b6700e",
   "metadata": {},
   "outputs": [],
   "source": [
    "results1 = pd.DataFrame({\n",
    "    'model': ['RL default'], \n",
    "    'accuracy': [lr_accuracy],\n",
    "    'precision': [lr_precision],\n",
    "    'recall': [lr_recall],\n",
    "    'f1-score': [lr_f1],\n",
    "    'auc': [lr_auc],\n",
    "    'PR_score': [PR_score_lr]\n",
    "    })"
   ]
  },
  {
   "cell_type": "code",
   "execution_count": 215,
   "id": "50c21ab9-4eab-4299-bda5-5572e79c5737",
   "metadata": {},
   "outputs": [
    {
     "data": {
      "text/html": [
       "<div>\n",
       "<style scoped>\n",
       "    .dataframe tbody tr th:only-of-type {\n",
       "        vertical-align: middle;\n",
       "    }\n",
       "\n",
       "    .dataframe tbody tr th {\n",
       "        vertical-align: top;\n",
       "    }\n",
       "\n",
       "    .dataframe thead th {\n",
       "        text-align: right;\n",
       "    }\n",
       "</style>\n",
       "<table border=\"1\" class=\"dataframe\">\n",
       "  <thead>\n",
       "    <tr style=\"text-align: right;\">\n",
       "      <th></th>\n",
       "      <th>model</th>\n",
       "      <th>accuracy</th>\n",
       "      <th>precision</th>\n",
       "      <th>recall</th>\n",
       "      <th>f1-score</th>\n",
       "      <th>auc</th>\n",
       "      <th>PR_score</th>\n",
       "    </tr>\n",
       "  </thead>\n",
       "  <tbody>\n",
       "    <tr>\n",
       "      <th>0</th>\n",
       "      <td>RL default</td>\n",
       "      <td>0.743119</td>\n",
       "      <td>0.571429</td>\n",
       "      <td>0.5</td>\n",
       "      <td>0.533333</td>\n",
       "      <td>0.717127</td>\n",
       "      <td>0.508845</td>\n",
       "    </tr>\n",
       "  </tbody>\n",
       "</table>\n",
       "</div>"
      ],
      "text/plain": [
       "        model  accuracy  precision  recall  f1-score       auc  PR_score\n",
       "0  RL default  0.743119   0.571429     0.5  0.533333  0.717127  0.508845"
      ]
     },
     "execution_count": 215,
     "metadata": {},
     "output_type": "execute_result"
    }
   ],
   "source": [
    "results1 "
   ]
  },
  {
   "cell_type": "code",
   "execution_count": 216,
   "id": "1920b580-bd35-49be-90e2-ac62f09abb3c",
   "metadata": {},
   "outputs": [],
   "source": [
    "precision_train_r, recall_train_r, _ = precision_recall_curve(y_resampled, y_pred_proba_train_res)"
   ]
  },
  {
   "cell_type": "code",
   "execution_count": 217,
   "id": "6b8dee07-433c-4b50-b921-025cef73e07f",
   "metadata": {},
   "outputs": [
    {
     "data": {
      "text/plain": [
       "0.757765938885751"
      ]
     },
     "execution_count": 217,
     "metadata": {},
     "output_type": "execute_result"
    }
   ],
   "source": [
    "auc(recall_train_r, precision_train_r)"
   ]
  },
  {
   "cell_type": "code",
   "execution_count": 218,
   "id": "d05568d5-13a0-4790-981d-f57d4fc5a3d1",
   "metadata": {},
   "outputs": [],
   "source": [
    "from sklearn.model_selection import GridSearchCV"
   ]
  },
  {
   "cell_type": "code",
   "execution_count": 219,
   "id": "1f9ebec3-b2cd-486e-b2e6-5e898b23e112",
   "metadata": {},
   "outputs": [],
   "source": [
    "model = LogisticRegression(max_iter=1000, random_state=123)"
   ]
  },
  {
   "cell_type": "code",
   "execution_count": 220,
   "id": "6808d06d-cf6c-4e87-ae0d-271fdd8a59af",
   "metadata": {},
   "outputs": [],
   "source": [
    "params = {\n",
    "    'solver': ['liblinear'],\n",
    "    'penalty': ['l1', 'l2'],\n",
    "    'C': [1.0, 0.1, 0.01]\n",
    "}"
   ]
  },
  {
   "cell_type": "code",
   "execution_count": 221,
   "id": "20cda911-7603-4518-8643-79836f0bac7b",
   "metadata": {},
   "outputs": [],
   "source": [
    "grid_search = GridSearchCV(estimator=model, param_grid=params, n_jobs=-1, cv=5, scoring='roc_auc')"
   ]
  },
  {
   "cell_type": "code",
   "execution_count": 222,
   "id": "7bdab0b8-a879-42d5-a590-c5ba0044f0ca",
   "metadata": {},
   "outputs": [],
   "source": [
    "grid_result = grid_search.fit(X_train, y_train)"
   ]
  },
  {
   "cell_type": "code",
   "execution_count": 223,
   "id": "07823692-008d-42c9-9341-4b616ec05729",
   "metadata": {},
   "outputs": [],
   "source": [
    "grid_result = grid_search.fit(X_resampled, y_resampled)"
   ]
  },
  {
   "cell_type": "code",
   "execution_count": 224,
   "id": "47daaa26-0115-4802-a9bb-c02e420f9d18",
   "metadata": {},
   "outputs": [
    {
     "name": "stdout",
     "output_type": "stream",
     "text": [
      "Best: 0.825227 using {'C': 0.1, 'penalty': 'l2', 'solver': 'liblinear'}\n"
     ]
    }
   ],
   "source": [
    "print(\"Best: %f using %s\" % (grid_result.best_score_, grid_result.best_params_))"
   ]
  },
  {
   "cell_type": "code",
   "execution_count": 225,
   "id": "247d7434-b4c9-4112-aef3-3208837e772e",
   "metadata": {},
   "outputs": [],
   "source": [
    "lr_opt = LogisticRegression(C=1, penalty='l1', solver='liblinear')"
   ]
  },
  {
   "cell_type": "code",
   "execution_count": 226,
   "id": "e5d5dbc8-b8d8-494f-a6da-ea75c610fdad",
   "metadata": {},
   "outputs": [
    {
     "data": {
      "text/html": [
       "<style>#sk-container-id-2 {\n",
       "  /* Definition of color scheme common for light and dark mode */\n",
       "  --sklearn-color-text: black;\n",
       "  --sklearn-color-line: gray;\n",
       "  /* Definition of color scheme for unfitted estimators */\n",
       "  --sklearn-color-unfitted-level-0: #fff5e6;\n",
       "  --sklearn-color-unfitted-level-1: #f6e4d2;\n",
       "  --sklearn-color-unfitted-level-2: #ffe0b3;\n",
       "  --sklearn-color-unfitted-level-3: chocolate;\n",
       "  /* Definition of color scheme for fitted estimators */\n",
       "  --sklearn-color-fitted-level-0: #f0f8ff;\n",
       "  --sklearn-color-fitted-level-1: #d4ebff;\n",
       "  --sklearn-color-fitted-level-2: #b3dbfd;\n",
       "  --sklearn-color-fitted-level-3: cornflowerblue;\n",
       "\n",
       "  /* Specific color for light theme */\n",
       "  --sklearn-color-text-on-default-background: var(--sg-text-color, var(--theme-code-foreground, var(--jp-content-font-color1, black)));\n",
       "  --sklearn-color-background: var(--sg-background-color, var(--theme-background, var(--jp-layout-color0, white)));\n",
       "  --sklearn-color-border-box: var(--sg-text-color, var(--theme-code-foreground, var(--jp-content-font-color1, black)));\n",
       "  --sklearn-color-icon: #696969;\n",
       "\n",
       "  @media (prefers-color-scheme: dark) {\n",
       "    /* Redefinition of color scheme for dark theme */\n",
       "    --sklearn-color-text-on-default-background: var(--sg-text-color, var(--theme-code-foreground, var(--jp-content-font-color1, white)));\n",
       "    --sklearn-color-background: var(--sg-background-color, var(--theme-background, var(--jp-layout-color0, #111)));\n",
       "    --sklearn-color-border-box: var(--sg-text-color, var(--theme-code-foreground, var(--jp-content-font-color1, white)));\n",
       "    --sklearn-color-icon: #878787;\n",
       "  }\n",
       "}\n",
       "\n",
       "#sk-container-id-2 {\n",
       "  color: var(--sklearn-color-text);\n",
       "}\n",
       "\n",
       "#sk-container-id-2 pre {\n",
       "  padding: 0;\n",
       "}\n",
       "\n",
       "#sk-container-id-2 input.sk-hidden--visually {\n",
       "  border: 0;\n",
       "  clip: rect(1px 1px 1px 1px);\n",
       "  clip: rect(1px, 1px, 1px, 1px);\n",
       "  height: 1px;\n",
       "  margin: -1px;\n",
       "  overflow: hidden;\n",
       "  padding: 0;\n",
       "  position: absolute;\n",
       "  width: 1px;\n",
       "}\n",
       "\n",
       "#sk-container-id-2 div.sk-dashed-wrapped {\n",
       "  border: 1px dashed var(--sklearn-color-line);\n",
       "  margin: 0 0.4em 0.5em 0.4em;\n",
       "  box-sizing: border-box;\n",
       "  padding-bottom: 0.4em;\n",
       "  background-color: var(--sklearn-color-background);\n",
       "}\n",
       "\n",
       "#sk-container-id-2 div.sk-container {\n",
       "  /* jupyter's `normalize.less` sets `[hidden] { display: none; }`\n",
       "     but bootstrap.min.css set `[hidden] { display: none !important; }`\n",
       "     so we also need the `!important` here to be able to override the\n",
       "     default hidden behavior on the sphinx rendered scikit-learn.org.\n",
       "     See: https://github.com/scikit-learn/scikit-learn/issues/21755 */\n",
       "  display: inline-block !important;\n",
       "  position: relative;\n",
       "}\n",
       "\n",
       "#sk-container-id-2 div.sk-text-repr-fallback {\n",
       "  display: none;\n",
       "}\n",
       "\n",
       "div.sk-parallel-item,\n",
       "div.sk-serial,\n",
       "div.sk-item {\n",
       "  /* draw centered vertical line to link estimators */\n",
       "  background-image: linear-gradient(var(--sklearn-color-text-on-default-background), var(--sklearn-color-text-on-default-background));\n",
       "  background-size: 2px 100%;\n",
       "  background-repeat: no-repeat;\n",
       "  background-position: center center;\n",
       "}\n",
       "\n",
       "/* Parallel-specific style estimator block */\n",
       "\n",
       "#sk-container-id-2 div.sk-parallel-item::after {\n",
       "  content: \"\";\n",
       "  width: 100%;\n",
       "  border-bottom: 2px solid var(--sklearn-color-text-on-default-background);\n",
       "  flex-grow: 1;\n",
       "}\n",
       "\n",
       "#sk-container-id-2 div.sk-parallel {\n",
       "  display: flex;\n",
       "  align-items: stretch;\n",
       "  justify-content: center;\n",
       "  background-color: var(--sklearn-color-background);\n",
       "  position: relative;\n",
       "}\n",
       "\n",
       "#sk-container-id-2 div.sk-parallel-item {\n",
       "  display: flex;\n",
       "  flex-direction: column;\n",
       "}\n",
       "\n",
       "#sk-container-id-2 div.sk-parallel-item:first-child::after {\n",
       "  align-self: flex-end;\n",
       "  width: 50%;\n",
       "}\n",
       "\n",
       "#sk-container-id-2 div.sk-parallel-item:last-child::after {\n",
       "  align-self: flex-start;\n",
       "  width: 50%;\n",
       "}\n",
       "\n",
       "#sk-container-id-2 div.sk-parallel-item:only-child::after {\n",
       "  width: 0;\n",
       "}\n",
       "\n",
       "/* Serial-specific style estimator block */\n",
       "\n",
       "#sk-container-id-2 div.sk-serial {\n",
       "  display: flex;\n",
       "  flex-direction: column;\n",
       "  align-items: center;\n",
       "  background-color: var(--sklearn-color-background);\n",
       "  padding-right: 1em;\n",
       "  padding-left: 1em;\n",
       "}\n",
       "\n",
       "\n",
       "/* Toggleable style: style used for estimator/Pipeline/ColumnTransformer box that is\n",
       "clickable and can be expanded/collapsed.\n",
       "- Pipeline and ColumnTransformer use this feature and define the default style\n",
       "- Estimators will overwrite some part of the style using the `sk-estimator` class\n",
       "*/\n",
       "\n",
       "/* Pipeline and ColumnTransformer style (default) */\n",
       "\n",
       "#sk-container-id-2 div.sk-toggleable {\n",
       "  /* Default theme specific background. It is overwritten whether we have a\n",
       "  specific estimator or a Pipeline/ColumnTransformer */\n",
       "  background-color: var(--sklearn-color-background);\n",
       "}\n",
       "\n",
       "/* Toggleable label */\n",
       "#sk-container-id-2 label.sk-toggleable__label {\n",
       "  cursor: pointer;\n",
       "  display: block;\n",
       "  width: 100%;\n",
       "  margin-bottom: 0;\n",
       "  padding: 0.5em;\n",
       "  box-sizing: border-box;\n",
       "  text-align: center;\n",
       "}\n",
       "\n",
       "#sk-container-id-2 label.sk-toggleable__label-arrow:before {\n",
       "  /* Arrow on the left of the label */\n",
       "  content: \"▸\";\n",
       "  float: left;\n",
       "  margin-right: 0.25em;\n",
       "  color: var(--sklearn-color-icon);\n",
       "}\n",
       "\n",
       "#sk-container-id-2 label.sk-toggleable__label-arrow:hover:before {\n",
       "  color: var(--sklearn-color-text);\n",
       "}\n",
       "\n",
       "/* Toggleable content - dropdown */\n",
       "\n",
       "#sk-container-id-2 div.sk-toggleable__content {\n",
       "  max-height: 0;\n",
       "  max-width: 0;\n",
       "  overflow: hidden;\n",
       "  text-align: left;\n",
       "  /* unfitted */\n",
       "  background-color: var(--sklearn-color-unfitted-level-0);\n",
       "}\n",
       "\n",
       "#sk-container-id-2 div.sk-toggleable__content.fitted {\n",
       "  /* fitted */\n",
       "  background-color: var(--sklearn-color-fitted-level-0);\n",
       "}\n",
       "\n",
       "#sk-container-id-2 div.sk-toggleable__content pre {\n",
       "  margin: 0.2em;\n",
       "  border-radius: 0.25em;\n",
       "  color: var(--sklearn-color-text);\n",
       "  /* unfitted */\n",
       "  background-color: var(--sklearn-color-unfitted-level-0);\n",
       "}\n",
       "\n",
       "#sk-container-id-2 div.sk-toggleable__content.fitted pre {\n",
       "  /* unfitted */\n",
       "  background-color: var(--sklearn-color-fitted-level-0);\n",
       "}\n",
       "\n",
       "#sk-container-id-2 input.sk-toggleable__control:checked~div.sk-toggleable__content {\n",
       "  /* Expand drop-down */\n",
       "  max-height: 200px;\n",
       "  max-width: 100%;\n",
       "  overflow: auto;\n",
       "}\n",
       "\n",
       "#sk-container-id-2 input.sk-toggleable__control:checked~label.sk-toggleable__label-arrow:before {\n",
       "  content: \"▾\";\n",
       "}\n",
       "\n",
       "/* Pipeline/ColumnTransformer-specific style */\n",
       "\n",
       "#sk-container-id-2 div.sk-label input.sk-toggleable__control:checked~label.sk-toggleable__label {\n",
       "  color: var(--sklearn-color-text);\n",
       "  background-color: var(--sklearn-color-unfitted-level-2);\n",
       "}\n",
       "\n",
       "#sk-container-id-2 div.sk-label.fitted input.sk-toggleable__control:checked~label.sk-toggleable__label {\n",
       "  background-color: var(--sklearn-color-fitted-level-2);\n",
       "}\n",
       "\n",
       "/* Estimator-specific style */\n",
       "\n",
       "/* Colorize estimator box */\n",
       "#sk-container-id-2 div.sk-estimator input.sk-toggleable__control:checked~label.sk-toggleable__label {\n",
       "  /* unfitted */\n",
       "  background-color: var(--sklearn-color-unfitted-level-2);\n",
       "}\n",
       "\n",
       "#sk-container-id-2 div.sk-estimator.fitted input.sk-toggleable__control:checked~label.sk-toggleable__label {\n",
       "  /* fitted */\n",
       "  background-color: var(--sklearn-color-fitted-level-2);\n",
       "}\n",
       "\n",
       "#sk-container-id-2 div.sk-label label.sk-toggleable__label,\n",
       "#sk-container-id-2 div.sk-label label {\n",
       "  /* The background is the default theme color */\n",
       "  color: var(--sklearn-color-text-on-default-background);\n",
       "}\n",
       "\n",
       "/* On hover, darken the color of the background */\n",
       "#sk-container-id-2 div.sk-label:hover label.sk-toggleable__label {\n",
       "  color: var(--sklearn-color-text);\n",
       "  background-color: var(--sklearn-color-unfitted-level-2);\n",
       "}\n",
       "\n",
       "/* Label box, darken color on hover, fitted */\n",
       "#sk-container-id-2 div.sk-label.fitted:hover label.sk-toggleable__label.fitted {\n",
       "  color: var(--sklearn-color-text);\n",
       "  background-color: var(--sklearn-color-fitted-level-2);\n",
       "}\n",
       "\n",
       "/* Estimator label */\n",
       "\n",
       "#sk-container-id-2 div.sk-label label {\n",
       "  font-family: monospace;\n",
       "  font-weight: bold;\n",
       "  display: inline-block;\n",
       "  line-height: 1.2em;\n",
       "}\n",
       "\n",
       "#sk-container-id-2 div.sk-label-container {\n",
       "  text-align: center;\n",
       "}\n",
       "\n",
       "/* Estimator-specific */\n",
       "#sk-container-id-2 div.sk-estimator {\n",
       "  font-family: monospace;\n",
       "  border: 1px dotted var(--sklearn-color-border-box);\n",
       "  border-radius: 0.25em;\n",
       "  box-sizing: border-box;\n",
       "  margin-bottom: 0.5em;\n",
       "  /* unfitted */\n",
       "  background-color: var(--sklearn-color-unfitted-level-0);\n",
       "}\n",
       "\n",
       "#sk-container-id-2 div.sk-estimator.fitted {\n",
       "  /* fitted */\n",
       "  background-color: var(--sklearn-color-fitted-level-0);\n",
       "}\n",
       "\n",
       "/* on hover */\n",
       "#sk-container-id-2 div.sk-estimator:hover {\n",
       "  /* unfitted */\n",
       "  background-color: var(--sklearn-color-unfitted-level-2);\n",
       "}\n",
       "\n",
       "#sk-container-id-2 div.sk-estimator.fitted:hover {\n",
       "  /* fitted */\n",
       "  background-color: var(--sklearn-color-fitted-level-2);\n",
       "}\n",
       "\n",
       "/* Specification for estimator info (e.g. \"i\" and \"?\") */\n",
       "\n",
       "/* Common style for \"i\" and \"?\" */\n",
       "\n",
       ".sk-estimator-doc-link,\n",
       "a:link.sk-estimator-doc-link,\n",
       "a:visited.sk-estimator-doc-link {\n",
       "  float: right;\n",
       "  font-size: smaller;\n",
       "  line-height: 1em;\n",
       "  font-family: monospace;\n",
       "  background-color: var(--sklearn-color-background);\n",
       "  border-radius: 1em;\n",
       "  height: 1em;\n",
       "  width: 1em;\n",
       "  text-decoration: none !important;\n",
       "  margin-left: 1ex;\n",
       "  /* unfitted */\n",
       "  border: var(--sklearn-color-unfitted-level-1) 1pt solid;\n",
       "  color: var(--sklearn-color-unfitted-level-1);\n",
       "}\n",
       "\n",
       ".sk-estimator-doc-link.fitted,\n",
       "a:link.sk-estimator-doc-link.fitted,\n",
       "a:visited.sk-estimator-doc-link.fitted {\n",
       "  /* fitted */\n",
       "  border: var(--sklearn-color-fitted-level-1) 1pt solid;\n",
       "  color: var(--sklearn-color-fitted-level-1);\n",
       "}\n",
       "\n",
       "/* On hover */\n",
       "div.sk-estimator:hover .sk-estimator-doc-link:hover,\n",
       ".sk-estimator-doc-link:hover,\n",
       "div.sk-label-container:hover .sk-estimator-doc-link:hover,\n",
       ".sk-estimator-doc-link:hover {\n",
       "  /* unfitted */\n",
       "  background-color: var(--sklearn-color-unfitted-level-3);\n",
       "  color: var(--sklearn-color-background);\n",
       "  text-decoration: none;\n",
       "}\n",
       "\n",
       "div.sk-estimator.fitted:hover .sk-estimator-doc-link.fitted:hover,\n",
       ".sk-estimator-doc-link.fitted:hover,\n",
       "div.sk-label-container:hover .sk-estimator-doc-link.fitted:hover,\n",
       ".sk-estimator-doc-link.fitted:hover {\n",
       "  /* fitted */\n",
       "  background-color: var(--sklearn-color-fitted-level-3);\n",
       "  color: var(--sklearn-color-background);\n",
       "  text-decoration: none;\n",
       "}\n",
       "\n",
       "/* Span, style for the box shown on hovering the info icon */\n",
       ".sk-estimator-doc-link span {\n",
       "  display: none;\n",
       "  z-index: 9999;\n",
       "  position: relative;\n",
       "  font-weight: normal;\n",
       "  right: .2ex;\n",
       "  padding: .5ex;\n",
       "  margin: .5ex;\n",
       "  width: min-content;\n",
       "  min-width: 20ex;\n",
       "  max-width: 50ex;\n",
       "  color: var(--sklearn-color-text);\n",
       "  box-shadow: 2pt 2pt 4pt #999;\n",
       "  /* unfitted */\n",
       "  background: var(--sklearn-color-unfitted-level-0);\n",
       "  border: .5pt solid var(--sklearn-color-unfitted-level-3);\n",
       "}\n",
       "\n",
       ".sk-estimator-doc-link.fitted span {\n",
       "  /* fitted */\n",
       "  background: var(--sklearn-color-fitted-level-0);\n",
       "  border: var(--sklearn-color-fitted-level-3);\n",
       "}\n",
       "\n",
       ".sk-estimator-doc-link:hover span {\n",
       "  display: block;\n",
       "}\n",
       "\n",
       "/* \"?\"-specific style due to the `<a>` HTML tag */\n",
       "\n",
       "#sk-container-id-2 a.estimator_doc_link {\n",
       "  float: right;\n",
       "  font-size: 1rem;\n",
       "  line-height: 1em;\n",
       "  font-family: monospace;\n",
       "  background-color: var(--sklearn-color-background);\n",
       "  border-radius: 1rem;\n",
       "  height: 1rem;\n",
       "  width: 1rem;\n",
       "  text-decoration: none;\n",
       "  /* unfitted */\n",
       "  color: var(--sklearn-color-unfitted-level-1);\n",
       "  border: var(--sklearn-color-unfitted-level-1) 1pt solid;\n",
       "}\n",
       "\n",
       "#sk-container-id-2 a.estimator_doc_link.fitted {\n",
       "  /* fitted */\n",
       "  border: var(--sklearn-color-fitted-level-1) 1pt solid;\n",
       "  color: var(--sklearn-color-fitted-level-1);\n",
       "}\n",
       "\n",
       "/* On hover */\n",
       "#sk-container-id-2 a.estimator_doc_link:hover {\n",
       "  /* unfitted */\n",
       "  background-color: var(--sklearn-color-unfitted-level-3);\n",
       "  color: var(--sklearn-color-background);\n",
       "  text-decoration: none;\n",
       "}\n",
       "\n",
       "#sk-container-id-2 a.estimator_doc_link.fitted:hover {\n",
       "  /* fitted */\n",
       "  background-color: var(--sklearn-color-fitted-level-3);\n",
       "}\n",
       "</style><div id=\"sk-container-id-2\" class=\"sk-top-container\"><div class=\"sk-text-repr-fallback\"><pre>LogisticRegression(C=1, penalty=&#x27;l1&#x27;, solver=&#x27;liblinear&#x27;)</pre><b>In a Jupyter environment, please rerun this cell to show the HTML representation or trust the notebook. <br />On GitHub, the HTML representation is unable to render, please try loading this page with nbviewer.org.</b></div><div class=\"sk-container\" hidden><div class=\"sk-item\"><div class=\"sk-estimator fitted sk-toggleable\"><input class=\"sk-toggleable__control sk-hidden--visually\" id=\"sk-estimator-id-2\" type=\"checkbox\" checked><label for=\"sk-estimator-id-2\" class=\"sk-toggleable__label fitted sk-toggleable__label-arrow fitted\">&nbsp;&nbsp;LogisticRegression<a class=\"sk-estimator-doc-link fitted\" rel=\"noreferrer\" target=\"_blank\" href=\"https://scikit-learn.org/1.4/modules/generated/sklearn.linear_model.LogisticRegression.html\">?<span>Documentation for LogisticRegression</span></a><span class=\"sk-estimator-doc-link fitted\">i<span>Fitted</span></span></label><div class=\"sk-toggleable__content fitted\"><pre>LogisticRegression(C=1, penalty=&#x27;l1&#x27;, solver=&#x27;liblinear&#x27;)</pre></div> </div></div></div></div>"
      ],
      "text/plain": [
       "LogisticRegression(C=1, penalty='l1', solver='liblinear')"
      ]
     },
     "execution_count": 226,
     "metadata": {},
     "output_type": "execute_result"
    }
   ],
   "source": [
    "lr_opt.fit(X_train,y_train)"
   ]
  },
  {
   "cell_type": "code",
   "execution_count": 227,
   "id": "b5e50887-2156-4bb0-a395-efec0f59516e",
   "metadata": {},
   "outputs": [],
   "source": [
    "y_pred = lr_opt.predict(X_test)"
   ]
  },
  {
   "cell_type": "code",
   "execution_count": 228,
   "id": "8727a206-f8d0-4c53-a4ac-4ee99084532c",
   "metadata": {},
   "outputs": [],
   "source": [
    "confMatrix=confusion_matrix(y_test, y_pred)"
   ]
  },
  {
   "cell_type": "code",
   "execution_count": 229,
   "id": "7baf2955-23a4-4f4f-8db9-b5ae333777bc",
   "metadata": {},
   "outputs": [
    {
     "name": "stdout",
     "output_type": "stream",
     "text": [
      "\n",
      "Confusion Matrix :\n",
      "       Predicted 0 Predicted 1\n",
      "True 0          65          12\n",
      "True 1          16          16\n"
     ]
    }
   ],
   "source": [
    "confMatrix=pd.DataFrame(confMatrix)\n",
    "confMatrix.columns=[['Predicted 0','Predicted 1']]\n",
    "confMatrix.index=[['True 0','True 1']]\n",
    "print('')\n",
    "print('Confusion Matrix :')\n",
    "print(confMatrix)"
   ]
  },
  {
   "cell_type": "code",
   "execution_count": 230,
   "id": "154abf58-4a83-4743-9a86-a7c39c94f073",
   "metadata": {},
   "outputs": [],
   "source": [
    "lr_opt_accuracy = accuracy_score(y_test, y_pred)\n",
    "lr_opt_recall = recall_score(y_test, y_pred)\n",
    "lr_opt_precision = precision_score(y_test, y_pred)\n",
    "lr_opt_f1 = f1_score(y_test, y_pred)"
   ]
  },
  {
   "cell_type": "code",
   "execution_count": 231,
   "id": "05749830-30ff-432f-ba82-2ecd3c77a53f",
   "metadata": {},
   "outputs": [
    {
     "name": "stdout",
     "output_type": "stream",
     "text": [
      "              precision    recall  f1-score   support\n",
      "\n",
      "           0       0.80      0.84      0.82        77\n",
      "           1       0.57      0.50      0.53        32\n",
      "\n",
      "    accuracy                           0.74       109\n",
      "   macro avg       0.69      0.67      0.68       109\n",
      "weighted avg       0.73      0.74      0.74       109\n",
      "\n"
     ]
    }
   ],
   "source": [
    "print(classification_report(y_test,y_pred))"
   ]
  },
  {
   "cell_type": "code",
   "execution_count": 232,
   "id": "1696cfcf-4447-4494-85fd-4227226ca02f",
   "metadata": {},
   "outputs": [
    {
     "name": "stdout",
     "output_type": "stream",
     "text": [
      "              precision    recall  f1-score   support\n",
      "\n",
      "           0       0.84      0.96      0.90       119\n",
      "           1       0.82      0.52      0.64        44\n",
      "\n",
      "    accuracy                           0.84       163\n",
      "   macro avg       0.83      0.74      0.77       163\n",
      "weighted avg       0.84      0.84      0.83       163\n",
      "\n"
     ]
    }
   ],
   "source": [
    "y_pred_train = lr_opt.predict(X_train)\n",
    "print(classification_report(y_train,y_pred_train))"
   ]
  },
  {
   "cell_type": "code",
   "execution_count": 233,
   "id": "0af236a2-980f-4686-b1df-4d2a709a3fd2",
   "metadata": {},
   "outputs": [],
   "source": [
    "#pip install xgboost"
   ]
  },
  {
   "cell_type": "code",
   "execution_count": 234,
   "id": "8a88b23e-8b2d-4561-9af3-7efb4c65de64",
   "metadata": {},
   "outputs": [],
   "source": [
    "import xgboost as xgb\n",
    "from xgboost import XGBClassifier"
   ]
  },
  {
   "cell_type": "code",
   "execution_count": 235,
   "id": "73377775-3874-4ce6-8b3e-d2391107d5ea",
   "metadata": {},
   "outputs": [],
   "source": [
    "X = df.drop('premium_sub_willingness',axis=1)\n",
    "y = df['premium_sub_willingness']"
   ]
  },
  {
   "cell_type": "code",
   "execution_count": 236,
   "id": "052e0471-43b5-4b2c-8aeb-201e395f7c1e",
   "metadata": {},
   "outputs": [],
   "source": [
    "vars_to_drop = ['preffered_premium_plan', 'spotify_subscription_plan', 'fav_pod_miss_data', \n",
    "                'gender_male', 'gender_others']\n",
    "X.drop(columns=vars_to_drop, inplace=True)"
   ]
  },
  {
   "cell_type": "code",
   "execution_count": 237,
   "id": "47b37f80-3e3a-4570-b9f1-50a272c47a0d",
   "metadata": {},
   "outputs": [],
   "source": [
    "X_train, X_test, y_train, y_test = train_test_split(X, y, test_size=0.3, random_state = 99)"
   ]
  },
  {
   "cell_type": "code",
   "execution_count": 238,
   "id": "e0620d9d-6a32-4724-86cd-526ffe1af473",
   "metadata": {},
   "outputs": [],
   "source": [
    "from sklearn.feature_selection import RFE\n",
    "from xgboost import XGBClassifier\n",
    "\n",
    "xgb = XGBClassifier(objective='binary:logistic')\n",
    "\n",
    "rfe = RFE(estimator=xgb, n_features_to_select=4)\n",
    "\n",
    "rfe.fit(X_train, y_train)\n",
    "\n",
    "selected_features = X_train.columns[rfe.support_]"
   ]
  },
  {
   "cell_type": "code",
   "execution_count": 239,
   "id": "5bb130b0-9af3-4d4b-b62f-9fce79581b80",
   "metadata": {},
   "outputs": [
    {
     "data": {
      "text/plain": [
       "Index(['fav_music_rap', 'mood_relaxation', 'mood_sad', 'pref_pod_dur_shorter'], dtype='object')"
      ]
     },
     "execution_count": 239,
     "metadata": {},
     "output_type": "execute_result"
    }
   ],
   "source": [
    "selected_features"
   ]
  },
  {
   "cell_type": "code",
   "execution_count": 240,
   "id": "541d429b-72c6-4496-b0fe-bd80bad0843c",
   "metadata": {},
   "outputs": [],
   "source": [
    "X_train = X_train[selected_features]"
   ]
  },
  {
   "cell_type": "code",
   "execution_count": 241,
   "id": "a7005631-2911-43e9-9ca7-6bee8966ec5c",
   "metadata": {},
   "outputs": [],
   "source": [
    "X_test = X_test[selected_features]"
   ]
  },
  {
   "cell_type": "code",
   "execution_count": 242,
   "id": "f1ac0c6a-12f2-4c97-8571-37aeb92cabcd",
   "metadata": {},
   "outputs": [],
   "source": [
    "xgb = XGBClassifier(objective= 'binary:logistic', random_state=123)"
   ]
  },
  {
   "cell_type": "code",
   "execution_count": 243,
   "id": "3c6fd04b-bffd-4175-8a97-92ec0ab7bae7",
   "metadata": {},
   "outputs": [
    {
     "data": {
      "text/html": [
       "<style>#sk-container-id-3 {\n",
       "  /* Definition of color scheme common for light and dark mode */\n",
       "  --sklearn-color-text: black;\n",
       "  --sklearn-color-line: gray;\n",
       "  /* Definition of color scheme for unfitted estimators */\n",
       "  --sklearn-color-unfitted-level-0: #fff5e6;\n",
       "  --sklearn-color-unfitted-level-1: #f6e4d2;\n",
       "  --sklearn-color-unfitted-level-2: #ffe0b3;\n",
       "  --sklearn-color-unfitted-level-3: chocolate;\n",
       "  /* Definition of color scheme for fitted estimators */\n",
       "  --sklearn-color-fitted-level-0: #f0f8ff;\n",
       "  --sklearn-color-fitted-level-1: #d4ebff;\n",
       "  --sklearn-color-fitted-level-2: #b3dbfd;\n",
       "  --sklearn-color-fitted-level-3: cornflowerblue;\n",
       "\n",
       "  /* Specific color for light theme */\n",
       "  --sklearn-color-text-on-default-background: var(--sg-text-color, var(--theme-code-foreground, var(--jp-content-font-color1, black)));\n",
       "  --sklearn-color-background: var(--sg-background-color, var(--theme-background, var(--jp-layout-color0, white)));\n",
       "  --sklearn-color-border-box: var(--sg-text-color, var(--theme-code-foreground, var(--jp-content-font-color1, black)));\n",
       "  --sklearn-color-icon: #696969;\n",
       "\n",
       "  @media (prefers-color-scheme: dark) {\n",
       "    /* Redefinition of color scheme for dark theme */\n",
       "    --sklearn-color-text-on-default-background: var(--sg-text-color, var(--theme-code-foreground, var(--jp-content-font-color1, white)));\n",
       "    --sklearn-color-background: var(--sg-background-color, var(--theme-background, var(--jp-layout-color0, #111)));\n",
       "    --sklearn-color-border-box: var(--sg-text-color, var(--theme-code-foreground, var(--jp-content-font-color1, white)));\n",
       "    --sklearn-color-icon: #878787;\n",
       "  }\n",
       "}\n",
       "\n",
       "#sk-container-id-3 {\n",
       "  color: var(--sklearn-color-text);\n",
       "}\n",
       "\n",
       "#sk-container-id-3 pre {\n",
       "  padding: 0;\n",
       "}\n",
       "\n",
       "#sk-container-id-3 input.sk-hidden--visually {\n",
       "  border: 0;\n",
       "  clip: rect(1px 1px 1px 1px);\n",
       "  clip: rect(1px, 1px, 1px, 1px);\n",
       "  height: 1px;\n",
       "  margin: -1px;\n",
       "  overflow: hidden;\n",
       "  padding: 0;\n",
       "  position: absolute;\n",
       "  width: 1px;\n",
       "}\n",
       "\n",
       "#sk-container-id-3 div.sk-dashed-wrapped {\n",
       "  border: 1px dashed var(--sklearn-color-line);\n",
       "  margin: 0 0.4em 0.5em 0.4em;\n",
       "  box-sizing: border-box;\n",
       "  padding-bottom: 0.4em;\n",
       "  background-color: var(--sklearn-color-background);\n",
       "}\n",
       "\n",
       "#sk-container-id-3 div.sk-container {\n",
       "  /* jupyter's `normalize.less` sets `[hidden] { display: none; }`\n",
       "     but bootstrap.min.css set `[hidden] { display: none !important; }`\n",
       "     so we also need the `!important` here to be able to override the\n",
       "     default hidden behavior on the sphinx rendered scikit-learn.org.\n",
       "     See: https://github.com/scikit-learn/scikit-learn/issues/21755 */\n",
       "  display: inline-block !important;\n",
       "  position: relative;\n",
       "}\n",
       "\n",
       "#sk-container-id-3 div.sk-text-repr-fallback {\n",
       "  display: none;\n",
       "}\n",
       "\n",
       "div.sk-parallel-item,\n",
       "div.sk-serial,\n",
       "div.sk-item {\n",
       "  /* draw centered vertical line to link estimators */\n",
       "  background-image: linear-gradient(var(--sklearn-color-text-on-default-background), var(--sklearn-color-text-on-default-background));\n",
       "  background-size: 2px 100%;\n",
       "  background-repeat: no-repeat;\n",
       "  background-position: center center;\n",
       "}\n",
       "\n",
       "/* Parallel-specific style estimator block */\n",
       "\n",
       "#sk-container-id-3 div.sk-parallel-item::after {\n",
       "  content: \"\";\n",
       "  width: 100%;\n",
       "  border-bottom: 2px solid var(--sklearn-color-text-on-default-background);\n",
       "  flex-grow: 1;\n",
       "}\n",
       "\n",
       "#sk-container-id-3 div.sk-parallel {\n",
       "  display: flex;\n",
       "  align-items: stretch;\n",
       "  justify-content: center;\n",
       "  background-color: var(--sklearn-color-background);\n",
       "  position: relative;\n",
       "}\n",
       "\n",
       "#sk-container-id-3 div.sk-parallel-item {\n",
       "  display: flex;\n",
       "  flex-direction: column;\n",
       "}\n",
       "\n",
       "#sk-container-id-3 div.sk-parallel-item:first-child::after {\n",
       "  align-self: flex-end;\n",
       "  width: 50%;\n",
       "}\n",
       "\n",
       "#sk-container-id-3 div.sk-parallel-item:last-child::after {\n",
       "  align-self: flex-start;\n",
       "  width: 50%;\n",
       "}\n",
       "\n",
       "#sk-container-id-3 div.sk-parallel-item:only-child::after {\n",
       "  width: 0;\n",
       "}\n",
       "\n",
       "/* Serial-specific style estimator block */\n",
       "\n",
       "#sk-container-id-3 div.sk-serial {\n",
       "  display: flex;\n",
       "  flex-direction: column;\n",
       "  align-items: center;\n",
       "  background-color: var(--sklearn-color-background);\n",
       "  padding-right: 1em;\n",
       "  padding-left: 1em;\n",
       "}\n",
       "\n",
       "\n",
       "/* Toggleable style: style used for estimator/Pipeline/ColumnTransformer box that is\n",
       "clickable and can be expanded/collapsed.\n",
       "- Pipeline and ColumnTransformer use this feature and define the default style\n",
       "- Estimators will overwrite some part of the style using the `sk-estimator` class\n",
       "*/\n",
       "\n",
       "/* Pipeline and ColumnTransformer style (default) */\n",
       "\n",
       "#sk-container-id-3 div.sk-toggleable {\n",
       "  /* Default theme specific background. It is overwritten whether we have a\n",
       "  specific estimator or a Pipeline/ColumnTransformer */\n",
       "  background-color: var(--sklearn-color-background);\n",
       "}\n",
       "\n",
       "/* Toggleable label */\n",
       "#sk-container-id-3 label.sk-toggleable__label {\n",
       "  cursor: pointer;\n",
       "  display: block;\n",
       "  width: 100%;\n",
       "  margin-bottom: 0;\n",
       "  padding: 0.5em;\n",
       "  box-sizing: border-box;\n",
       "  text-align: center;\n",
       "}\n",
       "\n",
       "#sk-container-id-3 label.sk-toggleable__label-arrow:before {\n",
       "  /* Arrow on the left of the label */\n",
       "  content: \"▸\";\n",
       "  float: left;\n",
       "  margin-right: 0.25em;\n",
       "  color: var(--sklearn-color-icon);\n",
       "}\n",
       "\n",
       "#sk-container-id-3 label.sk-toggleable__label-arrow:hover:before {\n",
       "  color: var(--sklearn-color-text);\n",
       "}\n",
       "\n",
       "/* Toggleable content - dropdown */\n",
       "\n",
       "#sk-container-id-3 div.sk-toggleable__content {\n",
       "  max-height: 0;\n",
       "  max-width: 0;\n",
       "  overflow: hidden;\n",
       "  text-align: left;\n",
       "  /* unfitted */\n",
       "  background-color: var(--sklearn-color-unfitted-level-0);\n",
       "}\n",
       "\n",
       "#sk-container-id-3 div.sk-toggleable__content.fitted {\n",
       "  /* fitted */\n",
       "  background-color: var(--sklearn-color-fitted-level-0);\n",
       "}\n",
       "\n",
       "#sk-container-id-3 div.sk-toggleable__content pre {\n",
       "  margin: 0.2em;\n",
       "  border-radius: 0.25em;\n",
       "  color: var(--sklearn-color-text);\n",
       "  /* unfitted */\n",
       "  background-color: var(--sklearn-color-unfitted-level-0);\n",
       "}\n",
       "\n",
       "#sk-container-id-3 div.sk-toggleable__content.fitted pre {\n",
       "  /* unfitted */\n",
       "  background-color: var(--sklearn-color-fitted-level-0);\n",
       "}\n",
       "\n",
       "#sk-container-id-3 input.sk-toggleable__control:checked~div.sk-toggleable__content {\n",
       "  /* Expand drop-down */\n",
       "  max-height: 200px;\n",
       "  max-width: 100%;\n",
       "  overflow: auto;\n",
       "}\n",
       "\n",
       "#sk-container-id-3 input.sk-toggleable__control:checked~label.sk-toggleable__label-arrow:before {\n",
       "  content: \"▾\";\n",
       "}\n",
       "\n",
       "/* Pipeline/ColumnTransformer-specific style */\n",
       "\n",
       "#sk-container-id-3 div.sk-label input.sk-toggleable__control:checked~label.sk-toggleable__label {\n",
       "  color: var(--sklearn-color-text);\n",
       "  background-color: var(--sklearn-color-unfitted-level-2);\n",
       "}\n",
       "\n",
       "#sk-container-id-3 div.sk-label.fitted input.sk-toggleable__control:checked~label.sk-toggleable__label {\n",
       "  background-color: var(--sklearn-color-fitted-level-2);\n",
       "}\n",
       "\n",
       "/* Estimator-specific style */\n",
       "\n",
       "/* Colorize estimator box */\n",
       "#sk-container-id-3 div.sk-estimator input.sk-toggleable__control:checked~label.sk-toggleable__label {\n",
       "  /* unfitted */\n",
       "  background-color: var(--sklearn-color-unfitted-level-2);\n",
       "}\n",
       "\n",
       "#sk-container-id-3 div.sk-estimator.fitted input.sk-toggleable__control:checked~label.sk-toggleable__label {\n",
       "  /* fitted */\n",
       "  background-color: var(--sklearn-color-fitted-level-2);\n",
       "}\n",
       "\n",
       "#sk-container-id-3 div.sk-label label.sk-toggleable__label,\n",
       "#sk-container-id-3 div.sk-label label {\n",
       "  /* The background is the default theme color */\n",
       "  color: var(--sklearn-color-text-on-default-background);\n",
       "}\n",
       "\n",
       "/* On hover, darken the color of the background */\n",
       "#sk-container-id-3 div.sk-label:hover label.sk-toggleable__label {\n",
       "  color: var(--sklearn-color-text);\n",
       "  background-color: var(--sklearn-color-unfitted-level-2);\n",
       "}\n",
       "\n",
       "/* Label box, darken color on hover, fitted */\n",
       "#sk-container-id-3 div.sk-label.fitted:hover label.sk-toggleable__label.fitted {\n",
       "  color: var(--sklearn-color-text);\n",
       "  background-color: var(--sklearn-color-fitted-level-2);\n",
       "}\n",
       "\n",
       "/* Estimator label */\n",
       "\n",
       "#sk-container-id-3 div.sk-label label {\n",
       "  font-family: monospace;\n",
       "  font-weight: bold;\n",
       "  display: inline-block;\n",
       "  line-height: 1.2em;\n",
       "}\n",
       "\n",
       "#sk-container-id-3 div.sk-label-container {\n",
       "  text-align: center;\n",
       "}\n",
       "\n",
       "/* Estimator-specific */\n",
       "#sk-container-id-3 div.sk-estimator {\n",
       "  font-family: monospace;\n",
       "  border: 1px dotted var(--sklearn-color-border-box);\n",
       "  border-radius: 0.25em;\n",
       "  box-sizing: border-box;\n",
       "  margin-bottom: 0.5em;\n",
       "  /* unfitted */\n",
       "  background-color: var(--sklearn-color-unfitted-level-0);\n",
       "}\n",
       "\n",
       "#sk-container-id-3 div.sk-estimator.fitted {\n",
       "  /* fitted */\n",
       "  background-color: var(--sklearn-color-fitted-level-0);\n",
       "}\n",
       "\n",
       "/* on hover */\n",
       "#sk-container-id-3 div.sk-estimator:hover {\n",
       "  /* unfitted */\n",
       "  background-color: var(--sklearn-color-unfitted-level-2);\n",
       "}\n",
       "\n",
       "#sk-container-id-3 div.sk-estimator.fitted:hover {\n",
       "  /* fitted */\n",
       "  background-color: var(--sklearn-color-fitted-level-2);\n",
       "}\n",
       "\n",
       "/* Specification for estimator info (e.g. \"i\" and \"?\") */\n",
       "\n",
       "/* Common style for \"i\" and \"?\" */\n",
       "\n",
       ".sk-estimator-doc-link,\n",
       "a:link.sk-estimator-doc-link,\n",
       "a:visited.sk-estimator-doc-link {\n",
       "  float: right;\n",
       "  font-size: smaller;\n",
       "  line-height: 1em;\n",
       "  font-family: monospace;\n",
       "  background-color: var(--sklearn-color-background);\n",
       "  border-radius: 1em;\n",
       "  height: 1em;\n",
       "  width: 1em;\n",
       "  text-decoration: none !important;\n",
       "  margin-left: 1ex;\n",
       "  /* unfitted */\n",
       "  border: var(--sklearn-color-unfitted-level-1) 1pt solid;\n",
       "  color: var(--sklearn-color-unfitted-level-1);\n",
       "}\n",
       "\n",
       ".sk-estimator-doc-link.fitted,\n",
       "a:link.sk-estimator-doc-link.fitted,\n",
       "a:visited.sk-estimator-doc-link.fitted {\n",
       "  /* fitted */\n",
       "  border: var(--sklearn-color-fitted-level-1) 1pt solid;\n",
       "  color: var(--sklearn-color-fitted-level-1);\n",
       "}\n",
       "\n",
       "/* On hover */\n",
       "div.sk-estimator:hover .sk-estimator-doc-link:hover,\n",
       ".sk-estimator-doc-link:hover,\n",
       "div.sk-label-container:hover .sk-estimator-doc-link:hover,\n",
       ".sk-estimator-doc-link:hover {\n",
       "  /* unfitted */\n",
       "  background-color: var(--sklearn-color-unfitted-level-3);\n",
       "  color: var(--sklearn-color-background);\n",
       "  text-decoration: none;\n",
       "}\n",
       "\n",
       "div.sk-estimator.fitted:hover .sk-estimator-doc-link.fitted:hover,\n",
       ".sk-estimator-doc-link.fitted:hover,\n",
       "div.sk-label-container:hover .sk-estimator-doc-link.fitted:hover,\n",
       ".sk-estimator-doc-link.fitted:hover {\n",
       "  /* fitted */\n",
       "  background-color: var(--sklearn-color-fitted-level-3);\n",
       "  color: var(--sklearn-color-background);\n",
       "  text-decoration: none;\n",
       "}\n",
       "\n",
       "/* Span, style for the box shown on hovering the info icon */\n",
       ".sk-estimator-doc-link span {\n",
       "  display: none;\n",
       "  z-index: 9999;\n",
       "  position: relative;\n",
       "  font-weight: normal;\n",
       "  right: .2ex;\n",
       "  padding: .5ex;\n",
       "  margin: .5ex;\n",
       "  width: min-content;\n",
       "  min-width: 20ex;\n",
       "  max-width: 50ex;\n",
       "  color: var(--sklearn-color-text);\n",
       "  box-shadow: 2pt 2pt 4pt #999;\n",
       "  /* unfitted */\n",
       "  background: var(--sklearn-color-unfitted-level-0);\n",
       "  border: .5pt solid var(--sklearn-color-unfitted-level-3);\n",
       "}\n",
       "\n",
       ".sk-estimator-doc-link.fitted span {\n",
       "  /* fitted */\n",
       "  background: var(--sklearn-color-fitted-level-0);\n",
       "  border: var(--sklearn-color-fitted-level-3);\n",
       "}\n",
       "\n",
       ".sk-estimator-doc-link:hover span {\n",
       "  display: block;\n",
       "}\n",
       "\n",
       "/* \"?\"-specific style due to the `<a>` HTML tag */\n",
       "\n",
       "#sk-container-id-3 a.estimator_doc_link {\n",
       "  float: right;\n",
       "  font-size: 1rem;\n",
       "  line-height: 1em;\n",
       "  font-family: monospace;\n",
       "  background-color: var(--sklearn-color-background);\n",
       "  border-radius: 1rem;\n",
       "  height: 1rem;\n",
       "  width: 1rem;\n",
       "  text-decoration: none;\n",
       "  /* unfitted */\n",
       "  color: var(--sklearn-color-unfitted-level-1);\n",
       "  border: var(--sklearn-color-unfitted-level-1) 1pt solid;\n",
       "}\n",
       "\n",
       "#sk-container-id-3 a.estimator_doc_link.fitted {\n",
       "  /* fitted */\n",
       "  border: var(--sklearn-color-fitted-level-1) 1pt solid;\n",
       "  color: var(--sklearn-color-fitted-level-1);\n",
       "}\n",
       "\n",
       "/* On hover */\n",
       "#sk-container-id-3 a.estimator_doc_link:hover {\n",
       "  /* unfitted */\n",
       "  background-color: var(--sklearn-color-unfitted-level-3);\n",
       "  color: var(--sklearn-color-background);\n",
       "  text-decoration: none;\n",
       "}\n",
       "\n",
       "#sk-container-id-3 a.estimator_doc_link.fitted:hover {\n",
       "  /* fitted */\n",
       "  background-color: var(--sklearn-color-fitted-level-3);\n",
       "}\n",
       "</style><div id=\"sk-container-id-3\" class=\"sk-top-container\"><div class=\"sk-text-repr-fallback\"><pre>XGBClassifier(base_score=None, booster=None, callbacks=None,\n",
       "              colsample_bylevel=None, colsample_bynode=None,\n",
       "              colsample_bytree=None, device=None, early_stopping_rounds=None,\n",
       "              enable_categorical=False, eval_metric=None, feature_types=None,\n",
       "              gamma=None, grow_policy=None, importance_type=None,\n",
       "              interaction_constraints=None, learning_rate=None, max_bin=None,\n",
       "              max_cat_threshold=None, max_cat_to_onehot=None,\n",
       "              max_delta_step=None, max_depth=None, max_leaves=None,\n",
       "              min_child_weight=None, missing=nan, monotone_constraints=None,\n",
       "              multi_strategy=None, n_estimators=None, n_jobs=None,\n",
       "              num_parallel_tree=None, random_state=123, ...)</pre><b>In a Jupyter environment, please rerun this cell to show the HTML representation or trust the notebook. <br />On GitHub, the HTML representation is unable to render, please try loading this page with nbviewer.org.</b></div><div class=\"sk-container\" hidden><div class=\"sk-item\"><div class=\"sk-estimator fitted sk-toggleable\"><input class=\"sk-toggleable__control sk-hidden--visually\" id=\"sk-estimator-id-3\" type=\"checkbox\" checked><label for=\"sk-estimator-id-3\" class=\"sk-toggleable__label fitted sk-toggleable__label-arrow fitted\">&nbsp;XGBClassifier<span class=\"sk-estimator-doc-link fitted\">i<span>Fitted</span></span></label><div class=\"sk-toggleable__content fitted\"><pre>XGBClassifier(base_score=None, booster=None, callbacks=None,\n",
       "              colsample_bylevel=None, colsample_bynode=None,\n",
       "              colsample_bytree=None, device=None, early_stopping_rounds=None,\n",
       "              enable_categorical=False, eval_metric=None, feature_types=None,\n",
       "              gamma=None, grow_policy=None, importance_type=None,\n",
       "              interaction_constraints=None, learning_rate=None, max_bin=None,\n",
       "              max_cat_threshold=None, max_cat_to_onehot=None,\n",
       "              max_delta_step=None, max_depth=None, max_leaves=None,\n",
       "              min_child_weight=None, missing=nan, monotone_constraints=None,\n",
       "              multi_strategy=None, n_estimators=None, n_jobs=None,\n",
       "              num_parallel_tree=None, random_state=123, ...)</pre></div> </div></div></div></div>"
      ],
      "text/plain": [
       "XGBClassifier(base_score=None, booster=None, callbacks=None,\n",
       "              colsample_bylevel=None, colsample_bynode=None,\n",
       "              colsample_bytree=None, device=None, early_stopping_rounds=None,\n",
       "              enable_categorical=False, eval_metric=None, feature_types=None,\n",
       "              gamma=None, grow_policy=None, importance_type=None,\n",
       "              interaction_constraints=None, learning_rate=None, max_bin=None,\n",
       "              max_cat_threshold=None, max_cat_to_onehot=None,\n",
       "              max_delta_step=None, max_depth=None, max_leaves=None,\n",
       "              min_child_weight=None, missing=nan, monotone_constraints=None,\n",
       "              multi_strategy=None, n_estimators=None, n_jobs=None,\n",
       "              num_parallel_tree=None, random_state=123, ...)"
      ]
     },
     "execution_count": 243,
     "metadata": {},
     "output_type": "execute_result"
    }
   ],
   "source": [
    "xgb.fit(X_train, y_train)"
   ]
  },
  {
   "cell_type": "code",
   "execution_count": 244,
   "id": "c214a917-8f9e-40a3-b847-2c66e287c81c",
   "metadata": {},
   "outputs": [],
   "source": [
    "y_pred = xgb.predict(X_test)"
   ]
  },
  {
   "cell_type": "code",
   "execution_count": 245,
   "id": "b119ead4-307f-4517-a8e7-8ff2e4a69ae9",
   "metadata": {},
   "outputs": [],
   "source": [
    "confMatrix=confusion_matrix(y_test, y_pred)"
   ]
  },
  {
   "cell_type": "code",
   "execution_count": 246,
   "id": "ef8495a6-9b86-47ea-b795-5f4756747283",
   "metadata": {},
   "outputs": [
    {
     "name": "stdout",
     "output_type": "stream",
     "text": [
      "\n",
      "Confusion Matrix :\n",
      "       Predicted 0 Predicted 1\n",
      "True 0          46          12\n",
      "True 1          15           9\n"
     ]
    }
   ],
   "source": [
    "confMatrix=pd.DataFrame(confMatrix)\n",
    "confMatrix.columns=[['Predicted 0','Predicted 1']]\n",
    "confMatrix.index=[['True 0','True 1']]\n",
    "print('')\n",
    "print('Confusion Matrix :')\n",
    "print(confMatrix)"
   ]
  },
  {
   "cell_type": "code",
   "execution_count": 247,
   "id": "669202d6-f4b6-42a7-8607-40f2d7b5b3b2",
   "metadata": {},
   "outputs": [],
   "source": [
    "xgb_recall = recall_score(y_test, y_pred)\n",
    "xgb_precision = precision_score(y_test, y_pred)\n",
    "xgb_f1 = f1_score(y_test, y_pred)\n",
    "xgb_accuracy = accuracy_score(y_test, y_pred)"
   ]
  },
  {
   "cell_type": "code",
   "execution_count": 248,
   "id": "d1292658-48f8-4c50-9f93-9db1eeb3f6c6",
   "metadata": {},
   "outputs": [
    {
     "name": "stdout",
     "output_type": "stream",
     "text": [
      "              precision    recall  f1-score   support\n",
      "\n",
      "           0       0.75      0.79      0.77        58\n",
      "           1       0.43      0.38      0.40        24\n",
      "\n",
      "    accuracy                           0.67        82\n",
      "   macro avg       0.59      0.58      0.59        82\n",
      "weighted avg       0.66      0.67      0.66        82\n",
      "\n"
     ]
    }
   ],
   "source": [
    "print(classification_report(y_test, y_pred))"
   ]
  },
  {
   "cell_type": "code",
   "execution_count": 249,
   "id": "18910a31-7037-4b8f-b024-5188bd83d2d4",
   "metadata": {},
   "outputs": [],
   "source": [
    "y_pred_train = xgb.predict(X_train)"
   ]
  },
  {
   "cell_type": "code",
   "execution_count": 250,
   "id": "53d405ff-cf7f-4a63-9e23-2c341185de93",
   "metadata": {},
   "outputs": [
    {
     "name": "stdout",
     "output_type": "stream",
     "text": [
      "              precision    recall  f1-score   support\n",
      "\n",
      "           0       0.87      0.90      0.89       138\n",
      "           1       0.71      0.65      0.68        52\n",
      "\n",
      "    accuracy                           0.83       190\n",
      "   macro avg       0.79      0.78      0.78       190\n",
      "weighted avg       0.83      0.83      0.83       190\n",
      "\n"
     ]
    }
   ],
   "source": [
    "print(classification_report(y_train, y_pred_train))"
   ]
  },
  {
   "cell_type": "code",
   "execution_count": 251,
   "id": "263e7ac3-c733-41f8-9f95-0d76d29892a1",
   "metadata": {},
   "outputs": [],
   "source": [
    "from sklearn.feature_selection import RFE\n",
    "from xgboost import XGBClassifier\n",
    "\n",
    "xgb = XGBClassifier(objective='binary:logistic')\n",
    "\n",
    "rfe = RFE(estimator=xgb, n_features_to_select=19)\n",
    "\n",
    "rfe.fit(X, y)\n",
    "\n",
    "selected_features = X.columns[rfe.support_]"
   ]
  },
  {
   "cell_type": "code",
   "execution_count": 252,
   "id": "c55d0cf7-08e2-4cc6-999a-0c3e984988b8",
   "metadata": {},
   "outputs": [],
   "source": [
    "X = X[selected_features]"
   ]
  },
  {
   "cell_type": "code",
   "execution_count": 253,
   "id": "89e7f57d-9937-4b66-b514-522a547ef51d",
   "metadata": {},
   "outputs": [
    {
     "name": "stdout",
     "output_type": "stream",
     "text": [
      "Mean accuracy: 0.77993\n",
      "Mean precision: 0.62165\n",
      "Mean recall: 0.58333\n",
      "Mean f1: 0.56889\n",
      "Mean roc_auc: 0.78706\n",
      "Best parameters found:  {'colsample_bytree': 0.8537405378805455, 'gamma': 0.3403527257773834, 'learning_rate': 0.01, 'max_depth': 6, 'min_child_weight': 6, 'n_estimators': 117, 'reg_alpha': 0.1, 'subsample': 0.7478617824245618}\n"
     ]
    }
   ],
   "source": [
    "from sklearn.model_selection import RandomizedSearchCV\n",
    "from scipy.stats import randint, uniform\n",
    "from xgboost import XGBClassifier\n",
    "\n",
    "xgb = XGBClassifier(objective='binary:logistic')\n",
    "\n",
    "params = {\n",
    "    'max_depth': randint(3, 10),\n",
    "    'min_child_weight': randint(1, 10),\n",
    "    'gamma': uniform(0, 0.5),\n",
    "    'subsample': uniform(0.6, 0.4),\n",
    "    'colsample_bytree': uniform(0.6, 0.4),\n",
    "    'reg_alpha': [1e-5, 1e-2, 0.1, 1, 100],\n",
    "    'n_estimators': randint(50, 200),\n",
    "    'learning_rate': [0.01, 0.1, 0.2, 0.3]\n",
    "}\n",
    "\n",
    "random_search = RandomizedSearchCV(estimator=xgb,\n",
    "                                   param_distributions=params,\n",
    "                                   cv=5, \n",
    "                                   n_iter=100, \n",
    "                                   scoring='roc_auc', \n",
    "                                   n_jobs=-1, \n",
    "                                   random_state=42)\n",
    "\n",
    "from xgboost import XGBClassifier\n",
    "from sklearn.ensemble import BaggingClassifier\n",
    "from sklearn.model_selection import cross_validate\n",
    "from sklearn.metrics import accuracy_score, precision_score, recall_score, f1_score, roc_auc_score\n",
    "import numpy as np\n",
    "\n",
    "base_model = XGBClassifier()\n",
    "\n",
    "bagging_model = BaggingClassifier(base_model, n_estimators=10, random_state=42)\n",
    "\n",
    "scoring = ['accuracy', 'precision', 'recall', 'f1', 'roc_auc']\n",
    "scores_bagging = cross_validate(bagging_model, X, y, scoring=scoring, cv=5, n_jobs=-1)\n",
    "\n",
    "for metric in scoring:\n",
    "    print(f\"Mean {metric}: {np.mean(scores_bagging['test_' + metric]):.5f}\")\n",
    "random_search.fit(X, y)\n",
    "\n",
    "print(\"Best parameters found: \", random_search.best_params_)"
   ]
  },
  {
   "cell_type": "code",
   "execution_count": 254,
   "id": "e37d6ae6-fd19-4e0b-b899-f8269e122f81",
   "metadata": {},
   "outputs": [],
   "source": [
    "from sklearn.model_selection import cross_validate\n",
    "\n",
    "scores_xgb_opt = cross_validate(xgb,\n",
    "                                X,\n",
    "                                y,\n",
    "                                scoring=['precision', 'recall', 'accuracy', 'roc_auc', 'f1'],\n",
    "                                cv=5,\n",
    "                                n_jobs=-1)"
   ]
  },
  {
   "cell_type": "code",
   "execution_count": 255,
   "id": "af8537c6-cb93-463e-9f84-4626f144c2ee",
   "metadata": {},
   "outputs": [],
   "source": [
    "results2 = pd.DataFrame({\n",
    "    'model': ['XGB cross-val'], \n",
    "    'accuracy': [scores_xgb_opt['test_accuracy'].mean()],\n",
    "    'precision': [scores_xgb_opt['test_precision'].mean()],\n",
    "    'recall': [scores_xgb_opt['test_recall'].mean()],\n",
    "    'f1-score': [scores_xgb_opt['test_f1'].mean()],\n",
    "    'auc': [scores_xgb_opt['test_roc_auc'].mean()]\n",
    "    })"
   ]
  },
  {
   "cell_type": "code",
   "execution_count": 262,
   "id": "3a1a4d19-97f9-4f9e-8b72-ba8c5450be29",
   "metadata": {},
   "outputs": [
    {
     "data": {
      "text/html": [
       "<div>\n",
       "<style scoped>\n",
       "    .dataframe tbody tr th:only-of-type {\n",
       "        vertical-align: middle;\n",
       "    }\n",
       "\n",
       "    .dataframe tbody tr th {\n",
       "        vertical-align: top;\n",
       "    }\n",
       "\n",
       "    .dataframe thead th {\n",
       "        text-align: right;\n",
       "    }\n",
       "</style>\n",
       "<table border=\"1\" class=\"dataframe\">\n",
       "  <thead>\n",
       "    <tr style=\"text-align: right;\">\n",
       "      <th></th>\n",
       "      <th>model</th>\n",
       "      <th>accuracy</th>\n",
       "      <th>precision</th>\n",
       "      <th>recall</th>\n",
       "      <th>f1-score</th>\n",
       "      <th>auc</th>\n",
       "    </tr>\n",
       "  </thead>\n",
       "  <tbody>\n",
       "    <tr>\n",
       "      <th>0</th>\n",
       "      <td>XGB cross-val</td>\n",
       "      <td>0.761279</td>\n",
       "      <td>0.598726</td>\n",
       "      <td>0.5825</td>\n",
       "      <td>0.558812</td>\n",
       "      <td>0.776726</td>\n",
       "    </tr>\n",
       "  </tbody>\n",
       "</table>\n",
       "</div>"
      ],
      "text/plain": [
       "           model  accuracy  precision  recall  f1-score       auc\n",
       "0  XGB cross-val  0.761279   0.598726  0.5825  0.558812  0.776726"
      ]
     },
     "execution_count": 262,
     "metadata": {},
     "output_type": "execute_result"
    }
   ],
   "source": [
    "results2"
   ]
  },
  {
   "cell_type": "code",
   "execution_count": 256,
   "id": "f853532c-bfdc-4e4d-865c-da83c978ea0c",
   "metadata": {
    "scrolled": true
   },
   "outputs": [
    {
     "name": "stdout",
     "output_type": "stream",
     "text": [
      "Mean accuracy: 0.77993\n",
      "Mean precision: 0.62165\n",
      "Mean recall: 0.58333\n",
      "Mean f1: 0.56889\n",
      "Mean roc_auc: 0.78706\n"
     ]
    }
   ],
   "source": [
    "from xgboost import XGBClassifier\n",
    "from sklearn.ensemble import BaggingClassifier\n",
    "from sklearn.model_selection import cross_validate\n",
    "from sklearn.metrics import accuracy_score, precision_score, recall_score, f1_score, roc_auc_score\n",
    "import numpy as np\n",
    "\n",
    "base_model = XGBClassifier()\n",
    "\n",
    "bagging_model = BaggingClassifier(base_model, n_estimators=10, random_state=42)\n",
    "\n",
    "scoring = ['accuracy', 'precision', 'recall', 'f1', 'roc_auc']\n",
    "scores_bagging = cross_validate(bagging_model, X, y, scoring=scoring, cv=5, n_jobs=-1)\n",
    "\n",
    "for metric in scoring:\n",
    "    print(f\"Mean {metric}: {np.mean(scores_bagging['test_' + metric]):.5f}\")"
   ]
  },
  {
   "cell_type": "code",
   "execution_count": 257,
   "id": "a250c8f2-aeba-42ec-9f61-a07a1336eee2",
   "metadata": {},
   "outputs": [],
   "source": [
    "import pickle"
   ]
  },
  {
   "cell_type": "code",
   "execution_count": 258,
   "id": "df15cdb9-19ee-45fe-b7c8-ba12e7aa5376",
   "metadata": {},
   "outputs": [
    {
     "name": "stdout",
     "output_type": "stream",
     "text": [
      "Stored 'df_descriptive' (DataFrame)\n"
     ]
    }
   ],
   "source": [
    "%store df_descriptive"
   ]
  },
  {
   "cell_type": "code",
   "execution_count": 259,
   "id": "8fedb6fe-eb23-4586-a85f-d603f4fadd11",
   "metadata": {},
   "outputs": [
    {
     "name": "stdout",
     "output_type": "stream",
     "text": [
      "Stored 'df_grpd_age_short_sorted' (DataFrame)\n"
     ]
    }
   ],
   "source": [
    "%store df_grpd_age_short_sorted"
   ]
  },
  {
   "cell_type": "code",
   "execution_count": 260,
   "id": "b70c0611-1539-415d-8ef7-4df1b1026ff1",
   "metadata": {},
   "outputs": [
    {
     "name": "stdout",
     "output_type": "stream",
     "text": [
      "Stored 'X' (DataFrame)\n"
     ]
    }
   ],
   "source": [
    "%store X"
   ]
  },
  {
   "cell_type": "code",
   "execution_count": 261,
   "id": "c10c9212-36ed-4da8-8bcc-088cf50f86df",
   "metadata": {},
   "outputs": [
    {
     "name": "stdout",
     "output_type": "stream",
     "text": [
      "Stored 'y' (Series)\n"
     ]
    }
   ],
   "source": [
    "%store y"
   ]
  }
 ],
 "metadata": {
  "kernelspec": {
   "display_name": "Python 3 (ipykernel)",
   "language": "python",
   "name": "python3"
  },
  "language_info": {
   "codemirror_mode": {
    "name": "ipython",
    "version": 3
   },
   "file_extension": ".py",
   "mimetype": "text/x-python",
   "name": "python",
   "nbconvert_exporter": "python",
   "pygments_lexer": "ipython3",
   "version": "3.11.9"
  }
 },
 "nbformat": 4,
 "nbformat_minor": 5
}
