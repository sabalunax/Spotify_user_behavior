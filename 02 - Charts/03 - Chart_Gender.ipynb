{
 "cells": [
  {
   "cell_type": "code",
   "execution_count": 1,
   "id": "f5b913fc-cc67-48b8-979a-c9bb1b7370ae",
   "metadata": {},
   "outputs": [],
   "source": [
    "import pickle"
   ]
  },
  {
   "cell_type": "code",
   "execution_count": 2,
   "id": "8f184079-7839-4a64-9428-ccdd6bd8fb43",
   "metadata": {},
   "outputs": [],
   "source": [
    "%store -r df_descriptive"
   ]
  },
  {
   "cell_type": "code",
   "execution_count": 3,
   "id": "c9201014-cc32-4805-b79b-a0a2b0c3c558",
   "metadata": {},
   "outputs": [
    {
     "data": {
      "text/plain": [
       "'https://plotly.com/~sabalunax/19/'"
      ]
     },
     "execution_count": 3,
     "metadata": {},
     "output_type": "execute_result"
    }
   ],
   "source": [
    "import chart_studio\n",
    "import chart_studio.plotly as py\n",
    "import plotly.express as px\n",
    "\n",
    "import plotly.express as px\n",
    "\n",
    "mean_rating = df_descriptive.groupby('Gender')['music_recc_rating'].mean().reset_index()\n",
    "\n",
    "username = 'sabalunax'\n",
    "api_key = 'xxx'\n",
    "\n",
    "import plotly.graph_objects as go\n",
    "import plotly.express as px\n",
    "\n",
    "fig = go.Figure()\n",
    "\n",
    "palette = px.colors.qualitative.Dark2\n",
    "\n",
    "bars = []\n",
    "for gender, rating, color in zip(mean_rating['Gender'], mean_rating['music_recc_rating'], palette):\n",
    "    bar = go.Bar(x=[gender], y=[rating], name=gender, hoverinfo='text', text='',\n",
    "                 hovertext=f'{gender}: {rating:.2f}', \n",
    "                 marker_color=color, opacity=0.6)\n",
    "    bars.append(bar)\n",
    "    fig.add_trace(bar)\n",
    "\n",
    "fig.update_layout(\n",
    "    title='Music rating by gender',\n",
    "    title_x=0.5,\n",
    "    xaxis=dict(title='Gender'),\n",
    "    yaxis=dict(title='Average music rating', range=[0, 4], showgrid = True, showline=True, gridcolor='lightgrey'),\n",
    "    margin=dict(l=50, r=50, t=50, b=50),\n",
    "    width=800,\n",
    "    height=450,\n",
    "    plot_bgcolor='white'\n",
    ")\n",
    "\n",
    "fig.update_layout(showlegend=True)\n",
    "\n",
    "py.plot(fig, filename='Gender', auto_open=True, sharing='public')"
   ]
  }
 ],
 "metadata": {
  "kernelspec": {
   "display_name": "Python 3 (ipykernel)",
   "language": "python",
   "name": "python3"
  },
  "language_info": {
   "codemirror_mode": {
    "name": "ipython",
    "version": 3
   },
   "file_extension": ".py",
   "mimetype": "text/x-python",
   "name": "python",
   "nbconvert_exporter": "python",
   "pygments_lexer": "ipython3",
   "version": "3.11.9"
  }
 },
 "nbformat": 4,
 "nbformat_minor": 5
}
